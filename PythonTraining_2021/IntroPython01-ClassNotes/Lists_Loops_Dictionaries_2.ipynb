{
 "cells": [
  {
   "cell_type": "markdown",
   "metadata": {},
   "source": [
    "# Lists\n",
    "\n",
    "* A list is a container that can store anything you want.\n",
    "\n",
    "* Empty list or String list or Integer List or Mixed list or List of list\n",
    "\n",
    "* Ordered, Changeable, Allow duplicate values"
   ]
  },
  {
   "cell_type": "code",
   "execution_count": 1,
   "metadata": {
    "collapsed": true,
    "jupyter": {
     "outputs_hidden": true
    }
   },
   "outputs": [
    {
     "name": "stdout",
     "output_type": "stream",
     "text": [
      "Oth index is Computer Science\n",
      "2nd index is Social Science\n"
     ]
    }
   ],
   "source": [
    "## Let's create a list of strings\n",
    "\n",
    "faculty =[\"Computer Science\",\"Population Health\",\"Social Science\",\"Humanities\",\"Education\"]\n",
    "print(\"Oth index is \"+faculty[0])\n",
    "print(\"2nd index is \"+faculty[2])"
   ]
  },
  {
   "cell_type": "code",
   "execution_count": 2,
   "metadata": {
    "collapsed": true,
    "jupyter": {
     "outputs_hidden": true
    }
   },
   "outputs": [
    {
     "name": "stdout",
     "output_type": "stream",
     "text": [
      "['Computer Science', 'Population Health', 'Social Science', 'Humanities', 'Education', 'Law']\n"
     ]
    }
   ],
   "source": [
    "faculty.append(\"Law\")\n",
    "print(faculty)"
   ]
  },
  {
   "cell_type": "code",
   "execution_count": 3,
   "metadata": {
    "collapsed": true,
    "jupyter": {
     "outputs_hidden": true
    }
   },
   "outputs": [
    {
     "name": "stdout",
     "output_type": "stream",
     "text": [
      "['Computer Science', 'Population Health', 'Social Science', 'Education', 'Law']\n"
     ]
    }
   ],
   "source": [
    "faculty.remove(\"Humanities\")\n",
    "print(faculty)"
   ]
  },
  {
   "cell_type": "code",
   "execution_count": 4,
   "metadata": {
    "collapsed": true,
    "jupyter": {
     "outputs_hidden": true
    }
   },
   "outputs": [
    {
     "name": "stdout",
     "output_type": "stream",
     "text": [
      "['Computer Science', 'Population Health', 'Economics', 'Education', 'Law']\n"
     ]
    }
   ],
   "source": [
    "# Elements can be modified\n",
    "\n",
    "faculty[2] = \"Economics\"\n",
    "print(faculty)"
   ]
  },
  {
   "cell_type": "code",
   "execution_count": 5,
   "metadata": {
    "collapsed": true,
    "jupyter": {
     "outputs_hidden": true
    }
   },
   "outputs": [
    {
     "name": "stdout",
     "output_type": "stream",
     "text": [
      "['Computer Science', 'Population Health', 'Economics', 'Education', 'Law', 'Computer Science']\n"
     ]
    }
   ],
   "source": [
    "# Can have multiple elements with same name\n",
    "\n",
    "faculty.append(\"Computer Science\")\n",
    "print(faculty)"
   ]
  },
  {
   "cell_type": "code",
   "execution_count": 6,
   "metadata": {
    "collapsed": true,
    "jupyter": {
     "outputs_hidden": true
    }
   },
   "outputs": [
    {
     "name": "stdout",
     "output_type": "stream",
     "text": [
      "False\n"
     ]
    }
   ],
   "source": [
    "## Check if the item is in the list. Maybe we don't want to add item that is in the list\n",
    "\n",
    "if \"Humanities\" in faculty:\n",
    "    print (\"True\")\n",
    "else:\n",
    "     print (\"False\")\n",
    "\n"
   ]
  },
  {
   "cell_type": "markdown",
   "metadata": {},
   "source": [
    "# Tuples\n",
    "\n",
    "Tuples are like lists, except that they cannot be modified once created, that is they are *immutable*. \n",
    "\n",
    "In Python, tuples are created using the syntax `(..., ..., ...)`, or even `..., ...`:"
   ]
  },
  {
   "cell_type": "code",
   "execution_count": 7,
   "metadata": {
    "collapsed": true,
    "jupyter": {
     "outputs_hidden": true
    }
   },
   "outputs": [
    {
     "name": "stdout",
     "output_type": "stream",
     "text": [
      "(10, 20) <class 'tuple'>\n"
     ]
    }
   ],
   "source": [
    "point = (10, 20)\n",
    "\n",
    "print(point, type(point))"
   ]
  },
  {
   "cell_type": "code",
   "execution_count": 8,
   "metadata": {
    "collapsed": true,
    "jupyter": {
     "outputs_hidden": true
    }
   },
   "outputs": [
    {
     "name": "stdout",
     "output_type": "stream",
     "text": [
      "(10, 20) <class 'tuple'>\n"
     ]
    }
   ],
   "source": [
    "point = 10, 20\n",
    "\n",
    "print(point, type(point))"
   ]
  },
  {
   "cell_type": "code",
   "execution_count": 9,
   "metadata": {
    "collapsed": true,
    "jupyter": {
     "outputs_hidden": true
    }
   },
   "outputs": [
    {
     "name": "stdout",
     "output_type": "stream",
     "text": [
      "(10, 20, 20)\n"
     ]
    }
   ],
   "source": [
    "point = 10, 20, 20\n",
    "\n",
    "print(point)"
   ]
  },
  {
   "cell_type": "markdown",
   "metadata": {},
   "source": [
    "We can unpack a tuple by assigning it to a comma-separated list of variables:"
   ]
  },
  {
   "cell_type": "code",
   "execution_count": 10,
   "metadata": {
    "collapsed": true,
    "jupyter": {
     "outputs_hidden": true
    }
   },
   "outputs": [
    {
     "ename": "ValueError",
     "evalue": "too many values to unpack (expected 2)",
     "output_type": "error",
     "traceback": [
      "\u001b[0;31m---------------------------------------------------------------------------\u001b[0m",
      "\u001b[0;31mValueError\u001b[0m                                Traceback (most recent call last)",
      "\u001b[0;32m<ipython-input-10-5f09214b51d4>\u001b[0m in \u001b[0;36m<module>\u001b[0;34m\u001b[0m\n\u001b[0;32m----> 1\u001b[0;31m \u001b[0mx\u001b[0m\u001b[0;34m,\u001b[0m \u001b[0my\u001b[0m \u001b[0;34m=\u001b[0m \u001b[0mpoint\u001b[0m\u001b[0;34m\u001b[0m\u001b[0;34m\u001b[0m\u001b[0m\n\u001b[0m\u001b[1;32m      2\u001b[0m \u001b[0;34m\u001b[0m\u001b[0m\n\u001b[1;32m      3\u001b[0m \u001b[0mprint\u001b[0m\u001b[0;34m(\u001b[0m\u001b[0;34m\"x =\"\u001b[0m\u001b[0;34m,\u001b[0m \u001b[0mx\u001b[0m\u001b[0;34m)\u001b[0m\u001b[0;34m\u001b[0m\u001b[0;34m\u001b[0m\u001b[0m\n\u001b[1;32m      4\u001b[0m \u001b[0mprint\u001b[0m\u001b[0;34m(\u001b[0m\u001b[0;34m\"y =\"\u001b[0m\u001b[0;34m,\u001b[0m \u001b[0my\u001b[0m\u001b[0;34m)\u001b[0m\u001b[0;34m\u001b[0m\u001b[0;34m\u001b[0m\u001b[0m\n",
      "\u001b[0;31mValueError\u001b[0m: too many values to unpack (expected 2)"
     ]
    }
   ],
   "source": [
    "x, y = point\n",
    "\n",
    "print(\"x =\", x)\n",
    "print(\"y =\", y)"
   ]
  },
  {
   "cell_type": "code",
   "execution_count": 11,
   "metadata": {
    "collapsed": true,
    "jupyter": {
     "outputs_hidden": true
    }
   },
   "outputs": [
    {
     "name": "stdout",
     "output_type": "stream",
     "text": [
      "[10, 20]\n",
      "[10, 20, 30]\n"
     ]
    }
   ],
   "source": [
    "point = (10, 20)\n",
    "pointList = list(point)\n",
    "print(pointList)\n",
    "pointList.append(30)\n",
    "print(pointList)"
   ]
  },
  {
   "cell_type": "markdown",
   "metadata": {},
   "source": [
    "# Set\n",
    "\n",
    "* Unordered and unindexed\n",
    "* Do not allow duplicate values\n",
    "* Can contain different data types"
   ]
  },
  {
   "cell_type": "code",
   "execution_count": 12,
   "metadata": {
    "collapsed": true,
    "jupyter": {
     "outputs_hidden": true
    }
   },
   "outputs": [
    {
     "name": "stdout",
     "output_type": "stream",
     "text": [
      "{'Social Science', 'Computer Science', 'Humanities', 'Education', 'Population Health'}\n"
     ]
    }
   ],
   "source": [
    "myset = {\"Computer Science\",\"Population Health\",\"Social Science\",\"Humanities\",\"Education\", \"Computer Science\"}\n",
    "print (myset)"
   ]
  },
  {
   "cell_type": "code",
   "execution_count": 13,
   "metadata": {
    "collapsed": true,
    "jupyter": {
     "outputs_hidden": true
    }
   },
   "outputs": [
    {
     "name": "stdout",
     "output_type": "stream",
     "text": [
      "{1, 2.45, 'Computer Science'}\n"
     ]
    }
   ],
   "source": [
    "myset = {\"Computer Science\", 1, 2.45, True}\n",
    "print (myset)"
   ]
  },
  {
   "cell_type": "code",
   "execution_count": 14,
   "metadata": {
    "collapsed": true,
    "jupyter": {
     "outputs_hidden": true
    }
   },
   "outputs": [
    {
     "name": "stdout",
     "output_type": "stream",
     "text": [
      "{1, 2.45, 'Law', 'Computer Science'}\n"
     ]
    }
   ],
   "source": [
    "myset = {\"Computer Science\", 1, 2.45, True}\n",
    "myset.add(\"Law\")\n",
    "print (myset)"
   ]
  },
  {
   "cell_type": "code",
   "execution_count": 15,
   "metadata": {
    "collapsed": true,
    "jupyter": {
     "outputs_hidden": true
    }
   },
   "outputs": [
    {
     "name": "stdout",
     "output_type": "stream",
     "text": [
      "{1, 2.45, 'Social Science', 'Population Health', 'Computer Science'}\n"
     ]
    }
   ],
   "source": [
    "# to add multiple items use update(). update() take any object like list, tuple, dictionaries\n",
    "\n",
    "myset = {\"Computer Science\", 1, 2.45, True}\n",
    "nextset = {\"Social Science\",\"Population Health\" }\n",
    "myset.update(nextset)\n",
    "print (myset)"
   ]
  },
  {
   "cell_type": "code",
   "execution_count": 16,
   "metadata": {
    "collapsed": true,
    "jupyter": {
     "outputs_hidden": true
    }
   },
   "outputs": [
    {
     "name": "stdout",
     "output_type": "stream",
     "text": [
      "{1, 2.45, 'Social Science', 'Computer Science', 'Population Health'}\n"
     ]
    }
   ],
   "source": [
    "myset = {\"Computer Science\", 1, 2.45, True}\n",
    "nextset = [\"Social Science\",\"Population Health\" ]\n",
    "myset.update(nextset)\n",
    "print (myset)"
   ]
  },
  {
   "cell_type": "code",
   "execution_count": 17,
   "metadata": {
    "collapsed": true,
    "jupyter": {
     "outputs_hidden": true
    }
   },
   "outputs": [
    {
     "name": "stdout",
     "output_type": "stream",
     "text": [
      "{2.45, 'Computer Science'}\n"
     ]
    }
   ],
   "source": [
    "# To remove set items\n",
    "\n",
    "myset = {\"Computer Science\", 1, 2.45, True}\n",
    "myset.remove(1)\n",
    "print (myset)"
   ]
  },
  {
   "cell_type": "code",
   "execution_count": 18,
   "metadata": {
    "collapsed": true,
    "jupyter": {
     "outputs_hidden": true
    }
   },
   "outputs": [
    {
     "name": "stdout",
     "output_type": "stream",
     "text": [
      "{2.45, 'Computer Science'}\n",
      "set()\n"
     ]
    },
    {
     "ename": "NameError",
     "evalue": "name 'myset' is not defined",
     "output_type": "error",
     "traceback": [
      "\u001b[0;31m---------------------------------------------------------------------------\u001b[0m",
      "\u001b[0;31mNameError\u001b[0m                                 Traceback (most recent call last)",
      "\u001b[0;32m<ipython-input-18-229dd1d8c048>\u001b[0m in \u001b[0;36m<module>\u001b[0;34m\u001b[0m\n\u001b[1;32m      9\u001b[0m \u001b[0mmyset\u001b[0m \u001b[0;34m=\u001b[0m \u001b[0;34m{\u001b[0m\u001b[0;34m\"Computer Science\"\u001b[0m\u001b[0;34m,\u001b[0m \u001b[0;36m1\u001b[0m\u001b[0;34m,\u001b[0m \u001b[0;36m2.45\u001b[0m\u001b[0;34m,\u001b[0m \u001b[0;32mTrue\u001b[0m\u001b[0;34m}\u001b[0m\u001b[0;34m\u001b[0m\u001b[0;34m\u001b[0m\u001b[0m\n\u001b[1;32m     10\u001b[0m \u001b[0;32mdel\u001b[0m \u001b[0mmyset\u001b[0m\u001b[0;34m\u001b[0m\u001b[0;34m\u001b[0m\u001b[0m\n\u001b[0;32m---> 11\u001b[0;31m \u001b[0mprint\u001b[0m \u001b[0;34m(\u001b[0m\u001b[0mmyset\u001b[0m\u001b[0;34m)\u001b[0m\u001b[0;34m\u001b[0m\u001b[0;34m\u001b[0m\u001b[0m\n\u001b[0m",
      "\u001b[0;31mNameError\u001b[0m: name 'myset' is not defined"
     ]
    }
   ],
   "source": [
    "# Methods like pop(), clear(), del\n",
    "\n",
    "myset = {\"Computer Science\", 1, 2.45, True}\n",
    "myset.pop()\n",
    "print (myset)\n",
    "myset = {\"Computer Science\", 1, 2.45, True}\n",
    "myset.clear()\n",
    "print (myset)\n",
    "myset = {\"Computer Science\", 1, 2.45, True}\n",
    "del myset\n",
    "print (myset)\n"
   ]
  },
  {
   "cell_type": "markdown",
   "metadata": {},
   "source": [
    "# Dictionary\n",
    "\n",
    "https://docs.python.org/3/tutorial/datastructures.html#dictionaries\n",
    "\n",
    "Dictionary maps keys to the values.\n",
    "\n",
    "Dictionary can hold anything like lists: numbers, strings, mixed of both and other objects"
   ]
  },
  {
   "cell_type": "code",
   "execution_count": 19,
   "metadata": {
    "collapsed": true,
    "jupyter": {
     "outputs_hidden": true
    }
   },
   "outputs": [
    {
     "name": "stdout",
     "output_type": "stream",
     "text": [
      "{'Computer Science': 101, 'Population Science': 104, 'Arts': 109}\n"
     ]
    }
   ],
   "source": [
    "# Let's create a dictionary of string to numbers\n",
    "faculty ={\"Computer Science\":101,\"Population Science\":104,\n",
    "          \"Arts\":109\n",
    "}\n",
    "\n",
    "print(faculty)"
   ]
  },
  {
   "cell_type": "code",
   "execution_count": 20,
   "metadata": {
    "collapsed": true,
    "jupyter": {
     "outputs_hidden": true
    }
   },
   "outputs": [
    {
     "name": "stdout",
     "output_type": "stream",
     "text": [
      "{}\n"
     ]
    }
   ],
   "source": [
    "# Create an empty dictionary \n",
    "\n",
    "faculty = {}\n",
    "\n",
    "print(faculty)"
   ]
  },
  {
   "cell_type": "code",
   "execution_count": 21,
   "metadata": {
    "collapsed": true,
    "jupyter": {
     "outputs_hidden": true
    }
   },
   "outputs": [
    {
     "data": {
      "text/plain": [
       "0"
      ]
     },
     "execution_count": 21,
     "metadata": {},
     "output_type": "execute_result"
    }
   ],
   "source": [
    "# Length of dictionary\n",
    "\n",
    "len(faculty)\n"
   ]
  },
  {
   "cell_type": "code",
   "execution_count": 22,
   "metadata": {
    "collapsed": true,
    "jupyter": {
     "outputs_hidden": true
    }
   },
   "outputs": [
    {
     "name": "stdout",
     "output_type": "stream",
     "text": [
      "{'Computer Science': 101, 'Population Science': 104}\n"
     ]
    }
   ],
   "source": [
    "# Add keys and values to the dictionary\n",
    "faculty = {}\n",
    "\n",
    "faculty[\"Computer Science\"] = 101\n",
    "faculty[\"Population Science\"]= 104\n",
    "\n",
    "print(faculty)"
   ]
  },
  {
   "cell_type": "code",
   "execution_count": 23,
   "metadata": {
    "collapsed": true,
    "jupyter": {
     "outputs_hidden": true
    }
   },
   "outputs": [
    {
     "name": "stdout",
     "output_type": "stream",
     "text": [
      "{'Computer Science': 101, 'Population Science': 108}\n"
     ]
    }
   ],
   "source": [
    "# Updating values in the dictionary\n",
    "\n",
    "faculty[\"Population Science\"]= 108\n",
    "\n",
    "print(faculty)"
   ]
  },
  {
   "cell_type": "code",
   "execution_count": 24,
   "metadata": {
    "collapsed": true,
    "jupyter": {
     "outputs_hidden": true
    }
   },
   "outputs": [
    {
     "name": "stdout",
     "output_type": "stream",
     "text": [
      "{'Computer Science': 101}\n"
     ]
    }
   ],
   "source": [
    "# Deleting items(keys and values) from the dictionary\n",
    "\n",
    "del faculty[\"Population Science\"]\n",
    "\n",
    "print (faculty)"
   ]
  },
  {
   "cell_type": "code",
   "execution_count": 25,
   "metadata": {
    "collapsed": true,
    "jupyter": {
     "outputs_hidden": true
    }
   },
   "outputs": [
    {
     "ename": "KeyError",
     "evalue": "'Law'",
     "output_type": "error",
     "traceback": [
      "\u001b[0;31m---------------------------------------------------------------------------\u001b[0m",
      "\u001b[0;31mKeyError\u001b[0m                                  Traceback (most recent call last)",
      "\u001b[0;32m<ipython-input-25-9b55b860f6c9>\u001b[0m in \u001b[0;36m<module>\u001b[0;34m\u001b[0m\n\u001b[1;32m      1\u001b[0m \u001b[0;31m# Trying to access key that doesn't exist\u001b[0m\u001b[0;34m\u001b[0m\u001b[0;34m\u001b[0m\u001b[0;34m\u001b[0m\u001b[0m\n\u001b[1;32m      2\u001b[0m \u001b[0;34m\u001b[0m\u001b[0m\n\u001b[0;32m----> 3\u001b[0;31m \u001b[0mprint\u001b[0m\u001b[0;34m(\u001b[0m\u001b[0mfaculty\u001b[0m\u001b[0;34m[\u001b[0m\u001b[0;34m\"Law\"\u001b[0m\u001b[0;34m]\u001b[0m\u001b[0;34m)\u001b[0m\u001b[0;34m\u001b[0m\u001b[0;34m\u001b[0m\u001b[0m\n\u001b[0m",
      "\u001b[0;31mKeyError\u001b[0m: 'Law'"
     ]
    }
   ],
   "source": [
    "# Trying to access key that doesn't exist\n",
    "\n",
    "print(faculty[\"Law\"])"
   ]
  },
  {
   "cell_type": "code",
   "execution_count": 26,
   "metadata": {
    "collapsed": true,
    "jupyter": {
     "outputs_hidden": true
    }
   },
   "outputs": [
    {
     "name": "stdout",
     "output_type": "stream",
     "text": [
      "None\n"
     ]
    }
   ],
   "source": [
    "# Using get function won't crash the program.\n",
    "\n",
    "print(faculty.get(\"Law\"))\n",
    "\n",
    "# None is the type that represents the absence of value\n"
   ]
  },
  {
   "cell_type": "code",
   "execution_count": 27,
   "metadata": {
    "collapsed": true,
    "jupyter": {
     "outputs_hidden": true
    }
   },
   "outputs": [
    {
     "data": {
      "text/plain": [
       "dict_keys(['Computer Science', 'Population Science', 'Arts'])"
      ]
     },
     "execution_count": 27,
     "metadata": {},
     "output_type": "execute_result"
    }
   ],
   "source": [
    "# Get list of keys and values\n",
    "faculty ={\"Computer Science\":101,\"Population Science\":104,\n",
    "          \"Arts\":109\n",
    "}\n",
    "faculty.keys()"
   ]
  },
  {
   "cell_type": "code",
   "execution_count": 28,
   "metadata": {
    "collapsed": true,
    "jupyter": {
     "outputs_hidden": true
    }
   },
   "outputs": [
    {
     "data": {
      "text/plain": [
       "dict_values([101, 104, 109])"
      ]
     },
     "execution_count": 28,
     "metadata": {},
     "output_type": "execute_result"
    }
   ],
   "source": [
    "faculty.values()\n"
   ]
  },
  {
   "cell_type": "markdown",
   "metadata": {},
   "source": [
    "## Nested Dictionaries"
   ]
  },
  {
   "cell_type": "code",
   "execution_count": 37,
   "metadata": {
    "collapsed": true,
    "jupyter": {
     "outputs_hidden": true
    }
   },
   "outputs": [
    {
     "name": "stdout",
     "output_type": "stream",
     "text": [
      "{'GSU': {'Computer Science': 101, 'Population Science': 104}, 'Georgia Tech': {'Computer Science': 301, 'Population Science': 307}, 'Emory': {'Computer Science': 411, 'Population Science': 415}}\n"
     ]
    }
   ],
   "source": [
    "University = {\n",
    "  \"GSU\" : {\n",
    "    \"Computer Science\" : 101,\n",
    "    \"Population Science\" : 104\n",
    "  },\n",
    "  \"Georgia Tech\" : {\n",
    "    \"Computer Science\" : 301,\n",
    "    \"Population Science\" : 307\n",
    "  },\n",
    "  \"Emory\" : {\n",
    "    \"Computer Science\" : 411,\n",
    "    \"Population Science\" : 415\n",
    "  }\n",
    "}\n",
    "\n",
    "\n",
    "print(University)"
   ]
  },
  {
   "cell_type": "code",
   "execution_count": 46,
   "metadata": {
    "collapsed": true,
    "jupyter": {
     "outputs_hidden": true
    }
   },
   "outputs": [
    {
     "name": "stdout",
     "output_type": "stream",
     "text": [
      "{'GSU': {'Computer Science': 101, 'Population Science': 104}, 'Georgia Tech': {'Computer Science': 301, 'Population Science': 307}, 'Emory': {'Computer Science': 411, 'Population Science': 415}, 'KSU': 101}\n",
      "{'GSU': {'Computer Science': 101, 'Population Science': 104}, 'Georgia Tech': {'Computer Science': 301, 'Population Science': 307}, 'Emory': {'Computer Science': 411, 'Population Science': 415}, 'KSU': {'Computer Science': 101, 'Population Science': 104}}\n"
     ]
    }
   ],
   "source": [
    "University[\"KSU\"] = 101\n",
    "print(University)\n",
    "\n",
    "\n",
    "University[\"KSU\"] = {'Computer Science': 101, 'Population Science': 104}\n",
    "print(University)"
   ]
  },
  {
   "cell_type": "markdown",
   "metadata": {},
   "source": [
    "# Loops"
   ]
  },
  {
   "cell_type": "markdown",
   "metadata": {},
   "source": [
    "## For Loops"
   ]
  },
  {
   "cell_type": "code",
   "execution_count": 29,
   "metadata": {
    "collapsed": true,
    "jupyter": {
     "outputs_hidden": true
    }
   },
   "outputs": [
    {
     "name": "stdout",
     "output_type": "stream",
     "text": [
      "Computer Science\n",
      "Population Health\n",
      "Social Science\n",
      "Humanities\n",
      "Education\n"
     ]
    }
   ],
   "source": [
    "# f is the variable\n",
    "\n",
    "faculty =[\"Computer Science\",\"Population Health\",\"Social Science\",\"Humanities\",\"Education\"]\n",
    "\n",
    "for f in faculty:\n",
    "    print(f)"
   ]
  },
  {
   "cell_type": "code",
   "execution_count": 30,
   "metadata": {
    "collapsed": true,
    "jupyter": {
     "outputs_hidden": true
    }
   },
   "outputs": [
    {
     "name": "stdout",
     "output_type": "stream",
     "text": [
      "<class 'int'>\n",
      "<class 'int'>\n",
      "<class 'int'>\n",
      "<class 'float'>\n",
      "Total Funding is $27.5 thousand dollars\n",
      "<class 'float'>\n"
     ]
    }
   ],
   "source": [
    "funding = [10,3,6.0,8.5]\n",
    "total =0\n",
    "for fund in funding:\n",
    "    print(type(total))\n",
    "    total = total+fund\n",
    "\n",
    "print (\"Total Funding is $\"+str(total), \"thousand dollars\")\n",
    "print(type(total))"
   ]
  },
  {
   "cell_type": "code",
   "execution_count": 31,
   "metadata": {
    "collapsed": true,
    "jupyter": {
     "outputs_hidden": true
    }
   },
   "outputs": [
    {
     "name": "stdout",
     "output_type": "stream",
     "text": [
      "0\n",
      "1\n",
      "2\n",
      "3\n",
      "4\n",
      "5\n",
      "6\n"
     ]
    }
   ],
   "source": [
    "## range(start, stop, step)\n",
    "for i in range(7):\n",
    "        print(i) "
   ]
  },
  {
   "cell_type": "code",
   "execution_count": 32,
   "metadata": {
    "collapsed": true,
    "jupyter": {
     "outputs_hidden": true
    }
   },
   "outputs": [
    {
     "name": "stdout",
     "output_type": "stream",
     "text": [
      "Computer Science 101\n",
      "Population Science 104\n",
      "Arts 109\n",
      "Computer Science\n",
      "101\n",
      "Population Science\n",
      "104\n",
      "Arts\n",
      "109\n"
     ]
    }
   ],
   "source": [
    "# Looping through dictionary\n",
    "\n",
    "faculty ={\"Computer Science\":101,\"Population Science\":104,\n",
    "          \"Arts\":109\n",
    "}\n",
    "\n",
    "\n",
    "for k,v in faculty.items():\n",
    "    print(k,v)\n",
    "    \n",
    "    \n",
    "for k in faculty.keys():\n",
    "    print (k)\n",
    "    print(faculty[k])\n",
    "    \n",
    "    \n"
   ]
  },
  {
   "cell_type": "markdown",
   "metadata": {},
   "source": [
    "## While Loops"
   ]
  },
  {
   "cell_type": "code",
   "execution_count": 33,
   "metadata": {
    "collapsed": true,
    "jupyter": {
     "outputs_hidden": true
    }
   },
   "outputs": [
    {
     "name": "stdout",
     "output_type": "stream",
     "text": [
      "Computer Science\n",
      "Population Health\n",
      "Social Science\n",
      "Humanities\n",
      "Education\n"
     ]
    }
   ],
   "source": [
    "# Example\n",
    "\n",
    "faculty =[\"Computer Science\",\"Population Health\",\"Social Science\",\"Humanities\",\"Education\"]\n",
    "\n",
    "i = 0\n",
    "while i < len(faculty):\n",
    "    print (faculty[i])\n",
    "    i+=1\n",
    "    "
   ]
  },
  {
   "cell_type": "markdown",
   "metadata": {},
   "source": [
    "## Further reading\n",
    "\n",
    "* http://www.python.org - The official web page of the Python programming language.\n",
    "* http://www.python.org/dev/peps/pep-0008 - Style guide for Python programming. Highly recommended. \n",
    "* http://www.greenteapress.com/thinkpython/ - A free book on Python programming.\n",
    "* [Python Essential Reference](http://www.amazon.com/Python-Essential-Reference-4th-Edition/dp/0672329786) - A good reference book on Python programming.\n",
    "\n",
    "## Reference\n",
    "\n",
    "\n",
    "* Practical Python Beginner, https://app.pluralsight.com/\n",
    "\n",
    "* Based on J.R. Johansson (jrjohansson at gmail.com) online training materials The latest version of this IPython notebook lecture is available at http://github.com/jrjohansson/scientific-python-lectures. The other notebooks in this lecture series are indexed at http://jrjohansson.github.io.\n",
    "\n"
   ]
  },
  {
   "cell_type": "markdown",
   "metadata": {},
   "source": [
    "## Example"
   ]
  },
  {
   "cell_type": "code",
   "execution_count": 4,
   "metadata": {
    "collapsed": true,
    "jupyter": {
     "outputs_hidden": true
    }
   },
   "outputs": [],
   "source": [
    "## Get only the user name from the below list of dictionaries. List out the names in the form of list like [krish, devid, tin]\n",
    "\n",
    "# Data from https://www.learningcontainer.com/sample-json-file/"
   ]
  },
  {
   "cell_type": "code",
   "execution_count": 5,
   "metadata": {
    "collapsed": true,
    "jupyter": {
     "outputs_hidden": true
    }
   },
   "outputs": [],
   "source": [
    "employeeList = [\n",
    "    {\n",
    "      \"userId\": \"krish\",\n",
    "      \"jobTitle\": \"Developer\",\n",
    "      \"firstName\": \"Krish\",\n",
    "      \"lastName\": \"Lee\",\n",
    "      \"employeeCode\": \"E1\",\n",
    "      \"region\": \"CA\",\n",
    "      \"phoneNumber\": \"123456\",\n",
    "      \"emailAddress\": \"krish.lee@learningcontainer.com\"\n",
    "    },\n",
    "    {\n",
    "      \"userId\": \"devid\",\n",
    "      \"jobTitle\": \"Developer\",\n",
    "      \"firstName\": \"Devid\",\n",
    "      \"lastName\": \"Rome\",\n",
    "      \"employeeCode\": \"E2\",\n",
    "      \"region\": \"CA\",\n",
    "      \"phoneNumber\": \"1111111\",\n",
    "      \"emailAddress\": \"devid.rome@learningcontainer.com\"\n",
    "    },\n",
    "    {\n",
    "      \"userId\": \"tin\",\n",
    "      \"jobTitle\": \"Program Directory\",\n",
    "      \"firstName\": \"tin\",\n",
    "      \"lastName\": \"jonson\",\n",
    "      \"employeeCode\": \"E3\",\n",
    "      \"region\": \"CA\",\n",
    "      \"phoneNumber\": \"2222222\",\n",
    "      \"emailAddress\": \"tin.jonson@learningcontainer.com\"\n",
    "    }\n",
    "  ]"
   ]
  }
 ],
 "metadata": {
  "kernelspec": {
   "display_name": "Python 3",
   "language": "python",
   "name": "python3"
  },
  "language_info": {
   "codemirror_mode": {
    "name": "ipython",
    "version": 3
   },
   "file_extension": ".py",
   "mimetype": "text/x-python",
   "name": "python",
   "nbconvert_exporter": "python",
   "pygments_lexer": "ipython3",
   "version": "3.8.6"
  }
 },
 "nbformat": 4,
 "nbformat_minor": 4
}
