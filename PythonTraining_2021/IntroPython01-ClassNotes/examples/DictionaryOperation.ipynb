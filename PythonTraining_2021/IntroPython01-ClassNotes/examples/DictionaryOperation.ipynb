{
 "cells": [
  {
   "cell_type": "markdown",
   "metadata": {},
   "source": [
    "## Dictionary Example\n",
    "\n",
    " Get only the user name from the below list of dictionaries. List out the names in the form of list like [krish, devid, tin]\n",
    "\n",
    " Data from https://www.learningcontainer.com/sample-json-file/"
   ]
  },
  {
   "cell_type": "code",
   "execution_count": 1,
   "metadata": {},
   "outputs": [],
   "source": [
    "employeeList = [\n",
    "    {\n",
    "      \"userId\": \"krish\",\n",
    "      \"jobTitle\": \"Developer\",\n",
    "      \"firstName\": \"Krish\",\n",
    "      \"lastName\": \"Lee\",\n",
    "      \"employeeCode\": \"E1\",\n",
    "      \"region\": \"CA\",\n",
    "      \"phoneNumber\": \"123456\",\n",
    "      \"emailAddress\": \"krish.lee@learningcontainer.com\"\n",
    "    },\n",
    "    {\n",
    "      \"userId\": \"devid\",\n",
    "      \"jobTitle\": \"Developer\",\n",
    "      \"firstName\": \"Devid\",\n",
    "      \"lastName\": \"Rome\",\n",
    "      \"employeeCode\": \"E2\",\n",
    "      \"region\": \"CA\",\n",
    "      \"phoneNumber\": \"1111111\",\n",
    "      \"emailAddress\": \"devid.rome@learningcontainer.com\"\n",
    "    },\n",
    "    {\n",
    "      \"userId\": \"tin\",\n",
    "      \"jobTitle\": \"Program Directory\",\n",
    "      \"firstName\": \"tin\",\n",
    "      \"lastName\": \"jonson\",\n",
    "      \"employeeCode\": \"E3\",\n",
    "      \"region\": \"CA\",\n",
    "      \"phoneNumber\": \"2222222\",\n",
    "      \"emailAddress\": \"tin.jonson@learningcontainer.com\"\n",
    "    }\n",
    "  ]"
   ]
  },
  {
   "cell_type": "code",
   "execution_count": 2,
   "metadata": {},
   "outputs": [
    {
     "name": "stdout",
     "output_type": "stream",
     "text": [
      "['krish', 'devid', 'tin']\n"
     ]
    }
   ],
   "source": [
    "employeeNames =[]\n",
    "for employee in employeeList:\n",
    "    name = employee['userId']\n",
    "    employeeNames.append (name)\n",
    "\n",
    "print (employeeNames)"
   ]
  },
  {
   "cell_type": "code",
   "execution_count": null,
   "metadata": {},
   "outputs": [],
   "source": []
  }
 ],
 "metadata": {
  "kernelspec": {
   "display_name": "Python 3",
   "language": "python",
   "name": "python3"
  },
  "language_info": {
   "codemirror_mode": {
    "name": "ipython",
    "version": 3
   },
   "file_extension": ".py",
   "mimetype": "text/x-python",
   "name": "python",
   "nbconvert_exporter": "python",
   "pygments_lexer": "ipython3",
   "version": "3.8.6"
  }
 },
 "nbformat": 4,
 "nbformat_minor": 4
}
