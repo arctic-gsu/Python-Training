{
 "cells": [
  {
   "cell_type": "markdown",
   "metadata": {},
   "source": [
    "Create a class to manage your bank account. This class should have following functiality. deposit, withdraw and class itself should return the current balance of the account."
   ]
  },
  {
   "cell_type": "code",
   "execution_count": 1,
   "metadata": {},
   "outputs": [],
   "source": [
    "class BankAccount:\n",
    "    def __init__(self):\n",
    "        self.balance =0\n",
    "        print(\"Current balance is \",self.balance)\n",
    "                \n",
    "    def deposit(self):\n",
    "        amount = float(input(\"Enter amount to be deposited \"))\n",
    "        self.balance = self.balance+amount\n",
    "        print(\"Amount Deposited \",amount)\n",
    "        \n",
    "    def withdraw(self):\n",
    "        amount = float(input(\"Enter amount to be withdrawn \"))\n",
    "        if(self.balance<amount):\n",
    "            print(\"Cannot withdraw. You only have balance \",self.balance)\n",
    "        else:\n",
    "            self.balance = self.balance-amount\n",
    "            print(\"Amount Withdrawn \",amount)\n",
    "        \n",
    "        \n",
    "        "
   ]
  },
  {
   "cell_type": "code",
   "execution_count": 2,
   "metadata": {},
   "outputs": [
    {
     "name": "stdout",
     "output_type": "stream",
     "text": [
      "Current balance is  0\n"
     ]
    }
   ],
   "source": [
    "bank = BankAccount()"
   ]
  },
  {
   "cell_type": "code",
   "execution_count": null,
   "metadata": {},
   "outputs": [],
   "source": [
    "bank.deposit()\n"
   ]
  },
  {
   "cell_type": "code",
   "execution_count": null,
   "metadata": {},
   "outputs": [],
   "source": [
    "print(bank.balance)"
   ]
  },
  {
   "cell_type": "code",
   "execution_count": null,
   "metadata": {},
   "outputs": [],
   "source": [
    "bank.withdraw()"
   ]
  },
  {
   "cell_type": "code",
   "execution_count": null,
   "metadata": {},
   "outputs": [],
   "source": []
  }
 ],
 "metadata": {
  "kernelspec": {
   "display_name": "Python 3",
   "language": "python",
   "name": "python3"
  },
  "language_info": {
   "codemirror_mode": {
    "name": "ipython",
    "version": 3
   },
   "file_extension": ".py",
   "mimetype": "text/x-python",
   "name": "python",
   "nbconvert_exporter": "python",
   "pygments_lexer": "ipython3",
   "version": "3.8.6"
  }
 },
 "nbformat": 4,
 "nbformat_minor": 4
}
