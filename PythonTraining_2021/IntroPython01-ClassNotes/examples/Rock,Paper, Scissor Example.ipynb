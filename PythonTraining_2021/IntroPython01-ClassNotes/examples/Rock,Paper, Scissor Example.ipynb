{
 "cells": [
  {
   "cell_type": "markdown",
   "metadata": {},
   "source": [
    "Create a rock paper scissor game where you will provide the input and computer will choose randomly. Check who wins the\n",
    "\n",
    "game you or the computer."
   ]
  },
  {
   "cell_type": "code",
   "execution_count": 1,
   "metadata": {},
   "outputs": [
    {
     "name": "stdin",
     "output_type": "stream",
     "text": [
      "Enter your choice  rock\n"
     ]
    },
    {
     "name": "stdout",
     "output_type": "stream",
     "text": [
      "TIE\n"
     ]
    }
   ],
   "source": [
    "import random\n",
    "\n",
    "list = [\"rock\",\"paper\",\"scissors\"]\n",
    "computer_choice = random.choice(list)\n",
    "\n",
    "\n",
    "my_choice = input(\"Enter your choice \")\n",
    "\n",
    "\n",
    "if computer_choice == my_choice:\n",
    "    print(\"TIE\")\n",
    "elif computer_choice == 'rock' and my_choice =='scissors':\n",
    "    print (\"You lose. Computer had \"+computer_choice)\n",
    "elif computer_choice == 'paper' and my_choice == 'rock':\n",
    "    print(\"You lose. Computer had \"+computer_choice)\n",
    "elif computer_choice == 'scissors' and my_choice == 'paper':\n",
    "     print(\"You lose. Computer had \"+computer_choice)\n",
    "else:\n",
    "    print(\"You WIN. Computer had \"+computer_choice)\n"
   ]
  },
  {
   "cell_type": "code",
   "execution_count": null,
   "metadata": {},
   "outputs": [],
   "source": []
  }
 ],
 "metadata": {
  "kernelspec": {
   "display_name": "Python 3",
   "language": "python",
   "name": "python3"
  },
  "language_info": {
   "codemirror_mode": {
    "name": "ipython",
    "version": 3
   },
   "file_extension": ".py",
   "mimetype": "text/x-python",
   "name": "python",
   "nbconvert_exporter": "python",
   "pygments_lexer": "ipython3",
   "version": "3.8.6"
  }
 },
 "nbformat": 4,
 "nbformat_minor": 4
}
