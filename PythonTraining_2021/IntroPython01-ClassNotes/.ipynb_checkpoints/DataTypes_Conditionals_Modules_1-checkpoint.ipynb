{
 "cells": [
  {
   "cell_type": "markdown",
   "metadata": {},
   "source": [
    "# Python\n",
    "\n",
    "Python program files\n",
    "Python code is usually stored in text files with the file ending \".py\":\n",
    "\n",
    "$ python myprogram.py\n",
    "\n",
    "IPython notebooks\n",
    "This file - an IPython notebook - does not follow the standard pattern with Python code in a text file. Instead, an IPython notebook is stored as a file in the JSON format. The advantage is that we can mix formatted text, Python code and code output. It requires the IPython notebook server to run it though, and therefore isn't a stand-alone Python program as described above. Other than that, there is no difference between the Python code that goes into a program file or an IPython notebook.\n",
    "\n",
    "Python Applications\n",
    "1. Web Application Development\n",
    "2. Scientific and numeric Computing\n",
    "3. Game Development\n",
    "4. Machine Learning and AI\n",
    "5. Software Development\n"
   ]
  },
  {
   "cell_type": "markdown",
   "metadata": {},
   "source": [
    "## Data Types\n",
    "## Primitive Data Types\n",
    "\n",
    "1. int\n",
    "2. float\n",
    "3. str\n",
    "4. boolean"
   ]
  },
  {
   "cell_type": "markdown",
   "metadata": {},
   "source": [
    "Python assumes the variable based on the assigned value"
   ]
  },
  {
   "cell_type": "code",
   "execution_count": 2,
   "metadata": {},
   "outputs": [
    {
     "data": {
      "text/plain": [
       "int"
      ]
     },
     "execution_count": 2,
     "metadata": {},
     "output_type": "execute_result"
    }
   ],
   "source": [
    "\n",
    "amount = 10\n",
    "type(amount)\n"
   ]
  },
  {
   "cell_type": "code",
   "execution_count": 3,
   "metadata": {},
   "outputs": [
    {
     "data": {
      "text/plain": [
       "float"
      ]
     },
     "execution_count": 3,
     "metadata": {},
     "output_type": "execute_result"
    }
   ],
   "source": [
    "amount = 10.50\n",
    "type(amount)"
   ]
  },
  {
   "cell_type": "markdown",
   "metadata": {},
   "source": [
    "## Data type conversions"
   ]
  },
  {
   "cell_type": "code",
   "execution_count": 7,
   "metadata": {},
   "outputs": [
    {
     "name": "stdout",
     "output_type": "stream",
     "text": [
      "10\n"
     ]
    },
    {
     "data": {
      "text/plain": [
       "int"
      ]
     },
     "execution_count": 7,
     "metadata": {},
     "output_type": "execute_result"
    }
   ],
   "source": [
    "amount = int(10.6)\n",
    "print(amount)\n",
    "type(amount)"
   ]
  },
  {
   "cell_type": "code",
   "execution_count": 8,
   "metadata": {},
   "outputs": [
    {
     "name": "stdout",
     "output_type": "stream",
     "text": [
      "10.0\n"
     ]
    },
    {
     "data": {
      "text/plain": [
       "float"
      ]
     },
     "execution_count": 8,
     "metadata": {},
     "output_type": "execute_result"
    }
   ],
   "source": [
    "amount = float(10)\n",
    "print(amount)\n",
    "type(amount)"
   ]
  },
  {
   "cell_type": "markdown",
   "metadata": {},
   "source": [
    "## Creating a tax calculator\n"
   ]
  },
  {
   "cell_type": "code",
   "execution_count": 4,
   "metadata": {},
   "outputs": [
    {
     "data": {
      "text/plain": [
       "11.3"
      ]
     },
     "execution_count": 4,
     "metadata": {},
     "output_type": "execute_result"
    }
   ],
   "source": [
    "amount = 10\n",
    "tax = 0.13\n",
    "total = amount + amount*tax\n",
    "total"
   ]
  },
  {
   "cell_type": "markdown",
   "metadata": {},
   "source": [
    "## String\n",
    "\n",
    "Anything inside double quote or single quote is considered string"
   ]
  },
  {
   "cell_type": "code",
   "execution_count": 10,
   "metadata": {},
   "outputs": [
    {
     "name": "stdout",
     "output_type": "stream",
     "text": [
      "Python Training\n"
     ]
    },
    {
     "data": {
      "text/plain": [
       "str"
      ]
     },
     "execution_count": 10,
     "metadata": {},
     "output_type": "execute_result"
    }
   ],
   "source": [
    "name ='Python Training'\n",
    "print(name)\n",
    "type(name)"
   ]
  },
  {
   "cell_type": "code",
   "execution_count": 11,
   "metadata": {},
   "outputs": [
    {
     "ename": "SyntaxError",
     "evalue": "invalid syntax (<ipython-input-11-edbe4d701284>, line 1)",
     "output_type": "error",
     "traceback": [
      "\u001b[0;36m  File \u001b[0;32m\"<ipython-input-11-edbe4d701284>\"\u001b[0;36m, line \u001b[0;32m1\u001b[0m\n\u001b[0;31m    name ='python's training'\u001b[0m\n\u001b[0m                  ^\u001b[0m\n\u001b[0;31mSyntaxError\u001b[0m\u001b[0;31m:\u001b[0m invalid syntax\n"
     ]
    }
   ],
   "source": [
    "name ='python's training'\n",
    "name"
   ]
  },
  {
   "cell_type": "code",
   "execution_count": 12,
   "metadata": {},
   "outputs": [
    {
     "name": "stdout",
     "output_type": "stream",
     "text": [
      "Python's Training\n"
     ]
    },
    {
     "data": {
      "text/plain": [
       "str"
      ]
     },
     "execution_count": 12,
     "metadata": {},
     "output_type": "execute_result"
    }
   ],
   "source": [
    "name =\"Python's Training\"\n",
    "print(name)\n",
    "type(name)"
   ]
  },
  {
   "cell_type": "markdown",
   "metadata": {},
   "source": [
    "### String Concatenation"
   ]
  },
  {
   "cell_type": "code",
   "execution_count": 16,
   "metadata": {},
   "outputs": [
    {
     "name": "stdout",
     "output_type": "stream",
     "text": [
      "Welcome To Python Training\n"
     ]
    }
   ],
   "source": [
    "welcome = \"Welcome To\"\n",
    "training = \"Python Training\"\n",
    "\n",
    "greeting = welcome + \" \"+training\n",
    "print(greeting)"
   ]
  },
  {
   "cell_type": "markdown",
   "metadata": {},
   "source": [
    "## Python input function\n",
    "\n",
    "Just like print, input function is a built-in function in python\n",
    "\n"
   ]
  },
  {
   "cell_type": "code",
   "execution_count": 19,
   "metadata": {},
   "outputs": [
    {
     "name": "stdout",
     "output_type": "stream",
     "text": [
      "What's your name? Sanju\n",
      "Welcome To Python Training Sanju\n"
     ]
    }
   ],
   "source": [
    "name = input(\"What's your name? \")\n",
    "greeting = welcome + \" \"+training+ \" \"+ name\n",
    "print(greeting)"
   ]
  },
  {
   "cell_type": "markdown",
   "metadata": {},
   "source": [
    "#  Python Comparators\n",
    "\n",
    "1. (less than) < \n",
    "2. (less than equal to) <= \n",
    "3. (equal) == \n",
    "4. (greater than) > \n",
    "5. (greater than equal to) >= \n",
    "6. (not equal) != \n"
   ]
  },
  {
   "cell_type": "code",
   "execution_count": 2,
   "metadata": {},
   "outputs": [
    {
     "name": "stdout",
     "output_type": "stream",
     "text": [
      "True\n",
      "True\n"
     ]
    }
   ],
   "source": [
    "temp = 76\n",
    "print (temp == 76)\n",
    "print (temp < 90)"
   ]
  },
  {
   "cell_type": "markdown",
   "metadata": {},
   "source": [
    "## If Statement"
   ]
  },
  {
   "cell_type": "code",
   "execution_count": 3,
   "metadata": {},
   "outputs": [
    {
     "name": "stdout",
     "output_type": "stream",
     "text": [
      "It's too hot!\n"
     ]
    }
   ],
   "source": [
    "temp = 85\n",
    "\n",
    "if temp > 80:\n",
    "    print (\"It's too hot!\")\n",
    "else:\n",
    "    print (\"Let's go hiking\")"
   ]
  },
  {
   "cell_type": "code",
   "execution_count": 4,
   "metadata": {},
   "outputs": [
    {
     "name": "stdout",
     "output_type": "stream",
     "text": [
      "It's too cold\n"
     ]
    }
   ],
   "source": [
    "temp = 55\n",
    "\n",
    "if temp > 80:\n",
    "    print (\"It's too hot!\")\n",
    "elif temp < 60:\n",
    "    print (\"It's too cold\")\n",
    "else:\n",
    "    print (\"Let's go hiking\")"
   ]
  },
  {
   "cell_type": "markdown",
   "metadata": {},
   "source": [
    "## Logical Operator \n",
    "\n",
    "1. or\n",
    "2. and\n",
    "3. not"
   ]
  },
  {
   "cell_type": "code",
   "execution_count": 5,
   "metadata": {},
   "outputs": [
    {
     "name": "stdout",
     "output_type": "stream",
     "text": [
      "Let's stay inside\n"
     ]
    }
   ],
   "source": [
    "temp = 55\n",
    "\n",
    "if temp > 80 or temp < 60:\n",
    "    print (\"Let's stay inside\")\n",
    "else:\n",
    "    print (\"Let's go hiking\")\n",
    "    "
   ]
  },
  {
   "cell_type": "markdown",
   "metadata": {},
   "source": [
    "## Modules\n",
    "When you install python you get the Python interpreter, its built-in types and function and python standard library\n",
    "\n",
    "By using import module we can use it's function in our program.\n",
    "\n",
    "References\n",
    "The Python Language Reference: http://docs.python.org/2/reference/index.html\n",
    "The Python Standard Library: http://docs.python.org/2/library/\n",
    "\n",
    "To use a module in a Python program it first has to be imported. A module can be imported using the import statement. For example, to import the module math, which contains many standard mathematical functions, we can do:"
   ]
  },
  {
   "cell_type": "code",
   "execution_count": 12,
   "metadata": {},
   "outputs": [],
   "source": [
    "import random\n",
    "\n",
    "roll = random.randint(1,6)"
   ]
  },
  {
   "cell_type": "code",
   "execution_count": 13,
   "metadata": {},
   "outputs": [
    {
     "name": "stdout",
     "output_type": "stream",
     "text": [
      "Guess the dice roll3\n"
     ]
    }
   ],
   "source": [
    "guess = int (input(\"Guess the dice roll\"))"
   ]
  },
  {
   "cell_type": "code",
   "execution_count": 15,
   "metadata": {},
   "outputs": [
    {
     "name": "stdout",
     "output_type": "stream",
     "text": [
      "Your guess is wrong. Rolled number is  1\n"
     ]
    }
   ],
   "source": [
    "if guess==roll:\n",
    "    print(\"Your guess is right\")\n",
    "else:\n",
    "    print(\"Your guess is wrong. Rolled number is \",roll)"
   ]
  },
  {
   "cell_type": "code",
   "execution_count": 16,
   "metadata": {},
   "outputs": [
    {
     "data": {
      "text/plain": [
       "['BPF',\n",
       " 'LOG4',\n",
       " 'NV_MAGICCONST',\n",
       " 'RECIP_BPF',\n",
       " 'Random',\n",
       " 'SG_MAGICCONST',\n",
       " 'SystemRandom',\n",
       " 'TWOPI',\n",
       " '_BuiltinMethodType',\n",
       " '_MethodType',\n",
       " '_Sequence',\n",
       " '_Set',\n",
       " '__all__',\n",
       " '__builtins__',\n",
       " '__cached__',\n",
       " '__doc__',\n",
       " '__file__',\n",
       " '__loader__',\n",
       " '__name__',\n",
       " '__package__',\n",
       " '__spec__',\n",
       " '_acos',\n",
       " '_bisect',\n",
       " '_ceil',\n",
       " '_cos',\n",
       " '_e',\n",
       " '_exp',\n",
       " '_inst',\n",
       " '_itertools',\n",
       " '_log',\n",
       " '_pi',\n",
       " '_random',\n",
       " '_sha512',\n",
       " '_sin',\n",
       " '_sqrt',\n",
       " '_test',\n",
       " '_test_generator',\n",
       " '_urandom',\n",
       " '_warn',\n",
       " 'betavariate',\n",
       " 'choice',\n",
       " 'choices',\n",
       " 'expovariate',\n",
       " 'gammavariate',\n",
       " 'gauss',\n",
       " 'getrandbits',\n",
       " 'getstate',\n",
       " 'lognormvariate',\n",
       " 'normalvariate',\n",
       " 'paretovariate',\n",
       " 'randint',\n",
       " 'random',\n",
       " 'randrange',\n",
       " 'sample',\n",
       " 'seed',\n",
       " 'setstate',\n",
       " 'shuffle',\n",
       " 'triangular',\n",
       " 'uniform',\n",
       " 'vonmisesvariate',\n",
       " 'weibullvariate']"
      ]
     },
     "execution_count": 16,
     "metadata": {},
     "output_type": "execute_result"
    }
   ],
   "source": [
    "dir(random)"
   ]
  },
  {
   "cell_type": "code",
   "execution_count": 17,
   "metadata": {},
   "outputs": [
    {
     "name": "stdout",
     "output_type": "stream",
     "text": [
      "Help on method randint in module random:\n",
      "\n",
      "randint(a, b) method of random.Random instance\n",
      "    Return random integer in range [a, b], including both end points.\n",
      "\n"
     ]
    }
   ],
   "source": [
    "help(random.randint)"
   ]
  },
  {
   "cell_type": "code",
   "execution_count": 18,
   "metadata": {},
   "outputs": [],
   "source": [
    "import math"
   ]
  },
  {
   "cell_type": "code",
   "execution_count": 19,
   "metadata": {},
   "outputs": [
    {
     "data": {
      "text/plain": [
       "['__doc__',\n",
       " '__file__',\n",
       " '__loader__',\n",
       " '__name__',\n",
       " '__package__',\n",
       " '__spec__',\n",
       " 'acos',\n",
       " 'acosh',\n",
       " 'asin',\n",
       " 'asinh',\n",
       " 'atan',\n",
       " 'atan2',\n",
       " 'atanh',\n",
       " 'ceil',\n",
       " 'copysign',\n",
       " 'cos',\n",
       " 'cosh',\n",
       " 'degrees',\n",
       " 'e',\n",
       " 'erf',\n",
       " 'erfc',\n",
       " 'exp',\n",
       " 'expm1',\n",
       " 'fabs',\n",
       " 'factorial',\n",
       " 'floor',\n",
       " 'fmod',\n",
       " 'frexp',\n",
       " 'fsum',\n",
       " 'gamma',\n",
       " 'gcd',\n",
       " 'hypot',\n",
       " 'inf',\n",
       " 'isclose',\n",
       " 'isfinite',\n",
       " 'isinf',\n",
       " 'isnan',\n",
       " 'ldexp',\n",
       " 'lgamma',\n",
       " 'log',\n",
       " 'log10',\n",
       " 'log1p',\n",
       " 'log2',\n",
       " 'modf',\n",
       " 'nan',\n",
       " 'pi',\n",
       " 'pow',\n",
       " 'radians',\n",
       " 'sin',\n",
       " 'sinh',\n",
       " 'sqrt',\n",
       " 'tan',\n",
       " 'tanh',\n",
       " 'tau',\n",
       " 'trunc']"
      ]
     },
     "execution_count": 19,
     "metadata": {},
     "output_type": "execute_result"
    }
   ],
   "source": [
    "dir(math)"
   ]
  },
  {
   "cell_type": "code",
   "execution_count": 20,
   "metadata": {},
   "outputs": [
    {
     "name": "stdout",
     "output_type": "stream",
     "text": [
      "Help on built-in function sqrt in module math:\n",
      "\n",
      "sqrt(...)\n",
      "    sqrt(x)\n",
      "    \n",
      "    Return the square root of x.\n",
      "\n"
     ]
    }
   ],
   "source": [
    "help(math.sqrt)"
   ]
  },
  {
   "cell_type": "code",
   "execution_count": 21,
   "metadata": {},
   "outputs": [
    {
     "data": {
      "text/plain": [
       "6.0"
      ]
     },
     "execution_count": 21,
     "metadata": {},
     "output_type": "execute_result"
    }
   ],
   "source": [
    "math.sqrt(36)"
   ]
  },
  {
   "cell_type": "code",
   "execution_count": 22,
   "metadata": {},
   "outputs": [
    {
     "data": {
      "text/plain": [
       "['ArithmeticError',\n",
       " 'AssertionError',\n",
       " 'AttributeError',\n",
       " 'BaseException',\n",
       " 'BlockingIOError',\n",
       " 'BrokenPipeError',\n",
       " 'BufferError',\n",
       " 'BytesWarning',\n",
       " 'ChildProcessError',\n",
       " 'ConnectionAbortedError',\n",
       " 'ConnectionError',\n",
       " 'ConnectionRefusedError',\n",
       " 'ConnectionResetError',\n",
       " 'DeprecationWarning',\n",
       " 'EOFError',\n",
       " 'Ellipsis',\n",
       " 'EnvironmentError',\n",
       " 'Exception',\n",
       " 'False',\n",
       " 'FileExistsError',\n",
       " 'FileNotFoundError',\n",
       " 'FloatingPointError',\n",
       " 'FutureWarning',\n",
       " 'GeneratorExit',\n",
       " 'IOError',\n",
       " 'ImportError',\n",
       " 'ImportWarning',\n",
       " 'IndentationError',\n",
       " 'IndexError',\n",
       " 'InterruptedError',\n",
       " 'IsADirectoryError',\n",
       " 'KeyError',\n",
       " 'KeyboardInterrupt',\n",
       " 'LookupError',\n",
       " 'MemoryError',\n",
       " 'ModuleNotFoundError',\n",
       " 'NameError',\n",
       " 'None',\n",
       " 'NotADirectoryError',\n",
       " 'NotImplemented',\n",
       " 'NotImplementedError',\n",
       " 'OSError',\n",
       " 'OverflowError',\n",
       " 'PendingDeprecationWarning',\n",
       " 'PermissionError',\n",
       " 'ProcessLookupError',\n",
       " 'RecursionError',\n",
       " 'ReferenceError',\n",
       " 'ResourceWarning',\n",
       " 'RuntimeError',\n",
       " 'RuntimeWarning',\n",
       " 'StopAsyncIteration',\n",
       " 'StopIteration',\n",
       " 'SyntaxError',\n",
       " 'SyntaxWarning',\n",
       " 'SystemError',\n",
       " 'SystemExit',\n",
       " 'TabError',\n",
       " 'TimeoutError',\n",
       " 'True',\n",
       " 'TypeError',\n",
       " 'UnboundLocalError',\n",
       " 'UnicodeDecodeError',\n",
       " 'UnicodeEncodeError',\n",
       " 'UnicodeError',\n",
       " 'UnicodeTranslateError',\n",
       " 'UnicodeWarning',\n",
       " 'UserWarning',\n",
       " 'ValueError',\n",
       " 'Warning',\n",
       " 'ZeroDivisionError',\n",
       " '__IPYTHON__',\n",
       " '__build_class__',\n",
       " '__debug__',\n",
       " '__doc__',\n",
       " '__import__',\n",
       " '__loader__',\n",
       " '__name__',\n",
       " '__package__',\n",
       " '__spec__',\n",
       " 'abs',\n",
       " 'all',\n",
       " 'any',\n",
       " 'ascii',\n",
       " 'bin',\n",
       " 'bool',\n",
       " 'bytearray',\n",
       " 'bytes',\n",
       " 'callable',\n",
       " 'chr',\n",
       " 'classmethod',\n",
       " 'compile',\n",
       " 'complex',\n",
       " 'copyright',\n",
       " 'credits',\n",
       " 'delattr',\n",
       " 'dict',\n",
       " 'dir',\n",
       " 'display',\n",
       " 'divmod',\n",
       " 'enumerate',\n",
       " 'eval',\n",
       " 'exec',\n",
       " 'filter',\n",
       " 'float',\n",
       " 'format',\n",
       " 'frozenset',\n",
       " 'get_ipython',\n",
       " 'getattr',\n",
       " 'globals',\n",
       " 'hasattr',\n",
       " 'hash',\n",
       " 'help',\n",
       " 'hex',\n",
       " 'id',\n",
       " 'input',\n",
       " 'int',\n",
       " 'isinstance',\n",
       " 'issubclass',\n",
       " 'iter',\n",
       " 'len',\n",
       " 'license',\n",
       " 'list',\n",
       " 'locals',\n",
       " 'map',\n",
       " 'max',\n",
       " 'memoryview',\n",
       " 'min',\n",
       " 'next',\n",
       " 'object',\n",
       " 'oct',\n",
       " 'open',\n",
       " 'ord',\n",
       " 'pow',\n",
       " 'print',\n",
       " 'property',\n",
       " 'range',\n",
       " 'repr',\n",
       " 'reversed',\n",
       " 'round',\n",
       " 'set',\n",
       " 'setattr',\n",
       " 'slice',\n",
       " 'sorted',\n",
       " 'staticmethod',\n",
       " 'str',\n",
       " 'sum',\n",
       " 'super',\n",
       " 'tuple',\n",
       " 'type',\n",
       " 'vars',\n",
       " 'zip']"
      ]
     },
     "execution_count": 22,
     "metadata": {},
     "output_type": "execute_result"
    }
   ],
   "source": [
    "dir(__builtins__)"
   ]
  },
  {
   "cell_type": "code",
   "execution_count": 23,
   "metadata": {},
   "outputs": [
    {
     "name": "stdout",
     "output_type": "stream",
     "text": [
      "Help on built-in function max in module builtins:\n",
      "\n",
      "max(...)\n",
      "    max(iterable, *[, default=obj, key=func]) -> value\n",
      "    max(arg1, arg2, *args, *[, key=func]) -> value\n",
      "    \n",
      "    With a single iterable argument, return its biggest item. The\n",
      "    default keyword-only argument specifies an object to return if\n",
      "    the provided iterable is empty.\n",
      "    With two or more arguments, return the largest argument.\n",
      "\n"
     ]
    }
   ],
   "source": [
    "help(max)"
   ]
  },
  {
   "cell_type": "code",
   "execution_count": 24,
   "metadata": {},
   "outputs": [
    {
     "data": {
      "text/plain": [
       "9"
      ]
     },
     "execution_count": 24,
     "metadata": {},
     "output_type": "execute_result"
    }
   ],
   "source": [
    "list=[1,8,9,5]\n",
    "max(list)"
   ]
  },
  {
   "cell_type": "code",
   "execution_count": 25,
   "metadata": {},
   "outputs": [
    {
     "data": {
      "text/plain": [
       "23"
      ]
     },
     "execution_count": 25,
     "metadata": {},
     "output_type": "execute_result"
    }
   ],
   "source": [
    "sum(list)"
   ]
  },
  {
   "cell_type": "markdown",
   "metadata": {},
   "source": [
    "## Getting list of installed  packages"
   ]
  },
  {
   "cell_type": "code",
   "execution_count": 7,
   "metadata": {},
   "outputs": [
    {
     "name": "stdout",
     "output_type": "stream",
     "text": [
      "['absl-py==0.7.1', 'appdirs==1.4.3', 'astor==0.8.0', 'attrs==19.1.0', 'backcall==0.1.0', 'beautifulsoup4==4.6.0', 'biopython==1.78', 'bleach==3.1.0', 'bokeh==1.3.4', 'boto3==1.10.4', 'boto==2.49.0', 'botocore==1.13.4', 'cachetools==4.0.0', 'certifi==2019.9.11', 'chardet==3.0.4', 'click==7.0', 'cycler==0.10.0', 'dask==2.6.0', 'decorator==4.4.0', 'defusedxml==0.6.0', 'dill==0.3.1.1', 'docutils==0.15.2', 'dropbox==10.4.1', 'ecdsa==0.15', 'entrypoints==0.3', 'filelock==3.0.12', 'funcy==1.14', 'future==0.18.2', 'gast==0.2.2', 'gensim==3.8.1', 'google-auth-oauthlib==0.4.1', 'google-auth==1.11.0', 'google-pasta==0.1.7', 'grpcio==1.22.0', 'h5py==2.9.0', 'htseq==0.12.4', 'idna==2.8', 'ipykernel==5.1.2', 'ipynb==0.5.1', 'ipyparallel==6.2.4', 'ipython-genutils==0.2.0', 'ipython==7.8.0', 'ipywidgets==7.5.1', 'jedi==0.15.1', 'jinja2==2.10.1', 'jmespath==0.9.4', 'joblib==0.14.0', 'jsonschema==3.0.2', 'jupyter-client==5.3.3', 'jupyter-console==6.0.0', 'jupyter-core==4.5.0', 'jupyter==1.0.0', 'keras-applications==1.0.8', 'keras-preprocessing==1.1.0', 'kiwisolver==1.1.0', 'langdetect==1.0.7', 'llvmlite==0.31.0', 'lyricsgenius==1.7.0', 'markdown==3.1.1', 'markupsafe==1.1.1', 'matlab-kernel==0.16.7', 'matlabengineforpython==R2018a', 'matplotlib==3.2.1', 'metakernel==0.24.3', 'mistune==0.8.4', 'multiprocess==0.70.9', 'nbconvert==5.6.0', 'nbformat==4.4.0', 'neuron==7.6', 'nibabel==3.2.1', 'nilearn==0.7.0', 'nltk==3.4.5', 'notebook==6.0.1', 'numba==0.48.0', 'numpy==1.19.5', 'oauthlib==3.1.0', 'opt-einsum==3.1.0', 'packaging==19.2', 'pandas==0.25.2', 'pandocfilters==1.4.2', 'parso==0.5.1', 'patsy==0.5.1', 'pexpect==4.7.0', 'pickleshare==0.7.5', 'pillow==6.2.1', 'pip==20.2.4', 'portalocker==1.5.2', 'prettytable==0.7.2', 'prometheus-client==0.7.1', 'prompt-toolkit==2.0.9', 'protobuf==3.9.0', 'ptyprocess==0.6.0', 'pyasn1-modules==0.2.8', 'pyasn1==0.4.8', 'pycrypto==2.6.1', 'pygments==2.4.2', 'pylibscrypt==1.8.0', 'pyparsing==2.4.2', 'pyrsistent==0.15.4', 'pysam==0.15.4', 'python-dateutil==2.8.0', 'pytorch-transformers==1.2.0', 'pytz==2019.3', 'pyyaml==5.1.2', 'pyzmq==18.1.0', 'qtconsole==4.5.5', 'regex==2020.2.20', 'requests-oauthlib==1.3.0', 'requests==2.22.0', 'rsa==4.0', 's3transfer==0.2.1', 'sacremoses==0.0.38', 'scikit-learn==0.21.3', 'scipy==1.4.1', 'scrypt==0.8.13', 'seaborn==0.9.0', 'selenium==3.141.0', 'send2trash==1.5.0', 'sentencepiece==0.1.85', 'setuptools==41.5.1', 'six==1.12.0', 'smart-open==1.8.4', 'statsmodels==0.11.1', 'steem==1.0.1', 'tensorboard==2.1.0', 'tensorflow-estimator==2.1.0', 'tensorflow-gpu==2.1.0', 'tensorflow==2.1.0', 'termcolor==1.1.0', 'terminado==0.8.2', 'testpath==0.4.2', 'tokenizers==0.5.2', 'toolz==0.10.0', 'torch==1.4.0', 'torchvision==0.5.0', 'tornado==6.0.3', 'tqdm==4.38.0', 'traitlets==4.3.2', 'transformers==2.5.1', 'ujson==1.35', 'urllib3==1.25.6', 'voluptuous==0.11.7', 'w3lib==1.21.0', 'wcwidth==0.1.7', 'webencodings==0.5.1', 'werkzeug==0.15.4', 'wheel==0.33.4', 'widgetsnbextension==3.5.1', 'wrapt==1.11.2', 'wurlitzer==2.0.0', 'xgboost==1.1.1', 'xlrd==1.2.0']\n"
     ]
    }
   ],
   "source": [
    "import pkg_resources\n",
    "installed_packages = pkg_resources.working_set\n",
    "installed_packages_list = sorted([\"%s==%s\" % (i.key, i.version)\n",
    "   for i in installed_packages])\n",
    "print(installed_packages_list)"
   ]
  },
  {
   "cell_type": "code",
   "execution_count": 9,
   "metadata": {},
   "outputs": [
    {
     "name": "stdout",
     "output_type": "stream",
     "text": [
      "Package               Version\n",
      "--------------------- ---------\n",
      "absl-py               0.7.1\n",
      "appdirs               1.4.3\n",
      "astor                 0.8.0\n",
      "attrs                 19.1.0\n",
      "backcall              0.1.0\n",
      "beautifulsoup4        4.6.0\n",
      "biopython             1.78\n",
      "bleach                3.1.0\n",
      "bokeh                 1.3.4\n",
      "boto                  2.49.0\n",
      "boto3                 1.10.4\n",
      "botocore              1.13.4\n",
      "cachetools            4.0.0\n",
      "certifi               2019.9.11\n",
      "chardet               3.0.4\n",
      "Click                 7.0\n",
      "cycler                0.10.0\n",
      "dask                  2.6.0\n",
      "decorator             4.4.0\n",
      "defusedxml            0.6.0\n",
      "dill                  0.3.1.1\n",
      "docutils              0.15.2\n",
      "dropbox               10.4.1\n",
      "ecdsa                 0.15\n",
      "entrypoints           0.3\n",
      "filelock              3.0.12\n",
      "funcy                 1.14\n",
      "future                0.18.2\n",
      "gast                  0.2.2\n",
      "gensim                3.8.1\n",
      "google-auth           1.11.0\n",
      "google-auth-oauthlib  0.4.1\n",
      "google-pasta          0.1.7\n",
      "grpcio                1.22.0\n",
      "h5py                  2.9.0\n",
      "HTSeq                 0.12.4\n",
      "idna                  2.8\n",
      "ipykernel             5.1.2\n",
      "ipynb                 0.5.1\n",
      "ipyparallel           6.2.4\n",
      "ipython               7.8.0\n",
      "ipython-genutils      0.2.0\n",
      "ipywidgets            7.5.1\n",
      "jedi                  0.15.1\n",
      "Jinja2                2.10.1\n",
      "jmespath              0.9.4\n",
      "joblib                0.14.0\n",
      "jsonschema            3.0.2\n",
      "jupyter               1.0.0\n",
      "jupyter-client        5.3.3\n",
      "jupyter-console       6.0.0\n",
      "jupyter-core          4.5.0\n",
      "Keras-Applications    1.0.8\n",
      "Keras-Preprocessing   1.1.0\n",
      "kiwisolver            1.1.0\n",
      "langdetect            1.0.7\n",
      "llvmlite              0.31.0\n",
      "lyricsgenius          1.7.0\n",
      "Markdown              3.1.1\n",
      "MarkupSafe            1.1.1\n",
      "matlab-kernel         0.16.7\n",
      "matlabengineforpython R2018a\n",
      "matplotlib            3.2.1\n",
      "metakernel            0.24.3\n",
      "mistune               0.8.4\n",
      "multiprocess          0.70.9\n",
      "nbconvert             5.6.0\n",
      "nbformat              4.4.0\n",
      "NEURON                7.6\n",
      "nibabel               3.2.1\n",
      "nilearn               0.7.0\n",
      "nltk                  3.4.5\n",
      "notebook              6.0.1\n",
      "numba                 0.48.0\n",
      "numpy                 1.19.5\n",
      "oauthlib              3.1.0\n",
      "opt-einsum            3.1.0\n",
      "packaging             19.2\n",
      "pandas                0.25.2\n",
      "pandocfilters         1.4.2\n",
      "parso                 0.5.1\n",
      "patsy                 0.5.1\n",
      "pexpect               4.7.0\n",
      "pickleshare           0.7.5\n",
      "Pillow                6.2.1\n",
      "pip                   20.2.4\n",
      "portalocker           1.5.2\n",
      "prettytable           0.7.2\n",
      "prometheus-client     0.7.1\n",
      "prompt-toolkit        2.0.9\n",
      "protobuf              3.9.0\n",
      "ptyprocess            0.6.0\n",
      "pyasn1                0.4.8\n",
      "pyasn1-modules        0.2.8\n",
      "pycrypto              2.6.1\n",
      "Pygments              2.4.2\n",
      "pylibscrypt           1.8.0\n",
      "pyparsing             2.4.2\n",
      "pyrsistent            0.15.4\n",
      "pysam                 0.15.4\n",
      "python-dateutil       2.8.0\n",
      "pytorch-transformers  1.2.0\n",
      "pytz                  2019.3\n",
      "PyYAML                5.1.2\n",
      "pyzmq                 18.1.0\n",
      "qtconsole             4.5.5\n",
      "regex                 2020.2.20\n",
      "requests              2.22.0\n",
      "requests-oauthlib     1.3.0\n",
      "rsa                   4.0\n",
      "s3transfer            0.2.1\n",
      "sacremoses            0.0.38\n",
      "scikit-learn          0.21.3\n",
      "scipy                 1.4.1\n",
      "scrypt                0.8.13\n",
      "seaborn               0.9.0\n",
      "selenium              3.141.0\n",
      "Send2Trash            1.5.0\n",
      "sentencepiece         0.1.85\n",
      "setuptools            41.5.1\n",
      "six                   1.12.0\n",
      "smart-open            1.8.4\n",
      "statsmodels           0.11.1\n",
      "steem                 1.0.1\n",
      "tensorboard           2.1.0\n",
      "tensorflow            2.1.0\n",
      "tensorflow-estimator  2.1.0\n",
      "tensorflow-gpu        2.1.0\n",
      "termcolor             1.1.0\n",
      "terminado             0.8.2\n",
      "testpath              0.4.2\n",
      "tokenizers            0.5.2\n",
      "toolz                 0.10.0\n",
      "torch                 1.4.0\n",
      "torchvision           0.5.0\n",
      "tornado               6.0.3\n",
      "tqdm                  4.38.0\n",
      "traitlets             4.3.2\n",
      "transformers          2.5.1\n",
      "ujson                 1.35\n",
      "urllib3               1.25.6\n",
      "voluptuous            0.11.7\n",
      "w3lib                 1.21.0\n",
      "wcwidth               0.1.7\n",
      "webencodings          0.5.1\n",
      "Werkzeug              0.15.4\n",
      "wheel                 0.33.4\n",
      "widgetsnbextension    3.5.1\n",
      "wrapt                 1.11.2\n",
      "wurlitzer             2.0.0\n",
      "xgboost               1.1.1\n",
      "xlrd                  1.2.0\n",
      "\u001b[33mWARNING: You are using pip version 20.2.4; however, version 21.0.1 is available.\n",
      "You should consider upgrading via the '/apps/Compilers/Python-3.6.9/Debug_Build/bin/python3.6 -m pip install --upgrade pip' command.\u001b[0m\n"
     ]
    }
   ],
   "source": [
    "! pip list"
   ]
  },
  {
   "cell_type": "markdown",
   "metadata": {},
   "source": [
    "## Rock paper scissor Example"
   ]
  },
  {
   "cell_type": "markdown",
   "metadata": {},
   "source": [
    "Create a rock paper scissor game where you will provide the input (rock paper or scissor)using the input function and computer will choose randomly using random module. Check who wins the game you or the computer by using the if-else statement"
   ]
  }
 ],
 "metadata": {
  "kernelspec": {
   "display_name": "Python 3",
   "language": "python",
   "name": "python3"
  },
  "language_info": {
   "codemirror_mode": {
    "name": "ipython",
    "version": 3
   },
   "file_extension": ".py",
   "mimetype": "text/x-python",
   "name": "python",
   "nbconvert_exporter": "python",
   "pygments_lexer": "ipython3",
   "version": "3.6.9"
  }
 },
 "nbformat": 4,
 "nbformat_minor": 1
}
