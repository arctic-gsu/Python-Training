{
 "cells": [
  {
   "cell_type": "markdown",
   "metadata": {},
   "source": [
    "## Estimate $\\pi$ "
   ]
  },
  {
   "cell_type": "markdown",
   "metadata": {},
   "source": [
    "As we all know  $\\pi$ is estimated as 22/7. However following formula, Gregory's Series, can be used to calculate the value of $\\pi$. This is infinite series.\n",
    "\n",
    "$                       \\frac{pi}{4} = 1- \\frac{1}{3} +\\frac{1}{5} - \\frac{1}{7} + \\frac{1}{9} - \\frac{1}{11} + ...$\n",
    "\n",
    "Use this series to calculate the value of $\\pi$. Write a function which calculate the value of $\\pi$ given the number of terms, n, in the series.  Use n=10,10000,10000000 . Only use standered python."
   ]
  },
  {
   "cell_type": "code",
   "execution_count": null,
   "metadata": {
    "collapsed": true
   },
   "outputs": [],
   "source": []
  }
 ],
 "metadata": {
  "kernelspec": {
   "display_name": "Python 2",
   "language": "python",
   "name": "python2"
  },
  "language_info": {
   "codemirror_mode": {
    "name": "ipython",
    "version": 2
   },
   "file_extension": ".py",
   "mimetype": "text/x-python",
   "name": "python",
   "nbconvert_exporter": "python",
   "pygments_lexer": "ipython2",
   "version": "2.7.5"
  }
 },
 "nbformat": 4,
 "nbformat_minor": 2
}
