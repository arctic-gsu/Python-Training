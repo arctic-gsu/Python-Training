{
 "cells": [
  {
   "cell_type": "markdown",
   "metadata": {},
   "source": [
    "## Lists\n",
    "\n",
    "A list is a container that can store anything you want.\n",
    "\n",
    "Empty list or String list or Integer List or Mixed list or List of list"
   ]
  },
  {
   "cell_type": "code",
   "execution_count": 2,
   "metadata": {},
   "outputs": [
    {
     "name": "stdout",
     "output_type": "stream",
     "text": [
      "Oth index is Computer Science\n",
      "2nd index is Social Science\n"
     ]
    }
   ],
   "source": [
    "## Let's create a list of strings\n",
    "\n",
    "faculty =[\"Computer Science\",\"Population Health\",\"Social Science\",\"Humanities\",\"Education\"]\n",
    "print(\"Oth index is \"+faculty[0])\n",
    "print(\"2nd index is \"+faculty[2])"
   ]
  },
  {
   "cell_type": "code",
   "execution_count": 5,
   "metadata": {},
   "outputs": [
    {
     "name": "stdout",
     "output_type": "stream",
     "text": [
      "['Computer Science', 'Population Health', 'Social Science', 'Humanities', 'Education', 'Law']\n"
     ]
    }
   ],
   "source": [
    "faculty.append(\"Law\")\n",
    "print(faculty)"
   ]
  },
  {
   "cell_type": "code",
   "execution_count": 7,
   "metadata": {},
   "outputs": [
    {
     "name": "stdout",
     "output_type": "stream",
     "text": [
      "['Computer Science', 'Population Health', 'Social Science', 'Education', 'Law']\n"
     ]
    }
   ],
   "source": [
    "faculty.remove(\"Humanities\")\n",
    "print(faculty)"
   ]
  },
  {
   "cell_type": "code",
   "execution_count": 9,
   "metadata": {},
   "outputs": [
    {
     "name": "stdout",
     "output_type": "stream",
     "text": [
      "False\n"
     ]
    }
   ],
   "source": [
    "## Check if the item is in the list. Maybe we don't want to add item that is in the list\n",
    "\n",
    "if \"Humanities\" in faculty:\n",
    "    print (\"True\")\n",
    "else:\n",
    "     print (\"False\")\n",
    "\n"
   ]
  },
  {
   "cell_type": "markdown",
   "metadata": {},
   "source": [
    "## Loops"
   ]
  },
  {
   "cell_type": "code",
   "execution_count": 3,
   "metadata": {},
   "outputs": [
    {
     "name": "stdout",
     "output_type": "stream",
     "text": [
      "Computer Science\n",
      "Population Health\n",
      "Social Science\n",
      "Humanities\n",
      "Education\n"
     ]
    }
   ],
   "source": [
    "# f is the variable\n",
    "for f in faculty:\n",
    "    print(f)"
   ]
  },
  {
   "cell_type": "code",
   "execution_count": 4,
   "metadata": {},
   "outputs": [
    {
     "name": "stdout",
     "output_type": "stream",
     "text": [
      "<class 'int'>\n",
      "<class 'int'>\n",
      "<class 'int'>\n",
      "<class 'float'>\n",
      "Total Funding is $27.5 thousand dollars\n",
      "<class 'float'>\n"
     ]
    }
   ],
   "source": [
    "funding = [10,3,6.0,8.5]\n",
    "total =0\n",
    "for fund in funding:\n",
    "    print(type(total))\n",
    "    total = total+fund\n",
    "\n",
    "print (\"Total Funding is $\"+str(total), \"thousand dollars\")\n",
    "print(type(total))"
   ]
  },
  {
   "cell_type": "code",
   "execution_count": 5,
   "metadata": {},
   "outputs": [
    {
     "name": "stdout",
     "output_type": "stream",
     "text": [
      "0\n",
      "1\n",
      "2\n",
      "3\n",
      "4\n",
      "5\n",
      "6\n"
     ]
    }
   ],
   "source": [
    "## range(start, stop, step)\n",
    "for i in range(7):\n",
    "        print(i) "
   ]
  },
  {
   "cell_type": "markdown",
   "metadata": {},
   "source": [
    "## Dictionary\n",
    "\n",
    "Dictionary maps keys to the values.\n",
    "\n",
    "Dictionary can hold anything like lists: numbers, strings, mixed of both and other objects"
   ]
  },
  {
   "cell_type": "code",
   "execution_count": 6,
   "metadata": {},
   "outputs": [
    {
     "name": "stdout",
     "output_type": "stream",
     "text": [
      "{'Computer Science': 101, 'Population Science': 104, 'Arts': 109}\n"
     ]
    }
   ],
   "source": [
    "# Let's create a dictionary of string to numbers\n",
    "faculty ={\"Computer Science\":101,\"Population Science\":104,\n",
    "          \"Arts\":109\n",
    "}\n",
    "\n",
    "print(faculty)"
   ]
  },
  {
   "cell_type": "code",
   "execution_count": 7,
   "metadata": {},
   "outputs": [
    {
     "name": "stdout",
     "output_type": "stream",
     "text": [
      "{}\n"
     ]
    }
   ],
   "source": [
    "# Create an empty dictionary \n",
    "\n",
    "faculty = {}\n",
    "\n",
    "print(faculty)"
   ]
  },
  {
   "cell_type": "code",
   "execution_count": 8,
   "metadata": {},
   "outputs": [
    {
     "name": "stdout",
     "output_type": "stream",
     "text": [
      "{'Computer Science': 101, 'Population Science': 104}\n"
     ]
    }
   ],
   "source": [
    "# Add keys and values to the dictionary\n",
    "\n",
    "faculty[\"Computer Science\"] = 101\n",
    "faculty[\"Population Science\"]= 104\n",
    "\n",
    "print(faculty)"
   ]
  },
  {
   "cell_type": "code",
   "execution_count": 9,
   "metadata": {},
   "outputs": [
    {
     "name": "stdout",
     "output_type": "stream",
     "text": [
      "{'Computer Science': 101, 'Population Science': 108}\n"
     ]
    }
   ],
   "source": [
    "# Updating values in the dictionary\n",
    "\n",
    "faculty[\"Population Science\"]= 108\n",
    "\n",
    "print(faculty)"
   ]
  },
  {
   "cell_type": "code",
   "execution_count": 10,
   "metadata": {},
   "outputs": [
    {
     "name": "stdout",
     "output_type": "stream",
     "text": [
      "{'Computer Science': 101}\n"
     ]
    }
   ],
   "source": [
    "# Deleting items(keys and values) from the dictionary\n",
    "\n",
    "del faculty[\"Population Science\"]\n",
    "\n",
    "print (faculty)"
   ]
  },
  {
   "cell_type": "code",
   "execution_count": 11,
   "metadata": {},
   "outputs": [
    {
     "ename": "KeyError",
     "evalue": "'Law'",
     "output_type": "error",
     "traceback": [
      "\u001b[0;31m---------------------------------------------------------------------------\u001b[0m",
      "\u001b[0;31mKeyError\u001b[0m                                  Traceback (most recent call last)",
      "\u001b[0;32m<ipython-input-11-9b55b860f6c9>\u001b[0m in \u001b[0;36m<module>\u001b[0;34m\u001b[0m\n\u001b[1;32m      1\u001b[0m \u001b[0;31m# Trying to access key that doesn't exist\u001b[0m\u001b[0;34m\u001b[0m\u001b[0;34m\u001b[0m\u001b[0;34m\u001b[0m\u001b[0m\n\u001b[1;32m      2\u001b[0m \u001b[0;34m\u001b[0m\u001b[0m\n\u001b[0;32m----> 3\u001b[0;31m \u001b[0mprint\u001b[0m\u001b[0;34m(\u001b[0m\u001b[0mfaculty\u001b[0m\u001b[0;34m[\u001b[0m\u001b[0;34m\"Law\"\u001b[0m\u001b[0;34m]\u001b[0m\u001b[0;34m)\u001b[0m\u001b[0;34m\u001b[0m\u001b[0;34m\u001b[0m\u001b[0m\n\u001b[0m",
      "\u001b[0;31mKeyError\u001b[0m: 'Law'"
     ]
    }
   ],
   "source": [
    "# Trying to access key that doesn't exist\n",
    "\n",
    "print(faculty[\"Law\"])"
   ]
  },
  {
   "cell_type": "code",
   "execution_count": 12,
   "metadata": {},
   "outputs": [
    {
     "name": "stdout",
     "output_type": "stream",
     "text": [
      "None\n"
     ]
    }
   ],
   "source": [
    "# Using get function won't crash the program.\n",
    "\n",
    "print(faculty.get(\"Law\"))\n",
    "\n",
    "# None is the type that represents the absence of value\n"
   ]
  }
 ],
 "metadata": {
  "kernelspec": {
   "display_name": "Python 3",
   "language": "python",
   "name": "python3"
  },
  "language_info": {
   "codemirror_mode": {
    "name": "ipython",
    "version": 3
   },
   "file_extension": ".py",
   "mimetype": "text/x-python",
   "name": "python",
   "nbconvert_exporter": "python",
   "pygments_lexer": "ipython3",
   "version": "3.6.9"
  }
 },
 "nbformat": 4,
 "nbformat_minor": 2
}
