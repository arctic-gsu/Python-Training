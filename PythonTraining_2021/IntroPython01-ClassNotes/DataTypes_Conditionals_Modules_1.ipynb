{
 "cells": [
  {
   "cell_type": "markdown",
   "metadata": {},
   "source": [
    "# Python\n",
    "\n",
    "Python program files\n",
    "Python code is usually stored in text files with the file ending \".py\":\n",
    "\n",
    "$ python myprogram.py\n",
    "\n",
    "IPython notebooks\n",
    "This file - an IPython notebook - does not follow the standard pattern with Python code in a text file. Instead, an IPython notebook is stored as a file in the JSON format. The advantage is that we can mix formatted text, Python code and code output. It requires the IPython notebook server to run it though, and therefore isn't a stand-alone Python program as described above. Other than that, there is no difference between the Python code that goes into a program file or an IPython notebook.\n",
    "\n",
    "Python Applications\n",
    "1. Web Application Development\n",
    "2. Scientific and numeric Computing\n",
    "3. Game Development\n",
    "4. Machine Learning and AI\n",
    "5. Software Development\n"
   ]
  },
  {
   "cell_type": "markdown",
   "metadata": {},
   "source": [
    "## Data Types\n",
    "## Primitive Data Types\n",
    "\n",
    "1. int\n",
    "2. float\n",
    "3. str\n",
    "4. boolean"
   ]
  },
  {
   "cell_type": "markdown",
   "metadata": {},
   "source": [
    "Python assumes the variable based on the assigned value"
   ]
  },
  {
   "cell_type": "code",
   "execution_count": 1,
   "metadata": {},
   "outputs": [
    {
     "data": {
      "text/plain": [
       "int"
      ]
     },
     "execution_count": 1,
     "metadata": {},
     "output_type": "execute_result"
    }
   ],
   "source": [
    "\n",
    "amount = 10\n",
    "type(amount)\n"
   ]
  },
  {
   "cell_type": "code",
   "execution_count": 2,
   "metadata": {},
   "outputs": [
    {
     "data": {
      "text/plain": [
       "float"
      ]
     },
     "execution_count": 2,
     "metadata": {},
     "output_type": "execute_result"
    }
   ],
   "source": [
    "amount = 10.50\n",
    "type(amount)"
   ]
  },
  {
   "cell_type": "markdown",
   "metadata": {},
   "source": [
    "## Data type conversions"
   ]
  },
  {
   "cell_type": "code",
   "execution_count": 3,
   "metadata": {},
   "outputs": [
    {
     "name": "stdout",
     "output_type": "stream",
     "text": [
      "10\n"
     ]
    },
    {
     "data": {
      "text/plain": [
       "int"
      ]
     },
     "execution_count": 3,
     "metadata": {},
     "output_type": "execute_result"
    }
   ],
   "source": [
    "amount = int(10.6)\n",
    "print(amount)\n",
    "type(amount)"
   ]
  },
  {
   "cell_type": "code",
   "execution_count": 4,
   "metadata": {},
   "outputs": [
    {
     "name": "stdout",
     "output_type": "stream",
     "text": [
      "10.0\n"
     ]
    },
    {
     "data": {
      "text/plain": [
       "float"
      ]
     },
     "execution_count": 4,
     "metadata": {},
     "output_type": "execute_result"
    }
   ],
   "source": [
    "amount = float(10)\n",
    "print(amount)\n",
    "type(amount)"
   ]
  },
  {
   "cell_type": "markdown",
   "metadata": {},
   "source": [
    "## Creating a tax calculator\n"
   ]
  },
  {
   "cell_type": "code",
   "execution_count": 5,
   "metadata": {},
   "outputs": [
    {
     "data": {
      "text/plain": [
       "11.3"
      ]
     },
     "execution_count": 5,
     "metadata": {},
     "output_type": "execute_result"
    }
   ],
   "source": [
    "amount = 10\n",
    "tax = 0.13\n",
    "total = amount + amount*tax\n",
    "total"
   ]
  },
  {
   "cell_type": "markdown",
   "metadata": {},
   "source": [
    "## String\n",
    "\n",
    "Anything inside double quote or single quote is considered string"
   ]
  },
  {
   "cell_type": "code",
   "execution_count": 6,
   "metadata": {},
   "outputs": [
    {
     "name": "stdout",
     "output_type": "stream",
     "text": [
      "Python Training\n"
     ]
    },
    {
     "data": {
      "text/plain": [
       "str"
      ]
     },
     "execution_count": 6,
     "metadata": {},
     "output_type": "execute_result"
    }
   ],
   "source": [
    "name ='Python Training'\n",
    "print(name)\n",
    "type(name)"
   ]
  },
  {
   "cell_type": "code",
   "execution_count": 7,
   "metadata": {},
   "outputs": [
    {
     "ename": "SyntaxError",
     "evalue": "invalid syntax (<ipython-input-7-edbe4d701284>, line 1)",
     "output_type": "error",
     "traceback": [
      "\u001b[0;36m  File \u001b[0;32m\"<ipython-input-7-edbe4d701284>\"\u001b[0;36m, line \u001b[0;32m1\u001b[0m\n\u001b[0;31m    name ='python's training'\u001b[0m\n\u001b[0m                  ^\u001b[0m\n\u001b[0;31mSyntaxError\u001b[0m\u001b[0;31m:\u001b[0m invalid syntax\n"
     ]
    }
   ],
   "source": [
    "name ='python's training'\n",
    "name"
   ]
  },
  {
   "cell_type": "code",
   "execution_count": 8,
   "metadata": {},
   "outputs": [
    {
     "name": "stdout",
     "output_type": "stream",
     "text": [
      "Python's Training\n"
     ]
    },
    {
     "data": {
      "text/plain": [
       "str"
      ]
     },
     "execution_count": 8,
     "metadata": {},
     "output_type": "execute_result"
    }
   ],
   "source": [
    "name =\"Python's Training\"\n",
    "print(name)\n",
    "type(name)"
   ]
  },
  {
   "cell_type": "markdown",
   "metadata": {},
   "source": [
    "### String Concatenation"
   ]
  },
  {
   "cell_type": "code",
   "execution_count": 9,
   "metadata": {},
   "outputs": [
    {
     "name": "stdout",
     "output_type": "stream",
     "text": [
      "Welcome To Python Training\n"
     ]
    }
   ],
   "source": [
    "welcome = \"Welcome To\"\n",
    "training = \"Python Training\"\n",
    "\n",
    "greeting = welcome + \" \"+training\n",
    "print(greeting)"
   ]
  },
  {
   "cell_type": "markdown",
   "metadata": {},
   "source": [
    "## Python input function\n",
    "\n",
    "Just like print, input function is a built-in function in python\n",
    "\n"
   ]
  },
  {
   "cell_type": "code",
   "execution_count": 12,
   "metadata": {},
   "outputs": [
    {
     "name": "stdin",
     "output_type": "stream",
     "text": [
      "What's your name?  Sanju\n"
     ]
    },
    {
     "name": "stdout",
     "output_type": "stream",
     "text": [
      "Welcome To Python Training Sanju\n"
     ]
    }
   ],
   "source": [
    "name = input(\"What's your name? \")\n",
    "greeting = welcome + \" \"+training+ \" \"+ name\n",
    "print(greeting)"
   ]
  },
  {
   "cell_type": "markdown",
   "metadata": {},
   "source": [
    "#  Python Comparators\n",
    "\n",
    "1. (less than) < \n",
    "2. (less than equal to) <= \n",
    "3. (equal) == \n",
    "4. (greater than) > \n",
    "5. (greater than equal to) >= \n",
    "6. (not equal) != \n"
   ]
  },
  {
   "cell_type": "code",
   "execution_count": 13,
   "metadata": {},
   "outputs": [
    {
     "name": "stdout",
     "output_type": "stream",
     "text": [
      "True\n",
      "True\n"
     ]
    }
   ],
   "source": [
    "temp = 76\n",
    "print (temp == 76)\n",
    "print (temp < 90)"
   ]
  },
  {
   "cell_type": "markdown",
   "metadata": {},
   "source": [
    "## If Statement"
   ]
  },
  {
   "cell_type": "code",
   "execution_count": 14,
   "metadata": {},
   "outputs": [
    {
     "name": "stdout",
     "output_type": "stream",
     "text": [
      "It's too hot!\n"
     ]
    }
   ],
   "source": [
    "temp = 85\n",
    "\n",
    "if temp > 80:\n",
    "    print (\"It's too hot!\")\n",
    "else:\n",
    "    print (\"Let's go hiking\")"
   ]
  },
  {
   "cell_type": "code",
   "execution_count": 15,
   "metadata": {},
   "outputs": [
    {
     "name": "stdout",
     "output_type": "stream",
     "text": [
      "It's too cold\n"
     ]
    }
   ],
   "source": [
    "temp = 55\n",
    "\n",
    "if temp > 80:\n",
    "    print (\"It's too hot!\")\n",
    "elif temp < 60:\n",
    "    print (\"It's too cold\")\n",
    "else:\n",
    "    print (\"Let's go hiking\")"
   ]
  },
  {
   "cell_type": "markdown",
   "metadata": {},
   "source": [
    "## Logical Operator \n",
    "\n",
    "1. or\n",
    "2. and\n",
    "3. not"
   ]
  },
  {
   "cell_type": "code",
   "execution_count": 16,
   "metadata": {},
   "outputs": [
    {
     "name": "stdout",
     "output_type": "stream",
     "text": [
      "Let's stay inside\n"
     ]
    }
   ],
   "source": [
    "temp = 55\n",
    "\n",
    "if temp > 80 or temp < 60:\n",
    "    print (\"Let's stay inside\")\n",
    "else:\n",
    "    print (\"Let's go hiking\")\n",
    "    "
   ]
  },
  {
   "cell_type": "markdown",
   "metadata": {},
   "source": [
    "## Modules\n",
    "When you install python you get the Python interpreter, its built-in types and function and python standard library\n",
    "\n",
    "By using import module we can use it's function in our program.\n",
    "\n",
    "References\n",
    "The Python Language Reference: http://docs.python.org/2/reference/index.html\n",
    "The Python Standard Library: http://docs.python.org/2/library/\n",
    "\n",
    "To use a module in a Python program it first has to be imported. A module can be imported using the import statement. For example, to import the module math, which contains many standard mathematical functions, we can do:"
   ]
  },
  {
   "cell_type": "code",
   "execution_count": 17,
   "metadata": {},
   "outputs": [],
   "source": [
    "import random\n",
    "\n",
    "roll = random.randint(1,6)"
   ]
  },
  {
   "cell_type": "code",
   "execution_count": 18,
   "metadata": {},
   "outputs": [
    {
     "name": "stdin",
     "output_type": "stream",
     "text": [
      "Guess the dice roll 7\n"
     ]
    }
   ],
   "source": [
    "guess = int (input(\"Guess the dice roll\"))"
   ]
  },
  {
   "cell_type": "code",
   "execution_count": 19,
   "metadata": {},
   "outputs": [
    {
     "name": "stdout",
     "output_type": "stream",
     "text": [
      "Your guess is wrong. Rolled number is  2\n"
     ]
    }
   ],
   "source": [
    "if guess==roll:\n",
    "    print(\"Your guess is right\")\n",
    "else:\n",
    "    print(\"Your guess is wrong. Rolled number is \",roll)"
   ]
  },
  {
   "cell_type": "code",
   "execution_count": 20,
   "metadata": {},
   "outputs": [
    {
     "data": {
      "text/plain": [
       "['BPF',\n",
       " 'LOG4',\n",
       " 'NV_MAGICCONST',\n",
       " 'RECIP_BPF',\n",
       " 'Random',\n",
       " 'SG_MAGICCONST',\n",
       " 'SystemRandom',\n",
       " 'TWOPI',\n",
       " '_Sequence',\n",
       " '_Set',\n",
       " '__all__',\n",
       " '__builtins__',\n",
       " '__cached__',\n",
       " '__doc__',\n",
       " '__file__',\n",
       " '__loader__',\n",
       " '__name__',\n",
       " '__package__',\n",
       " '__spec__',\n",
       " '_accumulate',\n",
       " '_acos',\n",
       " '_bisect',\n",
       " '_ceil',\n",
       " '_cos',\n",
       " '_e',\n",
       " '_exp',\n",
       " '_inst',\n",
       " '_log',\n",
       " '_os',\n",
       " '_pi',\n",
       " '_random',\n",
       " '_repeat',\n",
       " '_sha512',\n",
       " '_sin',\n",
       " '_sqrt',\n",
       " '_test',\n",
       " '_test_generator',\n",
       " '_urandom',\n",
       " '_warn',\n",
       " 'betavariate',\n",
       " 'choice',\n",
       " 'choices',\n",
       " 'expovariate',\n",
       " 'gammavariate',\n",
       " 'gauss',\n",
       " 'getrandbits',\n",
       " 'getstate',\n",
       " 'lognormvariate',\n",
       " 'normalvariate',\n",
       " 'paretovariate',\n",
       " 'randint',\n",
       " 'random',\n",
       " 'randrange',\n",
       " 'sample',\n",
       " 'seed',\n",
       " 'setstate',\n",
       " 'shuffle',\n",
       " 'triangular',\n",
       " 'uniform',\n",
       " 'vonmisesvariate',\n",
       " 'weibullvariate']"
      ]
     },
     "execution_count": 20,
     "metadata": {},
     "output_type": "execute_result"
    }
   ],
   "source": [
    "dir(random)"
   ]
  },
  {
   "cell_type": "code",
   "execution_count": 21,
   "metadata": {},
   "outputs": [
    {
     "name": "stdout",
     "output_type": "stream",
     "text": [
      "Help on method randint in module random:\n",
      "\n",
      "randint(a, b) method of random.Random instance\n",
      "    Return random integer in range [a, b], including both end points.\n",
      "\n"
     ]
    }
   ],
   "source": [
    "help(random.randint)"
   ]
  },
  {
   "cell_type": "code",
   "execution_count": 22,
   "metadata": {},
   "outputs": [],
   "source": [
    "import math"
   ]
  },
  {
   "cell_type": "code",
   "execution_count": 23,
   "metadata": {},
   "outputs": [
    {
     "data": {
      "text/plain": [
       "['__doc__',\n",
       " '__file__',\n",
       " '__loader__',\n",
       " '__name__',\n",
       " '__package__',\n",
       " '__spec__',\n",
       " 'acos',\n",
       " 'acosh',\n",
       " 'asin',\n",
       " 'asinh',\n",
       " 'atan',\n",
       " 'atan2',\n",
       " 'atanh',\n",
       " 'ceil',\n",
       " 'comb',\n",
       " 'copysign',\n",
       " 'cos',\n",
       " 'cosh',\n",
       " 'degrees',\n",
       " 'dist',\n",
       " 'e',\n",
       " 'erf',\n",
       " 'erfc',\n",
       " 'exp',\n",
       " 'expm1',\n",
       " 'fabs',\n",
       " 'factorial',\n",
       " 'floor',\n",
       " 'fmod',\n",
       " 'frexp',\n",
       " 'fsum',\n",
       " 'gamma',\n",
       " 'gcd',\n",
       " 'hypot',\n",
       " 'inf',\n",
       " 'isclose',\n",
       " 'isfinite',\n",
       " 'isinf',\n",
       " 'isnan',\n",
       " 'isqrt',\n",
       " 'ldexp',\n",
       " 'lgamma',\n",
       " 'log',\n",
       " 'log10',\n",
       " 'log1p',\n",
       " 'log2',\n",
       " 'modf',\n",
       " 'nan',\n",
       " 'perm',\n",
       " 'pi',\n",
       " 'pow',\n",
       " 'prod',\n",
       " 'radians',\n",
       " 'remainder',\n",
       " 'sin',\n",
       " 'sinh',\n",
       " 'sqrt',\n",
       " 'tan',\n",
       " 'tanh',\n",
       " 'tau',\n",
       " 'trunc']"
      ]
     },
     "execution_count": 23,
     "metadata": {},
     "output_type": "execute_result"
    }
   ],
   "source": [
    "dir(math)"
   ]
  },
  {
   "cell_type": "code",
   "execution_count": 24,
   "metadata": {},
   "outputs": [
    {
     "name": "stdout",
     "output_type": "stream",
     "text": [
      "Help on built-in function sqrt in module math:\n",
      "\n",
      "sqrt(x, /)\n",
      "    Return the square root of x.\n",
      "\n"
     ]
    }
   ],
   "source": [
    "help(math.sqrt)"
   ]
  },
  {
   "cell_type": "code",
   "execution_count": 25,
   "metadata": {},
   "outputs": [
    {
     "data": {
      "text/plain": [
       "6.0"
      ]
     },
     "execution_count": 25,
     "metadata": {},
     "output_type": "execute_result"
    }
   ],
   "source": [
    "math.sqrt(36)"
   ]
  },
  {
   "cell_type": "code",
   "execution_count": 26,
   "metadata": {},
   "outputs": [
    {
     "data": {
      "text/plain": [
       "['ArithmeticError',\n",
       " 'AssertionError',\n",
       " 'AttributeError',\n",
       " 'BaseException',\n",
       " 'BlockingIOError',\n",
       " 'BrokenPipeError',\n",
       " 'BufferError',\n",
       " 'BytesWarning',\n",
       " 'ChildProcessError',\n",
       " 'ConnectionAbortedError',\n",
       " 'ConnectionError',\n",
       " 'ConnectionRefusedError',\n",
       " 'ConnectionResetError',\n",
       " 'DeprecationWarning',\n",
       " 'EOFError',\n",
       " 'Ellipsis',\n",
       " 'EnvironmentError',\n",
       " 'Exception',\n",
       " 'False',\n",
       " 'FileExistsError',\n",
       " 'FileNotFoundError',\n",
       " 'FloatingPointError',\n",
       " 'FutureWarning',\n",
       " 'GeneratorExit',\n",
       " 'IOError',\n",
       " 'ImportError',\n",
       " 'ImportWarning',\n",
       " 'IndentationError',\n",
       " 'IndexError',\n",
       " 'InterruptedError',\n",
       " 'IsADirectoryError',\n",
       " 'KeyError',\n",
       " 'KeyboardInterrupt',\n",
       " 'LookupError',\n",
       " 'MemoryError',\n",
       " 'ModuleNotFoundError',\n",
       " 'NameError',\n",
       " 'None',\n",
       " 'NotADirectoryError',\n",
       " 'NotImplemented',\n",
       " 'NotImplementedError',\n",
       " 'OSError',\n",
       " 'OverflowError',\n",
       " 'PendingDeprecationWarning',\n",
       " 'PermissionError',\n",
       " 'ProcessLookupError',\n",
       " 'RecursionError',\n",
       " 'ReferenceError',\n",
       " 'ResourceWarning',\n",
       " 'RuntimeError',\n",
       " 'RuntimeWarning',\n",
       " 'StopAsyncIteration',\n",
       " 'StopIteration',\n",
       " 'SyntaxError',\n",
       " 'SyntaxWarning',\n",
       " 'SystemError',\n",
       " 'SystemExit',\n",
       " 'TabError',\n",
       " 'TimeoutError',\n",
       " 'True',\n",
       " 'TypeError',\n",
       " 'UnboundLocalError',\n",
       " 'UnicodeDecodeError',\n",
       " 'UnicodeEncodeError',\n",
       " 'UnicodeError',\n",
       " 'UnicodeTranslateError',\n",
       " 'UnicodeWarning',\n",
       " 'UserWarning',\n",
       " 'ValueError',\n",
       " 'Warning',\n",
       " 'ZeroDivisionError',\n",
       " '__IPYTHON__',\n",
       " '__build_class__',\n",
       " '__debug__',\n",
       " '__doc__',\n",
       " '__import__',\n",
       " '__loader__',\n",
       " '__name__',\n",
       " '__package__',\n",
       " '__spec__',\n",
       " 'abs',\n",
       " 'all',\n",
       " 'any',\n",
       " 'ascii',\n",
       " 'bin',\n",
       " 'bool',\n",
       " 'breakpoint',\n",
       " 'bytearray',\n",
       " 'bytes',\n",
       " 'callable',\n",
       " 'chr',\n",
       " 'classmethod',\n",
       " 'compile',\n",
       " 'complex',\n",
       " 'copyright',\n",
       " 'credits',\n",
       " 'delattr',\n",
       " 'dict',\n",
       " 'dir',\n",
       " 'display',\n",
       " 'divmod',\n",
       " 'enumerate',\n",
       " 'eval',\n",
       " 'exec',\n",
       " 'filter',\n",
       " 'float',\n",
       " 'format',\n",
       " 'frozenset',\n",
       " 'get_ipython',\n",
       " 'getattr',\n",
       " 'globals',\n",
       " 'hasattr',\n",
       " 'hash',\n",
       " 'help',\n",
       " 'hex',\n",
       " 'id',\n",
       " 'input',\n",
       " 'int',\n",
       " 'isinstance',\n",
       " 'issubclass',\n",
       " 'iter',\n",
       " 'len',\n",
       " 'license',\n",
       " 'list',\n",
       " 'locals',\n",
       " 'map',\n",
       " 'max',\n",
       " 'memoryview',\n",
       " 'min',\n",
       " 'next',\n",
       " 'object',\n",
       " 'oct',\n",
       " 'open',\n",
       " 'ord',\n",
       " 'pow',\n",
       " 'print',\n",
       " 'property',\n",
       " 'range',\n",
       " 'repr',\n",
       " 'reversed',\n",
       " 'round',\n",
       " 'set',\n",
       " 'setattr',\n",
       " 'slice',\n",
       " 'sorted',\n",
       " 'staticmethod',\n",
       " 'str',\n",
       " 'sum',\n",
       " 'super',\n",
       " 'tuple',\n",
       " 'type',\n",
       " 'vars',\n",
       " 'zip']"
      ]
     },
     "execution_count": 26,
     "metadata": {},
     "output_type": "execute_result"
    }
   ],
   "source": [
    "dir(__builtins__)"
   ]
  },
  {
   "cell_type": "code",
   "execution_count": 27,
   "metadata": {},
   "outputs": [
    {
     "name": "stdout",
     "output_type": "stream",
     "text": [
      "Help on built-in function max in module builtins:\n",
      "\n",
      "max(...)\n",
      "    max(iterable, *[, default=obj, key=func]) -> value\n",
      "    max(arg1, arg2, *args, *[, key=func]) -> value\n",
      "    \n",
      "    With a single iterable argument, return its biggest item. The\n",
      "    default keyword-only argument specifies an object to return if\n",
      "    the provided iterable is empty.\n",
      "    With two or more arguments, return the largest argument.\n",
      "\n"
     ]
    }
   ],
   "source": [
    "help(max)"
   ]
  },
  {
   "cell_type": "code",
   "execution_count": 28,
   "metadata": {},
   "outputs": [
    {
     "data": {
      "text/plain": [
       "9"
      ]
     },
     "execution_count": 28,
     "metadata": {},
     "output_type": "execute_result"
    }
   ],
   "source": [
    "list=[1,8,9,5]\n",
    "max(list)"
   ]
  },
  {
   "cell_type": "code",
   "execution_count": 29,
   "metadata": {},
   "outputs": [
    {
     "data": {
      "text/plain": [
       "23"
      ]
     },
     "execution_count": 29,
     "metadata": {},
     "output_type": "execute_result"
    }
   ],
   "source": [
    "sum(list)"
   ]
  },
  {
   "cell_type": "markdown",
   "metadata": {},
   "source": [
    "## Getting list of installed  packages"
   ]
  },
  {
   "cell_type": "code",
   "execution_count": 30,
   "metadata": {},
   "outputs": [
    {
     "name": "stdout",
     "output_type": "stream",
     "text": [
      "['alabaster==0.7.12', 'appdirs==1.4.4', 'argon2-cffi==20.1.0', 'asn1crypto==1.4.0', 'async-generator==1.10', 'atomicwrites==1.4.0', 'attrs==20.2.0', 'babel==2.8.0', 'backcall==0.2.0', 'bcrypt==3.2.0', 'bitstring==3.1.7', 'bleach==3.2.1', 'blist==1.3.6', 'cachecontrol==0.12.6', 'cachy==0.3.0', 'certifi==2020.6.20', 'cffi==1.14.3', 'chardet==3.0.4', 'cleo==0.8.1', 'click==7.1.2', 'clikit==0.6.2', 'colorama==0.4.3', 'crashtest==0.3.1', 'cryptography==3.1.1', 'cython==0.29.21', 'decorator==4.4.2', 'defusedxml==0.6.0', 'distlib==0.3.1', 'docopt==0.6.2', 'docutils==0.16', 'ecdsa==0.16.0', 'entrypoints==0.3', 'filelock==3.0.12', 'flit-core==3.0.0', 'flit==3.0.0', 'fsspec==0.8.4', 'future==0.18.2', 'html5lib==1.1', 'idna==2.10', 'imagesize==1.2.0', 'importlib-metadata==2.0.0', 'iniconfig==1.0.1', 'intervaltree==3.1.0', 'intreehooks==1.0', 'ipaddress==1.0.23', 'ipykernel==5.3.4', 'ipython-genutils==0.2.0', 'ipython==7.18.1', 'ipywidgets==7.5.1', 'jedi==0.17.2', 'jeepney==0.4.3', 'jinja2==2.11.2', 'joblib==0.17.0', 'json5==0.9.5', 'jsonschema==3.2.0', 'jupyter-client==6.1.7', 'jupyter-core==4.6.3', 'jupyterlab-pygments==0.1.2', 'jupyterlab-server==1.2.0', 'jupyterlab==2.2.8', 'keyring==21.4.0', 'keyrings.alt==4.0.0', 'liac-arff==2.5.0', 'lockfile==0.12.2', 'markupsafe==1.1.1', 'mistune==0.8.4', 'mock==4.0.2', 'more-itertools==8.5.0', 'msgpack==1.0.0', 'nbclient==0.5.0', 'nbconvert==6.0.7', 'nbformat==5.0.7', 'nest-asyncio==1.4.1', 'netaddr==0.8.0', 'netifaces==0.10.9', 'nose==1.3.7', 'notebook==6.1.4', 'numpy==1.20.2', 'packaging==20.4', 'pandocfilters==1.4.2', 'paramiko==2.7.2', 'parso==0.7.1', 'pastel==0.2.1', 'pathlib2==2.3.5', 'paycheck==1.0.2', 'pbr==5.5.0', 'pexpect==4.8.0', 'pickleshare==0.7.5', 'pip==20.2.1', 'pkginfo==1.5.0.1', 'pluggy==0.13.1', 'poetry-core==1.0.0', 'poetry==1.1.3', 'prometheus-client==0.8.0', 'prompt-toolkit==3.0.7', 'psutil==5.7.2', 'ptyprocess==0.6.0', 'py-expression-eval==0.3.10', 'py==1.9.0', 'pyasn1==0.4.8', 'pycparser==2.20', 'pycrypto==2.6.1', 'pygments==2.7.1', 'pylev==1.3.0', 'pynacl==1.4.0', 'pyparsing==2.4.7', 'pyrsistent==0.17.3', 'pytest==6.1.1', 'python-dateutil==2.8.1', 'pytoml==0.1.21', 'pytz==2020.1', 'pyzmq==19.0.2', 'regex==2020.10.11', 'requests-toolbelt==0.9.1', 'requests==2.24.0', 'scandir==1.10.0', 'secretstorage==3.1.2', 'send2trash==1.5.0', 'setuptools-scm==4.1.2', 'setuptools==50.3.0', 'shellingham==1.3.2', 'simplegeneric==0.8.1', 'simplejson==3.17.2', 'six==1.15.0', 'snowballstemmer==2.0.0', 'sortedcontainers==2.2.2', 'sphinx-bootstrap-theme==0.7.1', 'sphinx==3.2.1', 'sphinxcontrib-applehelp==1.0.2', 'sphinxcontrib-devhelp==1.0.2', 'sphinxcontrib-htmlhelp==1.0.3', 'sphinxcontrib-jsmath==1.0.1', 'sphinxcontrib-qthelp==1.0.3', 'sphinxcontrib-serializinghtml==1.1.4', 'sphinxcontrib-websupport==1.2.4', 'tabulate==0.8.7', 'terminado==0.9.1', 'testpath==0.4.4', 'threadpoolctl==2.1.0', 'toml==0.10.1', 'tomlkit==0.7.0', 'tornado==6.0.4', 'traitlets==5.0.4', 'ujson==4.0.1', 'urllib3==1.25.10', 'virtualenv==20.0.34', 'wcwidth==0.2.5', 'webencodings==0.5.1', 'wheel==0.35.1', 'widgetsnbextension==3.5.1', 'xlrd==1.2.0', 'zipp==3.3.0']\n"
     ]
    }
   ],
   "source": [
    "import pkg_resources\n",
    "installed_packages = pkg_resources.working_set\n",
    "installed_packages_list = sorted([\"%s==%s\" % (i.key, i.version)\n",
    "   for i in installed_packages])\n",
    "print(installed_packages_list)"
   ]
  },
  {
   "cell_type": "code",
   "execution_count": 31,
   "metadata": {},
   "outputs": [
    {
     "name": "stdout",
     "output_type": "stream",
     "text": [
      "Package                       Version\n",
      "----------------------------- ----------\n",
      "alabaster                     0.7.12\n",
      "appdirs                       1.4.4\n",
      "argon2-cffi                   20.1.0\n",
      "asn1crypto                    1.4.0\n",
      "async-generator               1.10\n",
      "atomicwrites                  1.4.0\n",
      "attrs                         20.2.0\n",
      "Babel                         2.8.0\n",
      "backcall                      0.2.0\n",
      "bcrypt                        3.2.0\n",
      "bitstring                     3.1.7\n",
      "bleach                        3.2.1\n",
      "blist                         1.3.6\n",
      "CacheControl                  0.12.6\n",
      "cachy                         0.3.0\n",
      "certifi                       2020.6.20\n",
      "cffi                          1.14.3\n",
      "chardet                       3.0.4\n",
      "cleo                          0.8.1\n",
      "click                         7.1.2\n",
      "clikit                        0.6.2\n",
      "colorama                      0.4.3\n",
      "crashtest                     0.3.1\n",
      "cryptography                  3.1.1\n",
      "Cython                        0.29.21\n",
      "decorator                     4.4.2\n",
      "defusedxml                    0.6.0\n",
      "distlib                       0.3.1\n",
      "docopt                        0.6.2\n",
      "docutils                      0.16\n",
      "ecdsa                         0.16.0\n",
      "entrypoints                   0.3\n",
      "filelock                      3.0.12\n",
      "flit                          3.0.0\n",
      "flit-core                     3.0.0\n",
      "fsspec                        0.8.4\n",
      "future                        0.18.2\n",
      "html5lib                      1.1\n",
      "idna                          2.10\n",
      "imagesize                     1.2.0\n",
      "importlib-metadata            2.0.0\n",
      "iniconfig                     1.0.1\n",
      "intervaltree                  3.1.0\n",
      "intreehooks                   1.0\n",
      "ipaddress                     1.0.23\n",
      "ipykernel                     5.3.4\n",
      "ipython                       7.18.1\n",
      "ipython-genutils              0.2.0\n",
      "ipywidgets                    7.5.1\n",
      "jedi                          0.17.2\n",
      "jeepney                       0.4.3\n",
      "Jinja2                        2.11.2\n",
      "joblib                        0.17.0\n",
      "json5                         0.9.5\n",
      "jsonschema                    3.2.0\n",
      "jupyter-client                6.1.7\n",
      "jupyter-core                  4.6.3\n",
      "jupyterlab                    2.2.8\n",
      "jupyterlab-pygments           0.1.2\n",
      "jupyterlab-server             1.2.0\n",
      "keyring                       21.4.0\n",
      "keyrings.alt                  4.0.0\n",
      "liac-arff                     2.5.0\n",
      "lockfile                      0.12.2\n",
      "MarkupSafe                    1.1.1\n",
      "mistune                       0.8.4\n",
      "mock                          4.0.2\n",
      "more-itertools                8.5.0\n",
      "msgpack                       1.0.0\n",
      "nbclient                      0.5.0\n",
      "nbconvert                     6.0.7\n",
      "nbformat                      5.0.7\n",
      "nest-asyncio                  1.4.1\n",
      "netaddr                       0.8.0\n",
      "netifaces                     0.10.9\n",
      "nose                          1.3.7\n",
      "notebook                      6.1.4\n",
      "numpy                         1.20.2\n",
      "packaging                     20.4\n",
      "pandocfilters                 1.4.2\n",
      "paramiko                      2.7.2\n",
      "parso                         0.7.1\n",
      "pastel                        0.2.1\n",
      "pathlib2                      2.3.5\n",
      "paycheck                      1.0.2\n",
      "pbr                           5.5.0\n",
      "pexpect                       4.8.0\n",
      "pickleshare                   0.7.5\n",
      "pip                           20.2.3\n",
      "pkginfo                       1.5.0.1\n",
      "pluggy                        0.13.1\n",
      "poetry                        1.1.3\n",
      "poetry-core                   1.0.0\n",
      "prometheus-client             0.8.0\n",
      "prompt-toolkit                3.0.7\n",
      "psutil                        5.7.2\n",
      "ptyprocess                    0.6.0\n",
      "py                            1.9.0\n",
      "py-expression-eval            0.3.10\n",
      "pyasn1                        0.4.8\n",
      "pycparser                     2.20\n",
      "pycrypto                      2.6.1\n",
      "Pygments                      2.7.1\n",
      "pylev                         1.3.0\n",
      "PyNaCl                        1.4.0\n",
      "pyparsing                     2.4.7\n",
      "pyrsistent                    0.17.3\n",
      "pytest                        6.1.1\n",
      "python-dateutil               2.8.1\n",
      "pytoml                        0.1.21\n",
      "pytz                          2020.1\n",
      "pyzmq                         19.0.2\n",
      "regex                         2020.10.11\n",
      "requests                      2.24.0\n",
      "requests-toolbelt             0.9.1\n",
      "scandir                       1.10.0\n",
      "SecretStorage                 3.1.2\n",
      "Send2Trash                    1.5.0\n",
      "setuptools                    50.3.0\n",
      "setuptools-scm                4.1.2\n",
      "shellingham                   1.3.2\n",
      "simplegeneric                 0.8.1\n",
      "simplejson                    3.17.2\n",
      "six                           1.15.0\n",
      "snowballstemmer               2.0.0\n",
      "sortedcontainers              2.2.2\n",
      "Sphinx                        3.2.1\n",
      "sphinx-bootstrap-theme        0.7.1\n",
      "sphinxcontrib-applehelp       1.0.2\n",
      "sphinxcontrib-devhelp         1.0.2\n",
      "sphinxcontrib-htmlhelp        1.0.3\n",
      "sphinxcontrib-jsmath          1.0.1\n",
      "sphinxcontrib-qthelp          1.0.3\n",
      "sphinxcontrib-serializinghtml 1.1.4\n",
      "sphinxcontrib-websupport      1.2.4\n",
      "tabulate                      0.8.7\n",
      "terminado                     0.9.1\n",
      "testpath                      0.4.4\n",
      "threadpoolctl                 2.1.0\n",
      "toml                          0.10.1\n",
      "tomlkit                       0.7.0\n",
      "tornado                       6.0.4\n",
      "traitlets                     5.0.4\n",
      "ujson                         4.0.1\n",
      "urllib3                       1.25.10\n",
      "virtualenv                    20.0.34\n",
      "wcwidth                       0.2.5\n",
      "webencodings                  0.5.1\n",
      "wheel                         0.35.1\n",
      "widgetsnbextension            3.5.1\n",
      "xlrd                          1.2.0\n",
      "zipp                          3.3.0\n"
     ]
    }
   ],
   "source": [
    "! pip list"
   ]
  },
  {
   "cell_type": "markdown",
   "metadata": {},
   "source": [
    "## Further reading\n",
    "\n",
    "* http://www.python.org - The official web page of the Python programming language.\n",
    "* http://www.python.org/dev/peps/pep-0008 - Style guide for Python programming. Highly recommended. \n",
    "* http://www.greenteapress.com/thinkpython/ - A free book on Python programming.\n",
    "* [Python Essential Reference](http://www.amazon.com/Python-Essential-Reference-4th-Edition/dp/0672329786) - A good reference book on Python programming.\n",
    "\n",
    "## Source\n",
    "\n",
    "* Practical Python Beginner, https://app.pluralsight.com/\n",
    "\n",
    "* Based on J.R. Johansson (jrjohansson at gmail.com) online training materials The latest version of this IPython notebook lecture is available at http://github.com/jrjohansson/scientific-python-lectures. The other notebooks in this lecture series are indexed at http://jrjohansson.github.io.\n",
    "\n"
   ]
  },
  {
   "cell_type": "markdown",
   "metadata": {},
   "source": [
    "## Rock paper scissor Example"
   ]
  },
  {
   "cell_type": "markdown",
   "metadata": {},
   "source": [
    "Create a rock paper scissor game where you will provide the input (rock paper or scissor)using the input function and computer will choose randomly using random module. Check who wins the game you or the computer by using the if-else statement"
   ]
  }
 ],
 "metadata": {
  "kernelspec": {
   "display_name": "Python 3",
   "language": "python",
   "name": "python3"
  },
  "language_info": {
   "codemirror_mode": {
    "name": "ipython",
    "version": 3
   },
   "file_extension": ".py",
   "mimetype": "text/x-python",
   "name": "python",
   "nbconvert_exporter": "python",
   "pygments_lexer": "ipython3",
   "version": "3.8.6"
  }
 },
 "nbformat": 4,
 "nbformat_minor": 4
}
