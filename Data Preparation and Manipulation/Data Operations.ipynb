{
 "cells": [
  {
   "cell_type": "code",
   "execution_count": 50,
   "id": "ea1d1737-2f98-46e6-9400-47ffdf2f8396",
   "metadata": {},
   "outputs": [],
   "source": [
    "import pandas as pd\n"
   ]
  },
  {
   "cell_type": "code",
   "execution_count": 51,
   "id": "0c11e84c-a484-4482-9570-9f168798e5cc",
   "metadata": {},
   "outputs": [],
   "source": [
    "df = pd.read_pickle('../data/georgia-history.pkl')"
   ]
  },
  {
   "cell_type": "code",
   "execution_count": 52,
   "id": "2548161c-a396-4a3a-9046-a3437def10e3",
   "metadata": {},
   "outputs": [
    {
     "data": {
      "text/html": [
       "<div>\n",
       "<style scoped>\n",
       "    .dataframe tbody tr th:only-of-type {\n",
       "        vertical-align: middle;\n",
       "    }\n",
       "\n",
       "    .dataframe tbody tr th {\n",
       "        vertical-align: top;\n",
       "    }\n",
       "\n",
       "    .dataframe thead th {\n",
       "        text-align: right;\n",
       "    }\n",
       "</style>\n",
       "<table border=\"1\" class=\"dataframe\">\n",
       "  <thead>\n",
       "    <tr style=\"text-align: right;\">\n",
       "      <th></th>\n",
       "      <th>death</th>\n",
       "      <th>deathIncrease</th>\n",
       "      <th>hospitalized</th>\n",
       "      <th>hospitalizedCumulative</th>\n",
       "      <th>hospitalizedCurrently</th>\n",
       "      <th>hospitalizedIncrease</th>\n",
       "      <th>inIcuCumulative</th>\n",
       "      <th>positive</th>\n",
       "      <th>positiveCasesViral</th>\n",
       "      <th>positiveIncrease</th>\n",
       "      <th>positiveTestsViral</th>\n",
       "    </tr>\n",
       "    <tr>\n",
       "      <th>date</th>\n",
       "      <th></th>\n",
       "      <th></th>\n",
       "      <th></th>\n",
       "      <th></th>\n",
       "      <th></th>\n",
       "      <th></th>\n",
       "      <th></th>\n",
       "      <th></th>\n",
       "      <th></th>\n",
       "      <th></th>\n",
       "      <th></th>\n",
       "    </tr>\n",
       "  </thead>\n",
       "  <tbody>\n",
       "    <tr>\n",
       "      <th>2021-03-07</th>\n",
       "      <td>17906.0</td>\n",
       "      <td>1</td>\n",
       "      <td>56797.0</td>\n",
       "      <td>56797.0</td>\n",
       "      <td>2008.0</td>\n",
       "      <td>35</td>\n",
       "      <td>9263.0</td>\n",
       "      <td>1023487</td>\n",
       "      <td>828336.0</td>\n",
       "      <td>1709</td>\n",
       "      <td>803515</td>\n",
       "    </tr>\n",
       "    <tr>\n",
       "      <th>2021-03-06</th>\n",
       "      <td>17905.0</td>\n",
       "      <td>90</td>\n",
       "      <td>56762.0</td>\n",
       "      <td>56762.0</td>\n",
       "      <td>2071.0</td>\n",
       "      <td>135</td>\n",
       "      <td>9260.0</td>\n",
       "      <td>1021778</td>\n",
       "      <td>827397.0</td>\n",
       "      <td>2269</td>\n",
       "      <td>802411</td>\n",
       "    </tr>\n",
       "    <tr>\n",
       "      <th>2021-03-05</th>\n",
       "      <td>17815.0</td>\n",
       "      <td>65</td>\n",
       "      <td>56627.0</td>\n",
       "      <td>56627.0</td>\n",
       "      <td>2099.0</td>\n",
       "      <td>115</td>\n",
       "      <td>9236.0</td>\n",
       "      <td>1019509</td>\n",
       "      <td>826117.0</td>\n",
       "      <td>2081</td>\n",
       "      <td>801097</td>\n",
       "    </tr>\n",
       "    <tr>\n",
       "      <th>2021-03-04</th>\n",
       "      <td>17750.0</td>\n",
       "      <td>125</td>\n",
       "      <td>56512.0</td>\n",
       "      <td>56512.0</td>\n",
       "      <td>2191.0</td>\n",
       "      <td>143</td>\n",
       "      <td>9221.0</td>\n",
       "      <td>1017428</td>\n",
       "      <td>824804.0</td>\n",
       "      <td>2886</td>\n",
       "      <td>799666</td>\n",
       "    </tr>\n",
       "    <tr>\n",
       "      <th>2021-03-03</th>\n",
       "      <td>17625.0</td>\n",
       "      <td>145</td>\n",
       "      <td>56369.0</td>\n",
       "      <td>56369.0</td>\n",
       "      <td>2299.0</td>\n",
       "      <td>118</td>\n",
       "      <td>9186.0</td>\n",
       "      <td>1014542</td>\n",
       "      <td>823008.0</td>\n",
       "      <td>2735</td>\n",
       "      <td>798161</td>\n",
       "    </tr>\n",
       "  </tbody>\n",
       "</table>\n",
       "</div>"
      ],
      "text/plain": [
       "              death  deathIncrease  hospitalized  hospitalizedCumulative  \\\n",
       "date                                                                       \n",
       "2021-03-07  17906.0              1       56797.0                 56797.0   \n",
       "2021-03-06  17905.0             90       56762.0                 56762.0   \n",
       "2021-03-05  17815.0             65       56627.0                 56627.0   \n",
       "2021-03-04  17750.0            125       56512.0                 56512.0   \n",
       "2021-03-03  17625.0            145       56369.0                 56369.0   \n",
       "\n",
       "            hospitalizedCurrently  hospitalizedIncrease  inIcuCumulative  \\\n",
       "date                                                                       \n",
       "2021-03-07                 2008.0                    35           9263.0   \n",
       "2021-03-06                 2071.0                   135           9260.0   \n",
       "2021-03-05                 2099.0                   115           9236.0   \n",
       "2021-03-04                 2191.0                   143           9221.0   \n",
       "2021-03-03                 2299.0                   118           9186.0   \n",
       "\n",
       "            positive  positiveCasesViral  positiveIncrease  positiveTestsViral  \n",
       "date                                                                            \n",
       "2021-03-07   1023487            828336.0              1709              803515  \n",
       "2021-03-06   1021778            827397.0              2269              802411  \n",
       "2021-03-05   1019509            826117.0              2081              801097  \n",
       "2021-03-04   1017428            824804.0              2886              799666  \n",
       "2021-03-03   1014542            823008.0              2735              798161  "
      ]
     },
     "execution_count": 52,
     "metadata": {},
     "output_type": "execute_result"
    }
   ],
   "source": [
    "df.head()"
   ]
  },
  {
   "cell_type": "code",
   "execution_count": 53,
   "id": "33f33c29-4af4-4667-b71d-3962cf323ee7",
   "metadata": {},
   "outputs": [
    {
     "data": {
      "text/plain": [
       "death                      0\n",
       "deathIncrease              0\n",
       "hospitalized              12\n",
       "hospitalizedCumulative    12\n",
       "hospitalizedCurrently     49\n",
       "hospitalizedIncrease       0\n",
       "inIcuCumulative           45\n",
       "positive                   0\n",
       "positiveCasesViral        47\n",
       "positiveIncrease           0\n",
       "positiveTestsViral         0\n",
       "dtype: int64"
      ]
     },
     "execution_count": 53,
     "metadata": {},
     "output_type": "execute_result"
    }
   ],
   "source": [
    "df.isna().sum()"
   ]
  },
  {
   "cell_type": "code",
   "execution_count": 54,
   "id": "601aa37e-d953-4f9e-a4c7-8ab7874214cd",
   "metadata": {},
   "outputs": [],
   "source": [
    "df = df[['death','deathIncrease','hospitalizedIncrease','positive','positiveIncrease','positiveTestsViral']]"
   ]
  },
  {
   "cell_type": "code",
   "execution_count": 55,
   "id": "1c0e9b05-c352-4076-b223-8c9dd42ab18d",
   "metadata": {},
   "outputs": [
    {
     "data": {
      "text/html": [
       "<div>\n",
       "<style scoped>\n",
       "    .dataframe tbody tr th:only-of-type {\n",
       "        vertical-align: middle;\n",
       "    }\n",
       "\n",
       "    .dataframe tbody tr th {\n",
       "        vertical-align: top;\n",
       "    }\n",
       "\n",
       "    .dataframe thead th {\n",
       "        text-align: right;\n",
       "    }\n",
       "</style>\n",
       "<table border=\"1\" class=\"dataframe\">\n",
       "  <thead>\n",
       "    <tr style=\"text-align: right;\">\n",
       "      <th></th>\n",
       "      <th>death</th>\n",
       "      <th>deathIncrease</th>\n",
       "      <th>hospitalizedIncrease</th>\n",
       "      <th>positive</th>\n",
       "      <th>positiveIncrease</th>\n",
       "      <th>positiveTestsViral</th>\n",
       "    </tr>\n",
       "    <tr>\n",
       "      <th>date</th>\n",
       "      <th></th>\n",
       "      <th></th>\n",
       "      <th></th>\n",
       "      <th></th>\n",
       "      <th></th>\n",
       "      <th></th>\n",
       "    </tr>\n",
       "  </thead>\n",
       "  <tbody>\n",
       "    <tr>\n",
       "      <th>2021-03-07</th>\n",
       "      <td>17906.0</td>\n",
       "      <td>1</td>\n",
       "      <td>35</td>\n",
       "      <td>1023487</td>\n",
       "      <td>1709</td>\n",
       "      <td>803515</td>\n",
       "    </tr>\n",
       "    <tr>\n",
       "      <th>2021-03-06</th>\n",
       "      <td>17905.0</td>\n",
       "      <td>90</td>\n",
       "      <td>135</td>\n",
       "      <td>1021778</td>\n",
       "      <td>2269</td>\n",
       "      <td>802411</td>\n",
       "    </tr>\n",
       "    <tr>\n",
       "      <th>2021-03-05</th>\n",
       "      <td>17815.0</td>\n",
       "      <td>65</td>\n",
       "      <td>115</td>\n",
       "      <td>1019509</td>\n",
       "      <td>2081</td>\n",
       "      <td>801097</td>\n",
       "    </tr>\n",
       "    <tr>\n",
       "      <th>2021-03-04</th>\n",
       "      <td>17750.0</td>\n",
       "      <td>125</td>\n",
       "      <td>143</td>\n",
       "      <td>1017428</td>\n",
       "      <td>2886</td>\n",
       "      <td>799666</td>\n",
       "    </tr>\n",
       "    <tr>\n",
       "      <th>2021-03-03</th>\n",
       "      <td>17625.0</td>\n",
       "      <td>145</td>\n",
       "      <td>118</td>\n",
       "      <td>1014542</td>\n",
       "      <td>2735</td>\n",
       "      <td>798161</td>\n",
       "    </tr>\n",
       "  </tbody>\n",
       "</table>\n",
       "</div>"
      ],
      "text/plain": [
       "              death  deathIncrease  hospitalizedIncrease  positive  \\\n",
       "date                                                                 \n",
       "2021-03-07  17906.0              1                    35   1023487   \n",
       "2021-03-06  17905.0             90                   135   1021778   \n",
       "2021-03-05  17815.0             65                   115   1019509   \n",
       "2021-03-04  17750.0            125                   143   1017428   \n",
       "2021-03-03  17625.0            145                   118   1014542   \n",
       "\n",
       "            positiveIncrease  positiveTestsViral  \n",
       "date                                              \n",
       "2021-03-07              1709              803515  \n",
       "2021-03-06              2269              802411  \n",
       "2021-03-05              2081              801097  \n",
       "2021-03-04              2886              799666  \n",
       "2021-03-03              2735              798161  "
      ]
     },
     "execution_count": 55,
     "metadata": {},
     "output_type": "execute_result"
    }
   ],
   "source": [
    "df.head()"
   ]
  },
  {
   "cell_type": "code",
   "execution_count": 56,
   "id": "972f923e-d6c0-4920-911b-3d10f4781da1",
   "metadata": {},
   "outputs": [
    {
     "data": {
      "text/plain": [
       "death                   0\n",
       "deathIncrease           0\n",
       "hospitalizedIncrease    0\n",
       "positive                0\n",
       "positiveIncrease        0\n",
       "positiveTestsViral      0\n",
       "dtype: int64"
      ]
     },
     "execution_count": 56,
     "metadata": {},
     "output_type": "execute_result"
    }
   ],
   "source": [
    "df.isna().sum()"
   ]
  },
  {
   "cell_type": "markdown",
   "id": "e6938a8f-b42a-4ebe-aa40-2d54ad48f4f2",
   "metadata": {},
   "source": [
    "## Numpy"
   ]
  },
  {
   "cell_type": "code",
   "execution_count": 57,
   "id": "a79e989d-c689-419c-b3f8-92d1f1fef512",
   "metadata": {},
   "outputs": [],
   "source": [
    "# Convert data to numpy array\n",
    "\n",
    "# Arrays are important because they enable you to express batch operations on data without writing any for loops. This is usually called vectorization. \n",
    "import numpy as np\n",
    "array = df.to_numpy()"
   ]
  },
  {
   "cell_type": "code",
   "execution_count": 58,
   "id": "82854ad2-0b8a-4fa9-a366-38a9989e111f",
   "metadata": {},
   "outputs": [
    {
     "data": {
      "text/plain": [
       "array([1.790600e+04, 4.800000e+02, 6.110000e+02, 1.023487e+06,\n",
       "       3.160500e+04, 8.035150e+05])"
      ]
     },
     "execution_count": 58,
     "metadata": {},
     "output_type": "execute_result"
    }
   ],
   "source": [
    "# Find the maximum values along columns\n",
    "array.max(axis=0)\n"
   ]
  },
  {
   "cell_type": "code",
   "execution_count": 59,
   "id": "c737a127-ed75-43e3-b5c5-7dcbb162269a",
   "metadata": {},
   "outputs": [
    {
     "data": {
      "text/plain": [
       "array([ 1.,  0.,  0., 42., 11., 32.])"
      ]
     },
     "execution_count": 59,
     "metadata": {},
     "output_type": "execute_result"
    }
   ],
   "source": [
    "# Find the minimum values along columns\n",
    "array.min(axis=0)"
   ]
  },
  {
   "cell_type": "code",
   "execution_count": 60,
   "id": "a629eab6-6b63-436c-bdf5-2c74afd8d238",
   "metadata": {},
   "outputs": [
    {
     "data": {
      "text/plain": [
       "array([6.52556111e+03, 4.97388889e+01, 1.57769444e+02, 3.43052811e+05,\n",
       "       2.84293333e+03, 2.87568761e+05])"
      ]
     },
     "execution_count": 60,
     "metadata": {},
     "output_type": "execute_result"
    }
   ],
   "source": [
    "# Find the mean values along columns\n",
    "\n",
    "array.mean(axis=0)"
   ]
  },
  {
   "cell_type": "code",
   "execution_count": 61,
   "id": "df9ed14b-6720-4857-9b13-9295137d6069",
   "metadata": {},
   "outputs": [
    {
     "data": {
      "text/plain": [
       "array([6.099000e+03, 3.600000e+01, 1.315000e+02, 2.863185e+05,\n",
       "       2.068000e+03, 2.621070e+05])"
      ]
     },
     "execution_count": 61,
     "metadata": {},
     "output_type": "execute_result"
    }
   ],
   "source": [
    "# Find the median values along columns\n",
    "\n",
    "np.median(array,axis=0)"
   ]
  },
  {
   "cell_type": "code",
   "execution_count": 62,
   "id": "f43201cd-f76a-4d6a-8efd-a593627a0e22",
   "metadata": {},
   "outputs": [
    {
     "data": {
      "text/plain": [
       "(360, 6)"
      ]
     },
     "execution_count": 62,
     "metadata": {},
     "output_type": "execute_result"
    }
   ],
   "source": [
    "array.shape"
   ]
  },
  {
   "cell_type": "code",
   "execution_count": 63,
   "id": "3fb414ab-5a5e-4b05-95c1-52f3898ac404",
   "metadata": {},
   "outputs": [
    {
     "data": {
      "text/plain": [
       "(6, 360)"
      ]
     },
     "execution_count": 63,
     "metadata": {},
     "output_type": "execute_result"
    }
   ],
   "source": [
    "# Transposing array\n",
    "array_transpose = array.T\n",
    "array_transpose.shape"
   ]
  },
  {
   "cell_type": "code",
   "execution_count": 64,
   "id": "f9179599-fd29-460b-835e-f124c7c4cfcd",
   "metadata": {},
   "outputs": [
    {
     "data": {
      "text/plain": [
       "array([1.790600e+04, 1.000000e+00, 3.500000e+01, 1.023487e+06,\n",
       "       1.709000e+03, 8.035150e+05])"
      ]
     },
     "execution_count": 64,
     "metadata": {},
     "output_type": "execute_result"
    }
   ],
   "source": [
    "# To get the first row\n",
    "array[0]"
   ]
  },
  {
   "cell_type": "code",
   "execution_count": 65,
   "id": "e2f0095f-769e-4d65-a377-efcf061de8df",
   "metadata": {},
   "outputs": [
    {
     "data": {
      "text/plain": [
       "array([  1.,  90.,  65., 125., 145., 104.,  81.,   1.,  75.,  20., 135.,\n",
       "       137.,  92.,  91.,   2., 132., 207., 130.,  99., 246.,  57.,  21.,\n",
       "       142., 195.,  92., 120., 171.,  38.,   2., 232., 102., 169., 137.,\n",
       "       208.,  44.,   2., 210., 159., 184., 161., 179.,  53.,   4., 186.,\n",
       "       171., 111., 196., 222.,  64.,   5., 153., 163., 172., 141., 187.,\n",
       "        17.,   1., 143.,  84.,  65.,  93., 101.,   7.,   4.,   2.,  24.,\n",
       "        88.,  67.,  83.,   7.,   4.,  54.,  49.,  63.,  56.,  64.,  16.,\n",
       "         2.,  49.,  38.,  66.,  68.,  56.,  28.,   1.,  44.,  56.,  54.,\n",
       "        48.,  22.,  45.,  13.,  68.,  77.,  81.,  52.,  63.,  10.,  18.,\n",
       "        44.,  44.,  39.,  76.,   6.,  17.,  19.,  37.,  40.,  37.,  57.,\n",
       "        41.,  10.,   1.,  51.,  24.,  75.,  76.,  53.,  29.,   1.,  39.,\n",
       "        30.,  56.,  43., 480.,  18.,   2.,  24.,  32.,  47.,  32.,  17.,\n",
       "        18.,   1.,  42.,  37.,  25.,  30.,  17.,  19.,  31.,  51.,  64.,\n",
       "        22.,  16.,  25.,  13.,  23.,  45.,  54.,  35.,  30.,  37.,  30.,\n",
       "        28.,  28.,  43.,  42.,  27.,  33.,  15.,  32.,  40.,  52.,  49.,\n",
       "        96.,  73.,   2.,   3.,  62.,  63.,  55.,  21.,  45.,  20.,  46.,\n",
       "        41.,  42.,  76.,  58.,  26.,   7.,  60.,  46.,  63.,  73.,  62.,\n",
       "       101.,  28.,  28., 105.,  78.,  82.,  49., 106.,  24.,  40.,  94.,\n",
       "        94.,  55.,  55.,  67.,  25.,  33.,  96.,  35.,  82., 105., 122.,\n",
       "        30.,  13.,  69.,  91.,  42.,  63.,  79.,   2.,  15.,  73.,  81.,\n",
       "        29.,  79.,  54.,  11.,   3.,  53.,  82.,  25.,  81.,  78.,   3.,\n",
       "         5.,  36.,  28.,  13.,  37.,  28.,  25.,   5.,  31.,  35.,   8.,\n",
       "        23.,  21.,  18.,   3.,   1.,   7.,  22.,  22.,  21.,   6.,   2.,\n",
       "         6.,  25.,  47.,  10.,  40.,   5.,   1.,   6.,  31.,  30.,  46.,\n",
       "        35.,  43.,   5.,  28.,  43.,  46.,  44.,  77.,  28.,   6.,   0.,\n",
       "        27.,  24.,  21.,  28.,  32.,  39.,  29.,  12.,  55.,  36.,  41.,\n",
       "         6.,  13.,  26.,  31.,  67.,  23.,  22.,  36.,  14.,  35.,  30.,\n",
       "        22.,  44.,  20.,  36.,   5.,  23.,  41.,  25.,  23.,  66.,  45.,\n",
       "         3.,  20.,  34.,  27.,  67.,  55.,  59.,   8.,  12.,  20.,  36.,\n",
       "        37.,  66.,  46.,  14.,  23.,  63.,  35.,  51.,  37.,  31.,   5.,\n",
       "        12.,  37.,  17.,  33., 100.,  18.,  10.,  17.,  21.,  24.,  28.,\n",
       "        24.,   7.,  11.,   5.,  16.,   8.,   8.,   7.,   2.,   9.,   1.,\n",
       "         3.,   9.,   0.,   0.,   0.,   0.,   0.,   1.])"
      ]
     },
     "execution_count": 65,
     "metadata": {},
     "output_type": "execute_result"
    }
   ],
   "source": [
    "# Accessing all rows and first column\n",
    "\n",
    "array[:,1]"
   ]
  },
  {
   "cell_type": "code",
   "execution_count": 66,
   "id": "bf991dd5-8c62-4c9a-b74c-2f0532e892b8",
   "metadata": {},
   "outputs": [
    {
     "data": {
      "text/plain": [
       "array([[1.790600e+04, 1.790500e+04, 1.781500e+04, ..., 1.000000e+00,\n",
       "        1.000000e+00, 1.000000e+00],\n",
       "       [1.000000e+00, 9.000000e+01, 6.500000e+01, ..., 0.000000e+00,\n",
       "        0.000000e+00, 1.000000e+00],\n",
       "       [3.500000e+01, 1.350000e+02, 1.150000e+02, ..., 0.000000e+00,\n",
       "        0.000000e+00, 0.000000e+00],\n",
       "       [1.023487e+06, 1.021778e+06, 1.019509e+06, ..., 9.900000e+01,\n",
       "        6.600000e+01, 4.200000e+01],\n",
       "       [1.709000e+03, 2.269000e+03, 2.081000e+03, ..., 3.300000e+01,\n",
       "        2.400000e+01, 1.100000e+01],\n",
       "       [8.035150e+05, 8.024110e+05, 8.010970e+05, ..., 6.800000e+01,\n",
       "        4.100000e+01, 3.200000e+01]])"
      ]
     },
     "execution_count": 66,
     "metadata": {},
     "output_type": "execute_result"
    }
   ],
   "source": [
    "array_transpose"
   ]
  },
  {
   "cell_type": "code",
   "execution_count": 67,
   "id": "aa8a8793-dc5e-4728-b0b8-b7c24018a198",
   "metadata": {},
   "outputs": [
    {
     "data": {
      "text/plain": [
       "array([1.7905e+04, 1.7815e+04, 1.7750e+04, 1.7625e+04, 1.7480e+04,\n",
       "       1.7376e+04, 1.7295e+04, 1.7294e+04, 1.7219e+04, 1.7199e+04,\n",
       "       1.7064e+04, 1.6927e+04, 1.6835e+04, 1.6744e+04, 1.6742e+04,\n",
       "       1.6610e+04, 1.6403e+04, 1.6273e+04, 1.6174e+04, 1.5928e+04,\n",
       "       1.5871e+04, 1.5850e+04, 1.5708e+04, 1.5513e+04, 1.5421e+04,\n",
       "       1.5301e+04, 1.5130e+04, 1.5092e+04, 1.5090e+04, 1.4858e+04,\n",
       "       1.4756e+04, 1.4587e+04, 1.4450e+04, 1.4242e+04, 1.4198e+04,\n",
       "       1.4196e+04, 1.3986e+04, 1.3827e+04, 1.3643e+04, 1.3482e+04,\n",
       "       1.3303e+04, 1.3250e+04, 1.3246e+04, 1.3060e+04, 1.2889e+04,\n",
       "       1.2778e+04, 1.2582e+04, 1.2360e+04, 1.2296e+04, 1.2291e+04,\n",
       "       1.2138e+04, 1.1975e+04, 1.1803e+04, 1.1662e+04, 1.1475e+04,\n",
       "       1.1458e+04, 1.1457e+04, 1.1314e+04, 1.1230e+04, 1.1165e+04,\n",
       "       1.1072e+04, 1.0971e+04, 1.0964e+04, 1.0960e+04, 1.0958e+04,\n",
       "       1.0934e+04, 1.0846e+04, 1.0779e+04, 1.0696e+04, 1.0689e+04,\n",
       "       1.0685e+04, 1.0631e+04, 1.0582e+04, 1.0519e+04, 1.0463e+04,\n",
       "       1.0399e+04, 1.0383e+04, 1.0381e+04, 1.0332e+04, 1.0294e+04,\n",
       "       1.0228e+04, 1.0160e+04, 1.0104e+04, 1.0076e+04, 1.0075e+04,\n",
       "       1.0031e+04, 9.9750e+03, 9.9210e+03, 9.8730e+03, 9.8510e+03,\n",
       "       9.8060e+03, 9.7930e+03, 9.7250e+03, 9.6480e+03, 9.5670e+03,\n",
       "       9.5150e+03, 9.4520e+03, 9.4420e+03, 9.4240e+03, 9.3800e+03,\n",
       "       9.3360e+03, 9.2970e+03, 9.2210e+03, 9.2150e+03, 9.1980e+03,\n",
       "       9.1790e+03, 9.1420e+03, 9.1020e+03, 9.0650e+03, 9.0080e+03,\n",
       "       8.9670e+03, 8.9570e+03, 8.9560e+03, 8.9050e+03, 8.8810e+03,\n",
       "       8.8060e+03, 8.7300e+03, 8.6770e+03, 8.6480e+03, 8.6470e+03,\n",
       "       8.6080e+03, 8.5780e+03, 8.5220e+03, 8.4790e+03, 7.9990e+03,\n",
       "       7.9810e+03, 7.9790e+03, 7.9550e+03, 7.9230e+03, 7.8760e+03,\n",
       "       7.8440e+03, 7.8270e+03, 7.8090e+03, 7.8080e+03, 7.7660e+03,\n",
       "       7.7290e+03, 7.7040e+03, 7.6740e+03, 7.6570e+03, 7.6380e+03,\n",
       "       7.6070e+03, 7.5560e+03, 7.4920e+03, 7.4700e+03, 7.4540e+03,\n",
       "       7.4290e+03, 7.4160e+03, 7.3930e+03, 7.3480e+03, 7.2940e+03,\n",
       "       7.2590e+03, 7.2290e+03, 7.1920e+03, 7.1620e+03, 7.1340e+03,\n",
       "       7.1060e+03, 7.0630e+03, 7.0210e+03, 6.9940e+03, 6.9610e+03,\n",
       "       6.9460e+03, 6.9140e+03, 6.8740e+03, 6.8220e+03, 6.7730e+03,\n",
       "       6.6770e+03, 6.6040e+03, 6.6020e+03, 6.5990e+03, 6.5370e+03,\n",
       "       6.4740e+03, 6.4190e+03, 6.3980e+03, 6.3530e+03, 6.3330e+03,\n",
       "       6.2870e+03, 6.2460e+03, 6.2040e+03, 6.1280e+03, 6.0700e+03,\n",
       "       6.0440e+03, 6.0370e+03, 5.9770e+03, 5.9310e+03, 5.8680e+03,\n",
       "       5.7950e+03, 5.7330e+03, 5.6320e+03, 5.6040e+03, 5.5760e+03,\n",
       "       5.4710e+03, 5.3930e+03, 5.3110e+03, 5.2620e+03, 5.1560e+03,\n",
       "       5.1320e+03, 5.0920e+03, 4.9980e+03, 4.9040e+03, 4.8490e+03,\n",
       "       4.7940e+03, 4.7270e+03, 4.7020e+03, 4.6690e+03, 4.5730e+03,\n",
       "       4.5380e+03, 4.4560e+03, 4.3510e+03, 4.2290e+03, 4.1990e+03,\n",
       "       4.1860e+03, 4.1170e+03, 4.0260e+03, 3.9840e+03, 3.9210e+03,\n",
       "       3.8420e+03, 3.8400e+03, 3.8250e+03, 3.7520e+03, 3.6710e+03,\n",
       "       3.6420e+03, 3.5630e+03, 3.5090e+03, 3.4980e+03, 3.4950e+03,\n",
       "       3.4420e+03, 3.3600e+03, 3.3350e+03, 3.2540e+03, 3.1760e+03,\n",
       "       3.1730e+03, 3.1680e+03, 3.1320e+03, 3.1040e+03, 3.0910e+03,\n",
       "       3.0540e+03, 3.0260e+03, 3.0010e+03, 2.9960e+03, 2.9650e+03,\n",
       "       2.9300e+03, 2.9220e+03, 2.8990e+03, 2.8780e+03, 2.8600e+03,\n",
       "       2.8570e+03, 2.8560e+03, 2.8490e+03, 2.8270e+03, 2.8050e+03,\n",
       "       2.7840e+03, 2.7780e+03, 2.7760e+03, 2.7700e+03, 2.7450e+03,\n",
       "       2.6980e+03, 2.6880e+03, 2.6480e+03, 2.6430e+03, 2.6420e+03,\n",
       "       2.6360e+03, 2.6050e+03, 2.5750e+03, 2.5290e+03, 2.4940e+03,\n",
       "       2.4510e+03, 2.4460e+03, 2.4180e+03, 2.3750e+03, 2.3290e+03,\n",
       "       2.2850e+03, 2.2080e+03, 2.1800e+03, 2.1740e+03, 2.1740e+03,\n",
       "       2.1470e+03, 2.1230e+03, 2.1020e+03, 2.0740e+03, 2.0420e+03,\n",
       "       2.0030e+03, 1.9740e+03, 1.9620e+03, 1.9070e+03, 1.8710e+03,\n",
       "       1.8300e+03, 1.8240e+03, 1.8110e+03, 1.7850e+03, 1.7540e+03,\n",
       "       1.6870e+03, 1.6640e+03, 1.6420e+03, 1.6060e+03, 1.5920e+03,\n",
       "       1.5570e+03, 1.5270e+03, 1.5050e+03, 1.4610e+03, 1.4410e+03,\n",
       "       1.4050e+03, 1.4000e+03, 1.3770e+03, 1.3360e+03, 1.3110e+03,\n",
       "       1.2880e+03, 1.2220e+03, 1.1770e+03, 1.1740e+03, 1.1540e+03,\n",
       "       1.1200e+03, 1.0930e+03, 1.0260e+03, 9.7100e+02, 9.1200e+02,\n",
       "       9.0400e+02, 8.9200e+02, 8.7200e+02, 8.3600e+02, 7.9900e+02,\n",
       "       7.3300e+02, 6.8700e+02, 6.7300e+02, 6.5000e+02, 5.8700e+02,\n",
       "       5.5200e+02, 5.0100e+02, 4.6400e+02, 4.3300e+02, 4.2800e+02,\n",
       "       4.1600e+02, 3.7900e+02, 3.6200e+02, 3.2900e+02, 2.2900e+02,\n",
       "       2.1100e+02, 2.0100e+02, 1.8400e+02, 1.6300e+02, 1.3900e+02,\n",
       "       1.1100e+02, 8.7000e+01, 8.0000e+01, 6.9000e+01, 6.4000e+01,\n",
       "       4.8000e+01, 4.0000e+01, 3.2000e+01, 2.5000e+01, 2.3000e+01,\n",
       "       1.4000e+01, 1.3000e+01, 1.0000e+01, 1.0000e+00, 1.0000e+00,\n",
       "       1.0000e+00, 1.0000e+00, 1.0000e+00, 1.0000e+00, 0.0000e+00])"
      ]
     },
     "execution_count": 67,
     "metadata": {},
     "output_type": "execute_result"
    }
   ],
   "source": [
    "# Let's find the \n",
    "array[:,0]-array[:,1]"
   ]
  },
  {
   "cell_type": "code",
   "execution_count": 68,
   "id": "0881d9ef-9c7e-4083-ae91-83684b408f13",
   "metadata": {},
   "outputs": [],
   "source": [
    "def my_func(a):\n",
    "    \"\"\"Average first and last element of a 1-D array\"\"\"\n",
    "    return (a[0] + a[-1]) * 0.5"
   ]
  },
  {
   "cell_type": "code",
   "execution_count": 69,
   "id": "3d1c6aa6-9a05-4b03-ab94-ab07f08254bc",
   "metadata": {},
   "outputs": [
    {
     "data": {
      "text/plain": [
       "array([8.953500e+03, 1.000000e+00, 1.750000e+01, 5.117645e+05,\n",
       "       8.600000e+02, 4.017735e+05])"
      ]
     },
     "execution_count": 69,
     "metadata": {},
     "output_type": "execute_result"
    }
   ],
   "source": [
    "np.apply_along_axis(my_func, 0, array)"
   ]
  },
  {
   "cell_type": "code",
   "execution_count": 70,
   "id": "ff52c262-2479-4f07-a71f-c62995aa26cd",
   "metadata": {},
   "outputs": [
    {
     "data": {
      "text/plain": [
       "array([[2.34920200e+06, 1.79060000e+04, 5.67970000e+04, 1.23499012e+08,\n",
       "        1.02345600e+06, 1.03524754e+08]])"
      ]
     },
     "execution_count": 70,
     "metadata": {},
     "output_type": "execute_result"
    }
   ],
   "source": [
    "# Sum over columns.\n",
    "np.apply_over_axes(np.sum, array, axes=0)"
   ]
  }
 ],
 "metadata": {
  "kernelspec": {
   "display_name": "Python 3 (ipykernel)",
   "language": "python",
   "name": "python3"
  },
  "language_info": {
   "codemirror_mode": {
    "name": "ipython",
    "version": 3
   },
   "file_extension": ".py",
   "mimetype": "text/x-python",
   "name": "python",
   "nbconvert_exporter": "python",
   "pygments_lexer": "ipython3",
   "version": "3.7.12"
  }
 },
 "nbformat": 4,
 "nbformat_minor": 5
}
