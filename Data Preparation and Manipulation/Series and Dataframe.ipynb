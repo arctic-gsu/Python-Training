{
 "cells": [
  {
   "cell_type": "markdown",
   "metadata": {
    "id": "rXr_vIxJlA2e"
   },
   "source": [
    "# Pandas\n",
    "\n",
    "Pandas provide a high level data structure with convenient functions to read and parse data. It is built on top of numpy and can interact with multiple file formats "
   ]
  },
  {
   "cell_type": "markdown",
   "metadata": {
    "id": "TTqR7rdrlA2f"
   },
   "source": [
    "To install panda \n",
    "\n",
    "!pip install pandas\n"
   ]
  },
  {
   "cell_type": "code",
   "execution_count": 1,
   "metadata": {
    "id": "KPS4ObA7lA2f"
   },
   "outputs": [],
   "source": [
    "import pandas as pd\n",
    "import numpy as np"
   ]
  },
  {
   "cell_type": "markdown",
   "metadata": {
    "id": "dB-obmS1lA2f"
   },
   "source": [
    "Two Data Types\n",
    "\n",
    "* Series - One dimensional labeled array. Can hold data of any type.\n",
    "* Dataframe - a two dimensional labeled datastructure that can hold data of any type. However, you will see performance decreases if you use data types that aren’t handled well by C."
   ]
  },
  {
   "cell_type": "markdown",
   "metadata": {
    "id": "ORZKQ8amlozb"
   },
   "source": [
    "## 1. Series\n",
    "First, lets make a pandas series from a numpy array."
   ]
  },
  {
   "cell_type": "code",
   "execution_count": 2,
   "metadata": {
    "id": "tlze3O6llA2f"
   },
   "outputs": [],
   "source": [
    "arr = np.random.rand(3)"
   ]
  },
  {
   "cell_type": "code",
   "execution_count": 3,
   "metadata": {
    "colab": {
     "base_uri": "https://localhost:8080/"
    },
    "id": "-4YoaIQ6lA2g",
    "outputId": "7570cae7-e1ac-4641-cfc8-ed249fc9055a"
   },
   "outputs": [
    {
     "data": {
      "text/plain": [
       "array([0.81290389, 0.12252748, 0.88448147])"
      ]
     },
     "execution_count": 3,
     "metadata": {},
     "output_type": "execute_result"
    }
   ],
   "source": [
    "arr"
   ]
  },
  {
   "cell_type": "code",
   "execution_count": 4,
   "metadata": {
    "id": "-aBNOsailA2g"
   },
   "outputs": [],
   "source": [
    "arr_series = pd.Series(arr)"
   ]
  },
  {
   "cell_type": "markdown",
   "metadata": {
    "id": "0KvI9H-mmilh"
   },
   "source": [
    "Now we have a series object, which you can easily display in a notebook by typing its name:"
   ]
  },
  {
   "cell_type": "code",
   "execution_count": 5,
   "metadata": {
    "colab": {
     "base_uri": "https://localhost:8080/"
    },
    "id": "rwPWBOw7lA2g",
    "outputId": "c84b94e6-5f63-4ee3-c04b-23df329c749a"
   },
   "outputs": [
    {
     "data": {
      "text/plain": [
       "0    0.812904\n",
       "1    0.122527\n",
       "2    0.884481\n",
       "dtype: float64"
      ]
     },
     "execution_count": 5,
     "metadata": {},
     "output_type": "execute_result"
    }
   ],
   "source": [
    "arr_series"
   ]
  },
  {
   "cell_type": "markdown",
   "metadata": {
    "id": "-NQiaVd-mMDP"
   },
   "source": [
    "## 2. Dataframe\n",
    "Now lets create a pandas dataframe in a similar way. The majority of data structures you will make will likely be dataframes.\n"
   ]
  },
  {
   "cell_type": "code",
   "execution_count": 6,
   "metadata": {
    "id": "LCyEn0CAlA2h"
   },
   "outputs": [],
   "source": [
    "arr_1 = np.random.rand(3,4)"
   ]
  },
  {
   "cell_type": "code",
   "execution_count": 7,
   "metadata": {
    "colab": {
     "base_uri": "https://localhost:8080/"
    },
    "id": "yE-3c5CulA2h",
    "outputId": "f2935d08-8b7a-4d76-d7ff-bc2e65b1ab4a"
   },
   "outputs": [
    {
     "data": {
      "text/plain": [
       "array([[0.58961565, 0.74778079, 0.63589935, 0.74962347],\n",
       "       [0.91742817, 0.38101643, 0.12718552, 0.5571277 ],\n",
       "       [0.64671335, 0.63386282, 0.26188873, 0.78521223]])"
      ]
     },
     "execution_count": 7,
     "metadata": {},
     "output_type": "execute_result"
    }
   ],
   "source": [
    "arr_1"
   ]
  },
  {
   "cell_type": "code",
   "execution_count": 8,
   "metadata": {
    "id": "ZfhghEWClA2h"
   },
   "outputs": [],
   "source": [
    "arr_1_dataframe = pd.DataFrame(arr_1)"
   ]
  },
  {
   "cell_type": "markdown",
   "metadata": {
    "id": "rq3A3fJymxUC"
   },
   "source": [
    "We now have our dataframe, lets display it:\n"
   ]
  },
  {
   "cell_type": "code",
   "execution_count": 9,
   "metadata": {
    "colab": {
     "base_uri": "https://localhost:8080/",
     "height": 142
    },
    "id": "j2H3bt-tlA2h",
    "outputId": "902d5245-0d94-45cf-e0de-36be889995e3"
   },
   "outputs": [
    {
     "data": {
      "text/html": [
       "<div>\n",
       "<style scoped>\n",
       "    .dataframe tbody tr th:only-of-type {\n",
       "        vertical-align: middle;\n",
       "    }\n",
       "\n",
       "    .dataframe tbody tr th {\n",
       "        vertical-align: top;\n",
       "    }\n",
       "\n",
       "    .dataframe thead th {\n",
       "        text-align: right;\n",
       "    }\n",
       "</style>\n",
       "<table border=\"1\" class=\"dataframe\">\n",
       "  <thead>\n",
       "    <tr style=\"text-align: right;\">\n",
       "      <th></th>\n",
       "      <th>0</th>\n",
       "      <th>1</th>\n",
       "      <th>2</th>\n",
       "      <th>3</th>\n",
       "    </tr>\n",
       "  </thead>\n",
       "  <tbody>\n",
       "    <tr>\n",
       "      <th>0</th>\n",
       "      <td>0.589616</td>\n",
       "      <td>0.747781</td>\n",
       "      <td>0.635899</td>\n",
       "      <td>0.749623</td>\n",
       "    </tr>\n",
       "    <tr>\n",
       "      <th>1</th>\n",
       "      <td>0.917428</td>\n",
       "      <td>0.381016</td>\n",
       "      <td>0.127186</td>\n",
       "      <td>0.557128</td>\n",
       "    </tr>\n",
       "    <tr>\n",
       "      <th>2</th>\n",
       "      <td>0.646713</td>\n",
       "      <td>0.633863</td>\n",
       "      <td>0.261889</td>\n",
       "      <td>0.785212</td>\n",
       "    </tr>\n",
       "  </tbody>\n",
       "</table>\n",
       "</div>"
      ],
      "text/plain": [
       "          0         1         2         3\n",
       "0  0.589616  0.747781  0.635899  0.749623\n",
       "1  0.917428  0.381016  0.127186  0.557128\n",
       "2  0.646713  0.633863  0.261889  0.785212"
      ]
     },
     "execution_count": 9,
     "metadata": {},
     "output_type": "execute_result"
    }
   ],
   "source": [
    "arr_1_dataframe"
   ]
  },
  {
   "cell_type": "markdown",
   "metadata": {
    "id": "K8Txotrrm4D7"
   },
   "source": [
    "There are a variety of built in variables that dataframes posses, for the sake of explanation, we will make a new dataframe using the original one-dimensional numpy array:\n"
   ]
  },
  {
   "cell_type": "code",
   "execution_count": 10,
   "metadata": {
    "id": "TjXd1nGalA2h"
   },
   "outputs": [],
   "source": [
    "arr_dataframe = pd.DataFrame(arr)"
   ]
  },
  {
   "cell_type": "code",
   "execution_count": 11,
   "metadata": {
    "colab": {
     "base_uri": "https://localhost:8080/",
     "height": 142
    },
    "id": "rct-YzA0lA2i",
    "outputId": "148689a1-9cc5-455a-d239-d86b8b7e8643"
   },
   "outputs": [
    {
     "data": {
      "text/html": [
       "<div>\n",
       "<style scoped>\n",
       "    .dataframe tbody tr th:only-of-type {\n",
       "        vertical-align: middle;\n",
       "    }\n",
       "\n",
       "    .dataframe tbody tr th {\n",
       "        vertical-align: top;\n",
       "    }\n",
       "\n",
       "    .dataframe thead th {\n",
       "        text-align: right;\n",
       "    }\n",
       "</style>\n",
       "<table border=\"1\" class=\"dataframe\">\n",
       "  <thead>\n",
       "    <tr style=\"text-align: right;\">\n",
       "      <th></th>\n",
       "      <th>0</th>\n",
       "    </tr>\n",
       "  </thead>\n",
       "  <tbody>\n",
       "    <tr>\n",
       "      <th>0</th>\n",
       "      <td>0.812904</td>\n",
       "    </tr>\n",
       "    <tr>\n",
       "      <th>1</th>\n",
       "      <td>0.122527</td>\n",
       "    </tr>\n",
       "    <tr>\n",
       "      <th>2</th>\n",
       "      <td>0.884481</td>\n",
       "    </tr>\n",
       "  </tbody>\n",
       "</table>\n",
       "</div>"
      ],
      "text/plain": [
       "          0\n",
       "0  0.812904\n",
       "1  0.122527\n",
       "2  0.884481"
      ]
     },
     "execution_count": 11,
     "metadata": {},
     "output_type": "execute_result"
    }
   ],
   "source": [
    "arr_dataframe"
   ]
  },
  {
   "cell_type": "markdown",
   "metadata": {
    "id": "aBVx7R8pnWLr"
   },
   "source": [
    "df.dtypes refers to the datatypes of all fields in the dataframe:\n"
   ]
  },
  {
   "cell_type": "code",
   "execution_count": 12,
   "metadata": {
    "colab": {
     "base_uri": "https://localhost:8080/"
    },
    "id": "I_iuzkkqngZ2",
    "outputId": "a716c42c-b1fc-4332-b67d-53b319ae0b12"
   },
   "outputs": [
    {
     "data": {
      "text/plain": [
       "0    float64\n",
       "dtype: object"
      ]
     },
     "execution_count": 12,
     "metadata": {},
     "output_type": "execute_result"
    }
   ],
   "source": [
    "arr_dataframe.dtypes"
   ]
  },
  {
   "cell_type": "markdown",
   "metadata": {
    "id": "dzVREhzVn0d3"
   },
   "source": [
    "df.index refers to the labels/rows of each datapoint:"
   ]
  },
  {
   "cell_type": "code",
   "execution_count": 13,
   "metadata": {
    "colab": {
     "base_uri": "https://localhost:8080/"
    },
    "id": "alWL60Mqn6nj",
    "outputId": "b08c483c-ecfe-4d58-bb83-a2fdad066a76"
   },
   "outputs": [
    {
     "data": {
      "text/plain": [
       "RangeIndex(start=0, stop=3, step=1)"
      ]
     },
     "execution_count": 13,
     "metadata": {},
     "output_type": "execute_result"
    }
   ],
   "source": [
    "arr_dataframe.index"
   ]
  },
  {
   "cell_type": "markdown",
   "metadata": {
    "id": "irD52MoloDKT"
   },
   "source": [
    "df.columns refers to the fields of the dataframe:"
   ]
  },
  {
   "cell_type": "code",
   "execution_count": 14,
   "metadata": {
    "colab": {
     "base_uri": "https://localhost:8080/"
    },
    "id": "URk5qHOUlA2i",
    "outputId": "c62ed2ca-c53d-4701-d71d-71d48bbd4d66"
   },
   "outputs": [
    {
     "data": {
      "text/plain": [
       "RangeIndex(start=0, stop=1, step=1)"
      ]
     },
     "execution_count": 14,
     "metadata": {},
     "output_type": "execute_result"
    }
   ],
   "source": [
    "arr_dataframe.columns"
   ]
  },
  {
   "cell_type": "markdown",
   "metadata": {
    "id": "zZslJaQXoT63"
   },
   "source": [
    "Note that we can change these variables:"
   ]
  },
  {
   "cell_type": "code",
   "execution_count": 15,
   "metadata": {
    "id": "eij_LW7tlA2i"
   },
   "outputs": [],
   "source": [
    "arr_dataframe.columns = [\"Value\"]"
   ]
  },
  {
   "cell_type": "code",
   "execution_count": 16,
   "metadata": {
    "colab": {
     "base_uri": "https://localhost:8080/",
     "height": 142
    },
    "id": "zfayeUujlA2i",
    "outputId": "f0534ebd-9c99-4cca-b2ac-c05607314e30"
   },
   "outputs": [
    {
     "data": {
      "text/html": [
       "<div>\n",
       "<style scoped>\n",
       "    .dataframe tbody tr th:only-of-type {\n",
       "        vertical-align: middle;\n",
       "    }\n",
       "\n",
       "    .dataframe tbody tr th {\n",
       "        vertical-align: top;\n",
       "    }\n",
       "\n",
       "    .dataframe thead th {\n",
       "        text-align: right;\n",
       "    }\n",
       "</style>\n",
       "<table border=\"1\" class=\"dataframe\">\n",
       "  <thead>\n",
       "    <tr style=\"text-align: right;\">\n",
       "      <th></th>\n",
       "      <th>Value</th>\n",
       "    </tr>\n",
       "  </thead>\n",
       "  <tbody>\n",
       "    <tr>\n",
       "      <th>0</th>\n",
       "      <td>0.812904</td>\n",
       "    </tr>\n",
       "    <tr>\n",
       "      <th>1</th>\n",
       "      <td>0.122527</td>\n",
       "    </tr>\n",
       "    <tr>\n",
       "      <th>2</th>\n",
       "      <td>0.884481</td>\n",
       "    </tr>\n",
       "  </tbody>\n",
       "</table>\n",
       "</div>"
      ],
      "text/plain": [
       "      Value\n",
       "0  0.812904\n",
       "1  0.122527\n",
       "2  0.884481"
      ]
     },
     "execution_count": 16,
     "metadata": {},
     "output_type": "execute_result"
    }
   ],
   "source": [
    "arr_dataframe"
   ]
  },
  {
   "cell_type": "markdown",
   "metadata": {
    "id": "9JEaYDAPofeW"
   },
   "source": [
    "df.values refers to the values at each point (it is rare that we actually use this, but it is good to know):"
   ]
  },
  {
   "cell_type": "code",
   "execution_count": 17,
   "metadata": {
    "colab": {
     "base_uri": "https://localhost:8080/"
    },
    "id": "noBb9rLeoh9t",
    "outputId": "e2149837-58ca-4b7e-e6dd-8d32b0be0c38"
   },
   "outputs": [
    {
     "data": {
      "text/plain": [
       "array([[0.81290389],\n",
       "       [0.12252748],\n",
       "       [0.88448147]])"
      ]
     },
     "execution_count": 17,
     "metadata": {},
     "output_type": "execute_result"
    }
   ],
   "source": [
    "arr_dataframe.values"
   ]
  },
  {
   "cell_type": "markdown",
   "metadata": {
    "id": "ontvS_YOo1PH"
   },
   "source": [
    "df.shape refers to the dimensionality of the dataframe:"
   ]
  },
  {
   "cell_type": "code",
   "execution_count": 18,
   "metadata": {
    "id": "VS4GzoR7lA2i",
    "outputId": "5beb3937-c01a-4800-e5ac-407d1da31764"
   },
   "outputs": [
    {
     "data": {
      "text/plain": [
       "(3, 1)"
      ]
     },
     "execution_count": 18,
     "metadata": {},
     "output_type": "execute_result"
    }
   ],
   "source": [
    "arr_dataframe.shape"
   ]
  }
 ],
 "metadata": {
  "colab": {
   "collapsed_sections": [],
   "name": "Pands_01.ipynb",
   "provenance": []
  },
  "kernelspec": {
   "display_name": "Python 3 (ipykernel)",
   "language": "python",
   "name": "python3"
  },
  "language_info": {
   "codemirror_mode": {
    "name": "ipython",
    "version": 3
   },
   "file_extension": ".py",
   "mimetype": "text/x-python",
   "name": "python",
   "nbconvert_exporter": "python",
   "pygments_lexer": "ipython3",
   "version": "3.7.12"
  }
 },
 "nbformat": 4,
 "nbformat_minor": 4
}
