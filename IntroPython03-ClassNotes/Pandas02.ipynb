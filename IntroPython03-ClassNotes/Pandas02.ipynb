{
  "nbformat": 4,
  "nbformat_minor": 0,
  "metadata": {
    "kernelspec": {
      "display_name": "Python 3",
      "language": "python",
      "name": "python3"
    },
    "language_info": {
      "codemirror_mode": {
        "name": "ipython",
        "version": 3
      },
      "file_extension": ".py",
      "mimetype": "text/x-python",
      "name": "python",
      "nbconvert_exporter": "python",
      "pygments_lexer": "ipython3",
      "version": "3.8.6"
    },
    "colab": {
      "name": "Pandas02.ipynb",
      "provenance": []
    }
  },
  "cells": [
    {
      "cell_type": "markdown",
      "metadata": {
        "id": "Cj4v9S17pl70"
      },
      "source": [
        "## Time Series Data"
      ]
    },
    {
      "cell_type": "markdown",
      "metadata": {
        "id": "Qy3_1wgupl71"
      },
      "source": [
        "Time series data is another important class of data. In this session we will explore few Pandas capabilities exploring time series data. The data set that we will use for the current session is  from Kaggle https://www.kaggle.com/mahirkukreja/delhi-weather-data"
      ]
    },
    {
      "cell_type": "code",
      "metadata": {
        "id": "THfPV4YKpl71"
      },
      "source": [
        "import pandas as pd\n",
        "\n",
        "data = pd.read_csv('data/DailyDelhiClimateTest.csv')"
      ],
      "execution_count": null,
      "outputs": []
    },
    {
      "cell_type": "code",
      "metadata": {
        "id": "Gn2Yydqkpl72"
      },
      "source": [
        "data.to_pickle('data/climateData.pickle')"
      ],
      "execution_count": null,
      "outputs": []
    },
    {
      "cell_type": "markdown",
      "metadata": {
        "id": "lgo3EkKQWGPP"
      },
      "source": [
        "Pandas offers many intuitive ways of slicing your data"
      ]
    },
    {
      "cell_type": "markdown",
      "metadata": {
        "id": "qlIxS3e2WTd3"
      },
      "source": [
        "print only the column of _dewptm:"
      ]
    },
    {
      "cell_type": "code",
      "metadata": {
        "id": "hTShbM1iWPyC"
      },
      "source": [
        "print(df._dewptm)\n",
        "print(df[‘_dewptm’])\n"
      ],
      "execution_count": null,
      "outputs": []
    },
    {
      "cell_type": "markdown",
      "metadata": {
        "id": "2ZfVE1KnWYH_"
      },
      "source": [
        "prints only rows 2 to 4:"
      ]
    },
    {
      "cell_type": "code",
      "metadata": {
        "id": "8VbKmHKDWcOh"
      },
      "source": [
        "print(df[2:5])"
      ],
      "execution_count": null,
      "outputs": []
    },
    {
      "cell_type": "markdown",
      "metadata": {
        "id": "Kvk4IuX3Whyr"
      },
      "source": [
        "provide a list of column names in order to slice multiple columns:"
      ]
    },
    {
      "cell_type": "code",
      "metadata": {
        "id": "6yq4s6L4WlT9"
      },
      "source": [
        "print(df[[‘_dewptm’,’_fog’]])"
      ],
      "execution_count": null,
      "outputs": []
    },
    {
      "cell_type": "markdown",
      "metadata": {
        "id": "GXna4V3sWnsS"
      },
      "source": [
        "df.loc can slice multiple columns and rows at the same time. You can think of its inputs as a combination of normal python list indexing and pandas column indexing as shown previously"
      ]
    },
    {
      "cell_type": "markdown",
      "metadata": {
        "id": "1TfBChARWzDl"
      },
      "source": [
        "print rows 2 to 4 of the columns _dewptm and _fog:"
      ]
    },
    {
      "cell_type": "code",
      "metadata": {
        "id": "GwMdiXMzWz_W"
      },
      "source": [
        "print(df.loc[2:5, [‘_dewptm’,’_fog’]])"
      ],
      "execution_count": null,
      "outputs": []
    },
    {
      "cell_type": "code",
      "metadata": {
        "id": "-TaC6GE4pl73",
        "outputId": "1d18e1f7-dfb1-49c5-caf1-7a5a9c456e96"
      },
      "source": [
        "data.loc[0:31,'meantemp'].mean()"
      ],
      "execution_count": null,
      "outputs": [
        {
          "data": {
            "text/plain": [
              "15.696470314024472"
            ]
          },
          "execution_count": 3,
          "metadata": {},
          "output_type": "execute_result"
        }
      ]
    },
    {
      "cell_type": "code",
      "metadata": {
        "id": "Nc4lFRFjpl73",
        "outputId": "de5555aa-cd77-41a1-a2b1-acb91e00efb6"
      },
      "source": [
        "data['humidity'].plot()"
      ],
      "execution_count": null,
      "outputs": [
        {
          "data": {
            "text/plain": [
              "<AxesSubplot:>"
            ]
          },
          "execution_count": 4,
          "metadata": {},
          "output_type": "execute_result"
        },
        {
          "data": {
            "image/png": "[encoded data removed]",
            "text/plain": [
              "<Figure size 432x288 with 1 Axes>"
            ]
          },
          "metadata": {
            "needs_background": "light"
          },
          "output_type": "display_data"
        }
      ]
    },
    {
      "cell_type": "code",
      "metadata": {
        "id": "UGNJ-ux4pl74"
      },
      "source": [
        "data = pd.read_csv('data/DailyDelhiClimateTest.csv',index_col='date')"
      ],
      "execution_count": null,
      "outputs": []
    },
    {
      "cell_type": "code",
      "metadata": {
        "id": "j91U5Xmopl75",
        "outputId": "41a2eadc-f1c4-43ed-a5ba-503607ebd7c8"
      },
      "source": [
        "data.head()"
      ],
      "execution_count": null,
      "outputs": [
        {
          "data": {
            "text/html": [
              "<div>\n",
              "<style scoped>\n",
              "    .dataframe tbody tr th:only-of-type {\n",
              "        vertical-align: middle;\n",
              "    }\n",
              "\n",
              "    .dataframe tbody tr th {\n",
              "        vertical-align: top;\n",
              "    }\n",
              "\n",
              "    .dataframe thead th {\n",
              "        text-align: right;\n",
              "    }\n",
              "</style>\n",
              "<table border=\"1\" class=\"dataframe\">\n",
              "  <thead>\n",
              "    <tr style=\"text-align: right;\">\n",
              "      <th></th>\n",
              "      <th>meantemp</th>\n",
              "      <th>humidity</th>\n",
              "      <th>wind_speed</th>\n",
              "      <th>meanpressure</th>\n",
              "    </tr>\n",
              "    <tr>\n",
              "      <th>date</th>\n",
              "      <th></th>\n",
              "      <th></th>\n",
              "      <th></th>\n",
              "      <th></th>\n",
              "    </tr>\n",
              "  </thead>\n",
              "  <tbody>\n",
              "    <tr>\n",
              "      <th>2017-01-01</th>\n",
              "      <td>15.913043</td>\n",
              "      <td>85.869565</td>\n",
              "      <td>2.743478</td>\n",
              "      <td>59.000000</td>\n",
              "    </tr>\n",
              "    <tr>\n",
              "      <th>2017-01-02</th>\n",
              "      <td>18.500000</td>\n",
              "      <td>77.222222</td>\n",
              "      <td>2.894444</td>\n",
              "      <td>1018.277778</td>\n",
              "    </tr>\n",
              "    <tr>\n",
              "      <th>2017-01-03</th>\n",
              "      <td>17.111111</td>\n",
              "      <td>81.888889</td>\n",
              "      <td>4.016667</td>\n",
              "      <td>1018.333333</td>\n",
              "    </tr>\n",
              "    <tr>\n",
              "      <th>2017-01-04</th>\n",
              "      <td>18.700000</td>\n",
              "      <td>70.050000</td>\n",
              "      <td>4.545000</td>\n",
              "      <td>1015.700000</td>\n",
              "    </tr>\n",
              "    <tr>\n",
              "      <th>2017-01-05</th>\n",
              "      <td>18.388889</td>\n",
              "      <td>74.944444</td>\n",
              "      <td>3.300000</td>\n",
              "      <td>1014.333333</td>\n",
              "    </tr>\n",
              "  </tbody>\n",
              "</table>\n",
              "</div>"
            ],
            "text/plain": [
              "             meantemp   humidity  wind_speed  meanpressure\n",
              "date                                                      \n",
              "2017-01-01  15.913043  85.869565    2.743478     59.000000\n",
              "2017-01-02  18.500000  77.222222    2.894444   1018.277778\n",
              "2017-01-03  17.111111  81.888889    4.016667   1018.333333\n",
              "2017-01-04  18.700000  70.050000    4.545000   1015.700000\n",
              "2017-01-05  18.388889  74.944444    3.300000   1014.333333"
            ]
          },
          "execution_count": 6,
          "metadata": {},
          "output_type": "execute_result"
        }
      ]
    },
    {
      "cell_type": "code",
      "metadata": {
        "id": "ykKsSe7Ipl76",
        "outputId": "367c3d17-3477-45ab-ec57-d6ec9ebd1ddc"
      },
      "source": [
        "data['humidity'].plot()"
      ],
      "execution_count": null,
      "outputs": [
        {
          "data": {
            "text/plain": [
              "<AxesSubplot:xlabel='date'>"
            ]
          },
          "execution_count": 7,
          "metadata": {},
          "output_type": "execute_result"
        },
        {
          "data": {
            "image/png": "[encoded data removed]",
            "text/plain": [
              "<Figure size 432x288 with 1 Axes>"
            ]
          },
          "metadata": {
            "needs_background": "light"
          },
          "output_type": "display_data"
        }
      ]
    },
    {
      "cell_type": "code",
      "metadata": {
        "id": "4ohNToqBpl77"
      },
      "source": [
        "# help(data.resample)"
      ],
      "execution_count": null,
      "outputs": []
    },
    {
      "cell_type": "code",
      "metadata": {
        "id": "abpLFfiZpl77",
        "outputId": "c9e9fa33-afcf-4cbc-915a-39eaac191d3f"
      },
      "source": [
        "data.index"
      ],
      "execution_count": null,
      "outputs": [
        {
          "data": {
            "text/plain": [
              "Index(['2017-01-01', '2017-01-02', '2017-01-03', '2017-01-04', '2017-01-05',\n",
              "       '2017-01-06', '2017-01-07', '2017-01-08', '2017-01-09', '2017-01-10',\n",
              "       ...\n",
              "       '2017-04-15', '2017-04-16', '2017-04-17', '2017-04-18', '2017-04-19',\n",
              "       '2017-04-20', '2017-04-21', '2017-04-22', '2017-04-23', '2017-04-24'],\n",
              "      dtype='object', name='date', length=114)"
            ]
          },
          "execution_count": 9,
          "metadata": {},
          "output_type": "execute_result"
        }
      ]
    },
    {
      "cell_type": "code",
      "metadata": {
        "id": "DzEbt6Yrpl78"
      },
      "source": [
        "data.index = pd.to_datetime(data.index)"
      ],
      "execution_count": null,
      "outputs": []
    },
    {
      "cell_type": "code",
      "metadata": {
        "id": "PMzHGiy3pl78",
        "outputId": "360ef28a-96f4-4aca-8131-4cab3953dd5c"
      },
      "source": [
        "data.index"
      ],
      "execution_count": null,
      "outputs": [
        {
          "data": {
            "text/plain": [
              "DatetimeIndex(['2017-01-01', '2017-01-02', '2017-01-03', '2017-01-04',\n",
              "               '2017-01-05', '2017-01-06', '2017-01-07', '2017-01-08',\n",
              "               '2017-01-09', '2017-01-10',\n",
              "               ...\n",
              "               '2017-04-15', '2017-04-16', '2017-04-17', '2017-04-18',\n",
              "               '2017-04-19', '2017-04-20', '2017-04-21', '2017-04-22',\n",
              "               '2017-04-23', '2017-04-24'],\n",
              "              dtype='datetime64[ns]', name='date', length=114, freq=None)"
            ]
          },
          "execution_count": 11,
          "metadata": {},
          "output_type": "execute_result"
        }
      ]
    },
    {
      "cell_type": "markdown",
      "metadata": {
        "id": "Bgvj8SZJXyNE"
      },
      "source": [
        "We can use the resample function to return a unique sampling distribution of a time series about a given frequency. In this example we use 'M' to resample with each month as a frequency. "
      ]
    },
    {
      "cell_type": "code",
      "metadata": {
        "id": "YAXLa2RYpl79",
        "outputId": "fc2810ad-f1e1-48cd-fb6d-a16c7e73164d"
      },
      "source": [
        "data.resample('M').mean()"
      ],
      "execution_count": null,
      "outputs": [
        {
          "data": {
            "text/html": [
              "<div>\n",
              "<style scoped>\n",
              "    .dataframe tbody tr th:only-of-type {\n",
              "        vertical-align: middle;\n",
              "    }\n",
              "\n",
              "    .dataframe tbody tr th {\n",
              "        vertical-align: top;\n",
              "    }\n",
              "\n",
              "    .dataframe thead th {\n",
              "        text-align: right;\n",
              "    }\n",
              "</style>\n",
              "<table border=\"1\" class=\"dataframe\">\n",
              "  <thead>\n",
              "    <tr style=\"text-align: right;\">\n",
              "      <th></th>\n",
              "      <th>meantemp</th>\n",
              "      <th>humidity</th>\n",
              "      <th>wind_speed</th>\n",
              "      <th>meanpressure</th>\n",
              "    </tr>\n",
              "    <tr>\n",
              "      <th>date</th>\n",
              "      <th></th>\n",
              "      <th></th>\n",
              "      <th></th>\n",
              "      <th></th>\n",
              "    </tr>\n",
              "  </thead>\n",
              "  <tbody>\n",
              "    <tr>\n",
              "      <th>2017-01-31</th>\n",
              "      <td>15.710873</td>\n",
              "      <td>77.188256</td>\n",
              "      <td>7.162982</td>\n",
              "      <td>986.767947</td>\n",
              "    </tr>\n",
              "    <tr>\n",
              "      <th>2017-02-28</th>\n",
              "      <td>18.349981</td>\n",
              "      <td>64.375728</td>\n",
              "      <td>7.566294</td>\n",
              "      <td>1015.574251</td>\n",
              "    </tr>\n",
              "    <tr>\n",
              "      <th>2017-03-31</th>\n",
              "      <td>23.753760</td>\n",
              "      <td>48.009694</td>\n",
              "      <td>8.884385</td>\n",
              "      <td>1010.469641</td>\n",
              "    </tr>\n",
              "    <tr>\n",
              "      <th>2017-04-30</th>\n",
              "      <td>30.753663</td>\n",
              "      <td>30.408185</td>\n",
              "      <td>9.128446</td>\n",
              "      <td>1004.564831</td>\n",
              "    </tr>\n",
              "  </tbody>\n",
              "</table>\n",
              "</div>"
            ],
            "text/plain": [
              "             meantemp   humidity  wind_speed  meanpressure\n",
              "date                                                      \n",
              "2017-01-31  15.710873  77.188256    7.162982    986.767947\n",
              "2017-02-28  18.349981  64.375728    7.566294   1015.574251\n",
              "2017-03-31  23.753760  48.009694    8.884385   1010.469641\n",
              "2017-04-30  30.753663  30.408185    9.128446   1004.564831"
            ]
          },
          "execution_count": 12,
          "metadata": {},
          "output_type": "execute_result"
        }
      ]
    },
    {
      "cell_type": "code",
      "metadata": {
        "id": "MBn0wpekpl79",
        "outputId": "12d9fb70-df8e-417a-9653-7cf3187a1231"
      },
      "source": [
        "data.resample('M').mean().plot(kind=\"bar\")"
      ],
      "execution_count": null,
      "outputs": [
        {
          "data": {
            "text/plain": [
              "<AxesSubplot:xlabel='date'>"
            ]
          },
          "execution_count": 13,
          "metadata": {},
          "output_type": "execute_result"
        },
        {
          "data": {
            "image/png": "[encoded data removed]",
            "text/plain": [
              "<Figure size 432x288 with 1 Axes>"
            ]
          },
          "metadata": {
            "needs_background": "light"
          },
          "output_type": "display_data"
        }
      ]
    },
    {
      "cell_type": "code",
      "metadata": {
        "id": "HzgO_ufFpl79"
      },
      "source": [
        ""
      ],
      "execution_count": null,
      "outputs": []
    }
  ]
}