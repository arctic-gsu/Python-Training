{
  "nbformat": 4,
  "nbformat_minor": 0,
  "metadata": {
    "kernelspec": {
      "display_name": "Python 3",
      "language": "python",
      "name": "python3"
    },
    "language_info": {
      "codemirror_mode": {
        "name": "ipython",
        "version": 3
      },
      "file_extension": ".py",
      "mimetype": "text/x-python",
      "name": "python",
      "nbconvert_exporter": "python",
      "pygments_lexer": "ipython3",
      "version": "3.8.6"
    },
    "colab": {
      "name": "Pandas02.ipynb",
      "provenance": []
    }
  },
  "cells": [
    {
      "cell_type": "markdown",
      "metadata": {
        "id": "Cj4v9S17pl70"
      },
      "source": [
        "## Time Series Data"
      ]
    },
    {
      "cell_type": "markdown",
      "metadata": {
        "id": "Qy3_1wgupl71"
      },
      "source": [
        "Time series data is another important class of data. In this session we will explore few Pandas capabilities exploring time series data. The data set that we will use for the current session is  from Kaggle https://www.kaggle.com/mahirkukreja/delhi-weather-data"
      ]
    },
    {
      "cell_type": "code",
      "metadata": {
        "id": "THfPV4YKpl71"
      },
      "source": [
        "import pandas as pd\n",
        "\n",
        "data = pd.read_csv('data/DailyDelhiClimateTest.csv')"
      ],
      "execution_count": 1,
      "outputs": []
    },
    {
      "cell_type": "code",
      "metadata": {
        "id": "Gn2Yydqkpl72"
      },
      "source": [
        "data.to_pickle('data/climateData.pickle')"
      ],
      "execution_count": 2,
      "outputs": []
    },
    {
      "cell_type": "code",
      "metadata": {
        "colab": {
          "base_uri": "https://localhost:8080/",
          "height": 408
        },
        "id": "czPlWwLd6K_W",
        "outputId": "461e7ec5-7a74-4d85-ddfc-0376492694d7"
      },
      "source": [
        "data"
      ],
      "execution_count": 3,
      "outputs": [
        {
          "output_type": "execute_result",
          "data": {
            "text/html": [
              "<div>\n",
              "<style scoped>\n",
              "    .dataframe tbody tr th:only-of-type {\n",
              "        vertical-align: middle;\n",
              "    }\n",
              "\n",
              "    .dataframe tbody tr th {\n",
              "        vertical-align: top;\n",
              "    }\n",
              "\n",
              "    .dataframe thead th {\n",
              "        text-align: right;\n",
              "    }\n",
              "</style>\n",
              "<table border=\"1\" class=\"dataframe\">\n",
              "  <thead>\n",
              "    <tr style=\"text-align: right;\">\n",
              "      <th></th>\n",
              "      <th>date</th>\n",
              "      <th>meantemp</th>\n",
              "      <th>humidity</th>\n",
              "      <th>wind_speed</th>\n",
              "      <th>meanpressure</th>\n",
              "    </tr>\n",
              "  </thead>\n",
              "  <tbody>\n",
              "    <tr>\n",
              "      <th>0</th>\n",
              "      <td>2017-01-01</td>\n",
              "      <td>15.913043</td>\n",
              "      <td>85.869565</td>\n",
              "      <td>2.743478</td>\n",
              "      <td>59.000000</td>\n",
              "    </tr>\n",
              "    <tr>\n",
              "      <th>1</th>\n",
              "      <td>2017-01-02</td>\n",
              "      <td>18.500000</td>\n",
              "      <td>77.222222</td>\n",
              "      <td>2.894444</td>\n",
              "      <td>1018.277778</td>\n",
              "    </tr>\n",
              "    <tr>\n",
              "      <th>2</th>\n",
              "      <td>2017-01-03</td>\n",
              "      <td>17.111111</td>\n",
              "      <td>81.888889</td>\n",
              "      <td>4.016667</td>\n",
              "      <td>1018.333333</td>\n",
              "    </tr>\n",
              "    <tr>\n",
              "      <th>3</th>\n",
              "      <td>2017-01-04</td>\n",
              "      <td>18.700000</td>\n",
              "      <td>70.050000</td>\n",
              "      <td>4.545000</td>\n",
              "      <td>1015.700000</td>\n",
              "    </tr>\n",
              "    <tr>\n",
              "      <th>4</th>\n",
              "      <td>2017-01-05</td>\n",
              "      <td>18.388889</td>\n",
              "      <td>74.944444</td>\n",
              "      <td>3.300000</td>\n",
              "      <td>1014.333333</td>\n",
              "    </tr>\n",
              "    <tr>\n",
              "      <th>...</th>\n",
              "      <td>...</td>\n",
              "      <td>...</td>\n",
              "      <td>...</td>\n",
              "      <td>...</td>\n",
              "      <td>...</td>\n",
              "    </tr>\n",
              "    <tr>\n",
              "      <th>109</th>\n",
              "      <td>2017-04-20</td>\n",
              "      <td>34.500000</td>\n",
              "      <td>27.500000</td>\n",
              "      <td>5.562500</td>\n",
              "      <td>998.625000</td>\n",
              "    </tr>\n",
              "    <tr>\n",
              "      <th>110</th>\n",
              "      <td>2017-04-21</td>\n",
              "      <td>34.250000</td>\n",
              "      <td>39.375000</td>\n",
              "      <td>6.962500</td>\n",
              "      <td>999.875000</td>\n",
              "    </tr>\n",
              "    <tr>\n",
              "      <th>111</th>\n",
              "      <td>2017-04-22</td>\n",
              "      <td>32.900000</td>\n",
              "      <td>40.900000</td>\n",
              "      <td>8.890000</td>\n",
              "      <td>1001.600000</td>\n",
              "    </tr>\n",
              "    <tr>\n",
              "      <th>112</th>\n",
              "      <td>2017-04-23</td>\n",
              "      <td>32.875000</td>\n",
              "      <td>27.500000</td>\n",
              "      <td>9.962500</td>\n",
              "      <td>1002.125000</td>\n",
              "    </tr>\n",
              "    <tr>\n",
              "      <th>113</th>\n",
              "      <td>2017-04-24</td>\n",
              "      <td>32.000000</td>\n",
              "      <td>27.142857</td>\n",
              "      <td>12.157143</td>\n",
              "      <td>1004.142857</td>\n",
              "    </tr>\n",
              "  </tbody>\n",
              "</table>\n",
              "<p>114 rows × 5 columns</p>\n",
              "</div>"
            ],
            "text/plain": [
              "           date   meantemp   humidity  wind_speed  meanpressure\n",
              "0    2017-01-01  15.913043  85.869565    2.743478     59.000000\n",
              "1    2017-01-02  18.500000  77.222222    2.894444   1018.277778\n",
              "2    2017-01-03  17.111111  81.888889    4.016667   1018.333333\n",
              "3    2017-01-04  18.700000  70.050000    4.545000   1015.700000\n",
              "4    2017-01-05  18.388889  74.944444    3.300000   1014.333333\n",
              "..          ...        ...        ...         ...           ...\n",
              "109  2017-04-20  34.500000  27.500000    5.562500    998.625000\n",
              "110  2017-04-21  34.250000  39.375000    6.962500    999.875000\n",
              "111  2017-04-22  32.900000  40.900000    8.890000   1001.600000\n",
              "112  2017-04-23  32.875000  27.500000    9.962500   1002.125000\n",
              "113  2017-04-24  32.000000  27.142857   12.157143   1004.142857\n",
              "\n",
              "[114 rows x 5 columns]"
            ]
          },
          "metadata": {},
          "execution_count": 3
        }
      ]
    },
    {
      "cell_type": "markdown",
      "metadata": {
        "id": "lgo3EkKQWGPP"
      },
      "source": [
        "Pandas offers many intuitive ways of slicing your data"
      ]
    },
    {
      "cell_type": "markdown",
      "metadata": {
        "id": "qlIxS3e2WTd3"
      },
      "source": [
        "print only the column of _dewptm:"
      ]
    },
    {
      "cell_type": "code",
      "metadata": {
        "id": "hTShbM1iWPyC",
        "colab": {
          "base_uri": "https://localhost:8080/"
        },
        "outputId": "abd8e317-988a-4a6c-c60e-b10231e9e452"
      },
      "source": [
        "print(data.humidity)\n",
        "print(data['humidity'])\n"
      ],
      "execution_count": 5,
      "outputs": [
        {
          "output_type": "stream",
          "text": [
            "0      85.869565\n",
            "1      77.222222\n",
            "2      81.888889\n",
            "3      70.050000\n",
            "4      74.944444\n",
            "         ...    \n",
            "109    27.500000\n",
            "110    39.375000\n",
            "111    40.900000\n",
            "112    27.500000\n",
            "113    27.142857\n",
            "Name: humidity, Length: 114, dtype: float64\n",
            "0      85.869565\n",
            "1      77.222222\n",
            "2      81.888889\n",
            "3      70.050000\n",
            "4      74.944444\n",
            "         ...    \n",
            "109    27.500000\n",
            "110    39.375000\n",
            "111    40.900000\n",
            "112    27.500000\n",
            "113    27.142857\n",
            "Name: humidity, Length: 114, dtype: float64\n"
          ],
          "name": "stdout"
        }
      ]
    },
    {
      "cell_type": "markdown",
      "metadata": {
        "id": "2ZfVE1KnWYH_"
      },
      "source": [
        "prints only rows 2 to 4:"
      ]
    },
    {
      "cell_type": "code",
      "metadata": {
        "id": "8VbKmHKDWcOh"
      },
      "source": [
        "print(df[2:5])"
      ],
      "execution_count": null,
      "outputs": []
    },
    {
      "cell_type": "markdown",
      "metadata": {
        "id": "Kvk4IuX3Whyr"
      },
      "source": [
        "provide a list of column names in order to slice multiple columns:"
      ]
    },
    {
      "cell_type": "code",
      "metadata": {
        "id": "6yq4s6L4WlT9",
        "colab": {
          "base_uri": "https://localhost:8080/"
        },
        "outputId": "149852e7-420d-42f6-ea57-f4acf5fdbc80"
      },
      "source": [
        "print(data[['meantemp','humidity']])"
      ],
      "execution_count": 7,
      "outputs": [
        {
          "output_type": "stream",
          "text": [
            "      meantemp   humidity\n",
            "0    15.913043  85.869565\n",
            "1    18.500000  77.222222\n",
            "2    17.111111  81.888889\n",
            "3    18.700000  70.050000\n",
            "4    18.388889  74.944444\n",
            "..         ...        ...\n",
            "109  34.500000  27.500000\n",
            "110  34.250000  39.375000\n",
            "111  32.900000  40.900000\n",
            "112  32.875000  27.500000\n",
            "113  32.000000  27.142857\n",
            "\n",
            "[114 rows x 2 columns]\n"
          ],
          "name": "stdout"
        }
      ]
    },
    {
      "cell_type": "markdown",
      "metadata": {
        "id": "GXna4V3sWnsS"
      },
      "source": [
        "df.loc can slice multiple columns and rows at the same time. You can think of its inputs as a combination of normal python list indexing and pandas column indexing as shown previously"
      ]
    },
    {
      "cell_type": "markdown",
      "metadata": {
        "id": "1TfBChARWzDl"
      },
      "source": [
        "print rows 2 to 4 of the columns meantemp and humidity:"
      ]
    },
    {
      "cell_type": "code",
      "metadata": {
        "id": "GwMdiXMzWz_W",
        "colab": {
          "base_uri": "https://localhost:8080/"
        },
        "outputId": "00ea5377-5232-45fe-a535-999e34928954"
      },
      "source": [
        "print(data.loc[2:5, ['meantemp','humidity']])"
      ],
      "execution_count": 9,
      "outputs": [
        {
          "output_type": "stream",
          "text": [
            "    meantemp   humidity\n",
            "2  17.111111  81.888889\n",
            "3  18.700000  70.050000\n",
            "4  18.388889  74.944444\n",
            "5  19.318182  79.318182\n"
          ],
          "name": "stdout"
        }
      ]
    },
    {
      "cell_type": "code",
      "metadata": {
        "id": "-TaC6GE4pl73",
        "colab": {
          "base_uri": "https://localhost:8080/"
        },
        "outputId": "07701540-abf7-40e1-9357-c8ddbad63b62"
      },
      "source": [
        "data.loc[0:31,'meantemp'].mean()"
      ],
      "execution_count": 10,
      "outputs": [
        {
          "output_type": "execute_result",
          "data": {
            "text/plain": [
              "15.696470314024474"
            ]
          },
          "metadata": {},
          "execution_count": 10
        }
      ]
    },
    {
      "cell_type": "code",
      "metadata": {
        "id": "Nc4lFRFjpl73",
        "colab": {
          "base_uri": "https://localhost:8080/",
          "height": 281
        },
        "outputId": "c297918d-b3bf-4d28-bc25-923aa6ff6cb8"
      },
      "source": [
        "data['humidity'].plot()"
      ],
      "execution_count": 11,
      "outputs": [
        {
          "output_type": "execute_result",
          "data": {
            "text/plain": [
              "<matplotlib.axes._subplots.AxesSubplot at 0x7f3145ce2610>"
            ]
          },
          "metadata": {},
          "execution_count": 11
        },
        {
          "output_type": "display_data",
          "data": {
            "image/png": "[encoded data removed]",
            "text/plain": [
              "<Figure size 432x288 with 1 Axes>"
            ]
          },
          "metadata": {
            "needs_background": "light"
          }
        }
      ]
    },
    {
      "cell_type": "code",
      "metadata": {
        "id": "UGNJ-ux4pl74"
      },
      "source": [
        "data = pd.read_csv('data/DailyDelhiClimateTest.csv',index_col='date')"
      ],
      "execution_count": null,
      "outputs": []
    },
    {
      "cell_type": "code",
      "metadata": {
        "id": "j91U5Xmopl75",
        "outputId": "41a2eadc-f1c4-43ed-a5ba-503607ebd7c8"
      },
      "source": [
        "data.head()"
      ],
      "execution_count": null,
      "outputs": [
        {
          "data": {
            "text/html": [
              "<div>\n",
              "<style scoped>\n",
              "    .dataframe tbody tr th:only-of-type {\n",
              "        vertical-align: middle;\n",
              "    }\n",
              "\n",
              "    .dataframe tbody tr th {\n",
              "        vertical-align: top;\n",
              "    }\n",
              "\n",
              "    .dataframe thead th {\n",
              "        text-align: right;\n",
              "    }\n",
              "</style>\n",
              "<table border=\"1\" class=\"dataframe\">\n",
              "  <thead>\n",
              "    <tr style=\"text-align: right;\">\n",
              "      <th></th>\n",
              "      <th>meantemp</th>\n",
              "      <th>humidity</th>\n",
              "      <th>wind_speed</th>\n",
              "      <th>meanpressure</th>\n",
              "    </tr>\n",
              "    <tr>\n",
              "      <th>date</th>\n",
              "      <th></th>\n",
              "      <th></th>\n",
              "      <th></th>\n",
              "      <th></th>\n",
              "    </tr>\n",
              "  </thead>\n",
              "  <tbody>\n",
              "    <tr>\n",
              "      <th>2017-01-01</th>\n",
              "      <td>15.913043</td>\n",
              "      <td>85.869565</td>\n",
              "      <td>2.743478</td>\n",
              "      <td>59.000000</td>\n",
              "    </tr>\n",
              "    <tr>\n",
              "      <th>2017-01-02</th>\n",
              "      <td>18.500000</td>\n",
              "      <td>77.222222</td>\n",
              "      <td>2.894444</td>\n",
              "      <td>1018.277778</td>\n",
              "    </tr>\n",
              "    <tr>\n",
              "      <th>2017-01-03</th>\n",
              "      <td>17.111111</td>\n",
              "      <td>81.888889</td>\n",
              "      <td>4.016667</td>\n",
              "      <td>1018.333333</td>\n",
              "    </tr>\n",
              "    <tr>\n",
              "      <th>2017-01-04</th>\n",
              "      <td>18.700000</td>\n",
              "      <td>70.050000</td>\n",
              "      <td>4.545000</td>\n",
              "      <td>1015.700000</td>\n",
              "    </tr>\n",
              "    <tr>\n",
              "      <th>2017-01-05</th>\n",
              "      <td>18.388889</td>\n",
              "      <td>74.944444</td>\n",
              "      <td>3.300000</td>\n",
              "      <td>1014.333333</td>\n",
              "    </tr>\n",
              "  </tbody>\n",
              "</table>\n",
              "</div>"
            ],
            "text/plain": [
              "             meantemp   humidity  wind_speed  meanpressure\n",
              "date                                                      \n",
              "2017-01-01  15.913043  85.869565    2.743478     59.000000\n",
              "2017-01-02  18.500000  77.222222    2.894444   1018.277778\n",
              "2017-01-03  17.111111  81.888889    4.016667   1018.333333\n",
              "2017-01-04  18.700000  70.050000    4.545000   1015.700000\n",
              "2017-01-05  18.388889  74.944444    3.300000   1014.333333"
            ]
          },
          "execution_count": 6,
          "metadata": {},
          "output_type": "execute_result"
        }
      ]
    },
    {
      "cell_type": "code",
      "metadata": {
        "id": "ykKsSe7Ipl76",
        "outputId": "367c3d17-3477-45ab-ec57-d6ec9ebd1ddc"
      },
      "source": [
        "data['humidity'].plot()"
      ],
      "execution_count": null,
      "outputs": [
        {
          "data": {
            "text/plain": [
              "<AxesSubplot:xlabel='date'>"
            ]
          },
          "execution_count": 7,
          "metadata": {},
          "output_type": "execute_result"
        },
        {
          "data": {
            "image/png": "[encoded data removed]",
            "text/plain": [
              "<Figure size 432x288 with 1 Axes>"
            ]
          },
          "metadata": {
            "needs_background": "light"
          },
          "output_type": "display_data"
        }
      ]
    },
    {
      "cell_type": "code",
      "metadata": {
        "id": "4ohNToqBpl77"
      },
      "source": [
        "# help(data.resample)"
      ],
      "execution_count": null,
      "outputs": []
    },
    {
      "cell_type": "code",
      "metadata": {
        "id": "abpLFfiZpl77",
        "outputId": "c9e9fa33-afcf-4cbc-915a-39eaac191d3f"
      },
      "source": [
        "data.index"
      ],
      "execution_count": null,
      "outputs": [
        {
          "data": {
            "text/plain": [
              "Index(['2017-01-01', '2017-01-02', '2017-01-03', '2017-01-04', '2017-01-05',\n",
              "       '2017-01-06', '2017-01-07', '2017-01-08', '2017-01-09', '2017-01-10',\n",
              "       ...\n",
              "       '2017-04-15', '2017-04-16', '2017-04-17', '2017-04-18', '2017-04-19',\n",
              "       '2017-04-20', '2017-04-21', '2017-04-22', '2017-04-23', '2017-04-24'],\n",
              "      dtype='object', name='date', length=114)"
            ]
          },
          "execution_count": 9,
          "metadata": {},
          "output_type": "execute_result"
        }
      ]
    },
    {
      "cell_type": "code",
      "metadata": {
        "id": "DzEbt6Yrpl78"
      },
      "source": [
        "data.index = pd.to_datetime(data.index)"
      ],
      "execution_count": null,
      "outputs": []
    },
    {
      "cell_type": "code",
      "metadata": {
        "id": "PMzHGiy3pl78",
        "outputId": "360ef28a-96f4-4aca-8131-4cab3953dd5c"
      },
      "source": [
        "data.index"
      ],
      "execution_count": null,
      "outputs": [
        {
          "data": {
            "text/plain": [
              "DatetimeIndex(['2017-01-01', '2017-01-02', '2017-01-03', '2017-01-04',\n",
              "               '2017-01-05', '2017-01-06', '2017-01-07', '2017-01-08',\n",
              "               '2017-01-09', '2017-01-10',\n",
              "               ...\n",
              "               '2017-04-15', '2017-04-16', '2017-04-17', '2017-04-18',\n",
              "               '2017-04-19', '2017-04-20', '2017-04-21', '2017-04-22',\n",
              "               '2017-04-23', '2017-04-24'],\n",
              "              dtype='datetime64[ns]', name='date', length=114, freq=None)"
            ]
          },
          "execution_count": 11,
          "metadata": {},
          "output_type": "execute_result"
        }
      ]
    },
    {
      "cell_type": "markdown",
      "metadata": {
        "id": "Bgvj8SZJXyNE"
      },
      "source": [
        "We can use the resample function to return a unique sampling distribution of a time series about a given frequency. In this example we use 'M' to resample with each month as a frequency. "
      ]
    },
    {
      "cell_type": "code",
      "metadata": {
        "id": "YAXLa2RYpl79",
        "outputId": "fc2810ad-f1e1-48cd-fb6d-a16c7e73164d"
      },
      "source": [
        "data.resample('M').mean()"
      ],
      "execution_count": null,
      "outputs": [
        {
          "data": {
            "text/html": [
              "<div>\n",
              "<style scoped>\n",
              "    .dataframe tbody tr th:only-of-type {\n",
              "        vertical-align: middle;\n",
              "    }\n",
              "\n",
              "    .dataframe tbody tr th {\n",
              "        vertical-align: top;\n",
              "    }\n",
              "\n",
              "    .dataframe thead th {\n",
              "        text-align: right;\n",
              "    }\n",
              "</style>\n",
              "<table border=\"1\" class=\"dataframe\">\n",
              "  <thead>\n",
              "    <tr style=\"text-align: right;\">\n",
              "      <th></th>\n",
              "      <th>meantemp</th>\n",
              "      <th>humidity</th>\n",
              "      <th>wind_speed</th>\n",
              "      <th>meanpressure</th>\n",
              "    </tr>\n",
              "    <tr>\n",
              "      <th>date</th>\n",
              "      <th></th>\n",
              "      <th></th>\n",
              "      <th></th>\n",
              "      <th></th>\n",
              "    </tr>\n",
              "  </thead>\n",
              "  <tbody>\n",
              "    <tr>\n",
              "      <th>2017-01-31</th>\n",
              "      <td>15.710873</td>\n",
              "      <td>77.188256</td>\n",
              "      <td>7.162982</td>\n",
              "      <td>986.767947</td>\n",
              "    </tr>\n",
              "    <tr>\n",
              "      <th>2017-02-28</th>\n",
              "      <td>18.349981</td>\n",
              "      <td>64.375728</td>\n",
              "      <td>7.566294</td>\n",
              "      <td>1015.574251</td>\n",
              "    </tr>\n",
              "    <tr>\n",
              "      <th>2017-03-31</th>\n",
              "      <td>23.753760</td>\n",
              "      <td>48.009694</td>\n",
              "      <td>8.884385</td>\n",
              "      <td>1010.469641</td>\n",
              "    </tr>\n",
              "    <tr>\n",
              "      <th>2017-04-30</th>\n",
              "      <td>30.753663</td>\n",
              "      <td>30.408185</td>\n",
              "      <td>9.128446</td>\n",
              "      <td>1004.564831</td>\n",
              "    </tr>\n",
              "  </tbody>\n",
              "</table>\n",
              "</div>"
            ],
            "text/plain": [
              "             meantemp   humidity  wind_speed  meanpressure\n",
              "date                                                      \n",
              "2017-01-31  15.710873  77.188256    7.162982    986.767947\n",
              "2017-02-28  18.349981  64.375728    7.566294   1015.574251\n",
              "2017-03-31  23.753760  48.009694    8.884385   1010.469641\n",
              "2017-04-30  30.753663  30.408185    9.128446   1004.564831"
            ]
          },
          "execution_count": 12,
          "metadata": {},
          "output_type": "execute_result"
        }
      ]
    },
    {
      "cell_type": "code",
      "metadata": {
        "id": "MBn0wpekpl79",
        "outputId": "12d9fb70-df8e-417a-9653-7cf3187a1231"
      },
      "source": [
        "data.resample('M').mean().plot(kind=\"bar\")"
      ],
      "execution_count": null,
      "outputs": [
        {
          "data": {
            "text/plain": [
              "<AxesSubplot:xlabel='date'>"
            ]
          },
          "execution_count": 13,
          "metadata": {},
          "output_type": "execute_result"
        },
        {
          "data": {
            "image/png": "[encoded data removed]",
            "text/plain": [
              "<Figure size 432x288 with 1 Axes>"
            ]
          },
          "metadata": {
            "needs_background": "light"
          },
          "output_type": "display_data"
        }
      ]
    },
    {
      "cell_type": "code",
      "metadata": {
        "id": "HzgO_ufFpl79"
      },
      "source": [
        ""
      ],
      "execution_count": null,
      "outputs": []
    }
  ]
}