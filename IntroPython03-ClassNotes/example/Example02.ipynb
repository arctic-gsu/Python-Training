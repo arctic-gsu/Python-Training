{
 "cells": [
  {
   "cell_type": "markdown",
   "metadata": {},
   "source": [
    "Let's find out the top 10 number of county that has highest number of stores that are open 24 hours on Saturday."
   ]
  },
  {
   "cell_type": "code",
   "execution_count": 9,
   "metadata": {},
   "outputs": [],
   "source": [
    "import pandas as pd"
   ]
  },
  {
   "cell_type": "code",
   "execution_count": 10,
   "metadata": {},
   "outputs": [],
   "source": [
    "df = pd.read_pickle('../data/dunkinDonuts.pickle')"
   ]
  },
  {
   "cell_type": "code",
   "execution_count": 11,
   "metadata": {},
   "outputs": [
    {
     "data": {
      "text/html": [
       "<div>\n",
       "<style scoped>\n",
       "    .dataframe tbody tr th:only-of-type {\n",
       "        vertical-align: middle;\n",
       "    }\n",
       "\n",
       "    .dataframe tbody tr th {\n",
       "        vertical-align: top;\n",
       "    }\n",
       "\n",
       "    .dataframe thead th {\n",
       "        text-align: right;\n",
       "    }\n",
       "</style>\n",
       "<table border=\"1\" class=\"dataframe\">\n",
       "  <thead>\n",
       "    <tr style=\"text-align: right;\">\n",
       "      <th></th>\n",
       "      <th>address</th>\n",
       "      <th>address2</th>\n",
       "      <th>city</th>\n",
       "      <th>phonenumber</th>\n",
       "      <th>county</th>\n",
       "      <th>country</th>\n",
       "      <th>sat_hours</th>\n",
       "      <th>sun_hours</th>\n",
       "      <th>distance</th>\n",
       "    </tr>\n",
       "  </thead>\n",
       "  <tbody>\n",
       "    <tr>\n",
       "      <th>0</th>\n",
       "      <td>180 S Airport Blvd</td>\n",
       "      <td></td>\n",
       "      <td>South San Francisco</td>\n",
       "      <td>650-742-9101</td>\n",
       "      <td>San Mateo</td>\n",
       "      <td>US</td>\n",
       "      <td>24HOURS</td>\n",
       "      <td>24HOURS</td>\n",
       "      <td>8.685433</td>\n",
       "    </tr>\n",
       "    <tr>\n",
       "      <th>1</th>\n",
       "      <td>451 Hegenberger Rd</td>\n",
       "      <td></td>\n",
       "      <td>Oakland</td>\n",
       "      <td>510-639-9188</td>\n",
       "      <td>Alameda</td>\n",
       "      <td>US</td>\n",
       "      <td>05:00-18:00</td>\n",
       "      <td>05:00-18:00</td>\n",
       "      <td>12.394248</td>\n",
       "    </tr>\n",
       "    <tr>\n",
       "      <th>2</th>\n",
       "      <td>268 Jackson St</td>\n",
       "      <td></td>\n",
       "      <td>Hayward</td>\n",
       "      <td>510-244-7191</td>\n",
       "      <td>Alameda</td>\n",
       "      <td>US</td>\n",
       "      <td>06:00-18:00</td>\n",
       "      <td>06:00-18:00</td>\n",
       "      <td>19.872148</td>\n",
       "    </tr>\n",
       "    <tr>\n",
       "      <th>3</th>\n",
       "      <td>240 El Camino Real</td>\n",
       "      <td></td>\n",
       "      <td>San Carlos</td>\n",
       "      <td>650-832-1462</td>\n",
       "      <td>San Mateo</td>\n",
       "      <td>US</td>\n",
       "      <td>05:00-18:00</td>\n",
       "      <td>05:00-18:00</td>\n",
       "      <td>20.082637</td>\n",
       "    </tr>\n",
       "    <tr>\n",
       "      <th>4</th>\n",
       "      <td>118 San Mateo Rd</td>\n",
       "      <td></td>\n",
       "      <td>Half Moon Bay</td>\n",
       "      <td>650-560-0106</td>\n",
       "      <td>San Mateo</td>\n",
       "      <td>US</td>\n",
       "      <td>05:00-18:00</td>\n",
       "      <td>05:00-18:00</td>\n",
       "      <td>21.177412</td>\n",
       "    </tr>\n",
       "  </tbody>\n",
       "</table>\n",
       "</div>"
      ],
      "text/plain": [
       "              address address2                 city   phonenumber     county  \\\n",
       "0  180 S Airport Blvd           South San Francisco  650-742-9101  San Mateo   \n",
       "1  451 Hegenberger Rd                       Oakland  510-639-9188    Alameda   \n",
       "2      268 Jackson St                       Hayward  510-244-7191    Alameda   \n",
       "3  240 El Camino Real                    San Carlos  650-832-1462  San Mateo   \n",
       "4    118 San Mateo Rd                 Half Moon Bay  650-560-0106  San Mateo   \n",
       "\n",
       "  country    sat_hours    sun_hours   distance  \n",
       "0      US      24HOURS      24HOURS   8.685433  \n",
       "1      US  05:00-18:00  05:00-18:00  12.394248  \n",
       "2      US  06:00-18:00  06:00-18:00  19.872148  \n",
       "3      US  05:00-18:00  05:00-18:00  20.082637  \n",
       "4      US  05:00-18:00  05:00-18:00  21.177412  "
      ]
     },
     "execution_count": 11,
     "metadata": {},
     "output_type": "execute_result"
    }
   ],
   "source": [
    "df.head()"
   ]
  },
  {
   "cell_type": "code",
   "execution_count": 12,
   "metadata": {},
   "outputs": [],
   "source": [
    " df['county']=df['county'].apply(lambda x:'Cook' if x=='COOK' else x)"
   ]
  },
  {
   "cell_type": "code",
   "execution_count": 13,
   "metadata": {},
   "outputs": [],
   "source": [
    " df['county']=df['county'].apply(lambda x:'Queens' if x=='QUEENS' else x)"
   ]
  },
  {
   "cell_type": "code",
   "execution_count": 14,
   "metadata": {},
   "outputs": [],
   "source": [
    " df['county']=df['county'].apply(lambda x:'Middlesex' if x=='MIDDLESEX' else x)"
   ]
  },
  {
   "cell_type": "code",
   "execution_count": 15,
   "metadata": {},
   "outputs": [],
   "source": [
    "df_1 = df[df['sat_hours']=='24HOURS']"
   ]
  },
  {
   "cell_type": "code",
   "execution_count": 16,
   "metadata": {},
   "outputs": [
    {
     "data": {
      "text/plain": [
       "<AxesSubplot:>"
      ]
     },
     "execution_count": 16,
     "metadata": {},
     "output_type": "execute_result"
    },
    {
     "data": {
      "image/png": "[encoded data removed]",
      "text/plain": [
       "<Figure size 432x288 with 1 Axes>"
      ]
     },
     "metadata": {
      "needs_background": "light"
     },
     "output_type": "display_data"
    }
   ],
   "source": [
    "df_1['county'].value_counts().head(10).plot(kind=\"bar\")"
   ]
  },
  {
   "cell_type": "code",
   "execution_count": null,
   "metadata": {},
   "outputs": [],
   "source": []
  }
 ],
 "metadata": {
  "kernelspec": {
   "display_name": "Python 3",
   "language": "python",
   "name": "python3"
  },
  "language_info": {
   "codemirror_mode": {
    "name": "ipython",
    "version": 3
   },
   "file_extension": ".py",
   "mimetype": "text/x-python",
   "name": "python",
   "nbconvert_exporter": "python",
   "pygments_lexer": "ipython3",
   "version": "3.8.6"
  }
 },
 "nbformat": 4,
 "nbformat_minor": 4
}
