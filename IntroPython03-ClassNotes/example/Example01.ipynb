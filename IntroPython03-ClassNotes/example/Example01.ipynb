{
 "cells": [
  {
   "cell_type": "markdown",
   "metadata": {},
   "source": [
    "Let's plot the pie chart of the 10 county which has highest number of store"
   ]
  },
  {
   "cell_type": "code",
   "execution_count": 10,
   "metadata": {},
   "outputs": [],
   "source": [
    "import pandas as pd\n",
    "\n",
    "df = pd.read_pickle('../data/dunkinDonuts.pickle')"
   ]
  },
  {
   "cell_type": "code",
   "execution_count": 11,
   "metadata": {},
   "outputs": [
    {
     "data": {
      "text/html": [
       "<div>\n",
       "<style scoped>\n",
       "    .dataframe tbody tr th:only-of-type {\n",
       "        vertical-align: middle;\n",
       "    }\n",
       "\n",
       "    .dataframe tbody tr th {\n",
       "        vertical-align: top;\n",
       "    }\n",
       "\n",
       "    .dataframe thead th {\n",
       "        text-align: right;\n",
       "    }\n",
       "</style>\n",
       "<table border=\"1\" class=\"dataframe\">\n",
       "  <thead>\n",
       "    <tr style=\"text-align: right;\">\n",
       "      <th></th>\n",
       "      <th>address</th>\n",
       "      <th>address2</th>\n",
       "      <th>city</th>\n",
       "      <th>phonenumber</th>\n",
       "      <th>county</th>\n",
       "      <th>country</th>\n",
       "      <th>sat_hours</th>\n",
       "      <th>sun_hours</th>\n",
       "      <th>distance</th>\n",
       "    </tr>\n",
       "  </thead>\n",
       "  <tbody>\n",
       "    <tr>\n",
       "      <th>0</th>\n",
       "      <td>180 S Airport Blvd</td>\n",
       "      <td></td>\n",
       "      <td>South San Francisco</td>\n",
       "      <td>650-742-9101</td>\n",
       "      <td>San Mateo</td>\n",
       "      <td>US</td>\n",
       "      <td>24HOURS</td>\n",
       "      <td>24HOURS</td>\n",
       "      <td>8.685433</td>\n",
       "    </tr>\n",
       "    <tr>\n",
       "      <th>1</th>\n",
       "      <td>451 Hegenberger Rd</td>\n",
       "      <td></td>\n",
       "      <td>Oakland</td>\n",
       "      <td>510-639-9188</td>\n",
       "      <td>Alameda</td>\n",
       "      <td>US</td>\n",
       "      <td>05:00-18:00</td>\n",
       "      <td>05:00-18:00</td>\n",
       "      <td>12.394248</td>\n",
       "    </tr>\n",
       "    <tr>\n",
       "      <th>2</th>\n",
       "      <td>268 Jackson St</td>\n",
       "      <td></td>\n",
       "      <td>Hayward</td>\n",
       "      <td>510-244-7191</td>\n",
       "      <td>Alameda</td>\n",
       "      <td>US</td>\n",
       "      <td>06:00-18:00</td>\n",
       "      <td>06:00-18:00</td>\n",
       "      <td>19.872148</td>\n",
       "    </tr>\n",
       "    <tr>\n",
       "      <th>3</th>\n",
       "      <td>240 El Camino Real</td>\n",
       "      <td></td>\n",
       "      <td>San Carlos</td>\n",
       "      <td>650-832-1462</td>\n",
       "      <td>San Mateo</td>\n",
       "      <td>US</td>\n",
       "      <td>05:00-18:00</td>\n",
       "      <td>05:00-18:00</td>\n",
       "      <td>20.082637</td>\n",
       "    </tr>\n",
       "    <tr>\n",
       "      <th>4</th>\n",
       "      <td>118 San Mateo Rd</td>\n",
       "      <td></td>\n",
       "      <td>Half Moon Bay</td>\n",
       "      <td>650-560-0106</td>\n",
       "      <td>San Mateo</td>\n",
       "      <td>US</td>\n",
       "      <td>05:00-18:00</td>\n",
       "      <td>05:00-18:00</td>\n",
       "      <td>21.177412</td>\n",
       "    </tr>\n",
       "  </tbody>\n",
       "</table>\n",
       "</div>"
      ],
      "text/plain": [
       "              address address2                 city   phonenumber     county  \\\n",
       "0  180 S Airport Blvd           South San Francisco  650-742-9101  San Mateo   \n",
       "1  451 Hegenberger Rd                       Oakland  510-639-9188    Alameda   \n",
       "2      268 Jackson St                       Hayward  510-244-7191    Alameda   \n",
       "3  240 El Camino Real                    San Carlos  650-832-1462  San Mateo   \n",
       "4    118 San Mateo Rd                 Half Moon Bay  650-560-0106  San Mateo   \n",
       "\n",
       "  country    sat_hours    sun_hours   distance  \n",
       "0      US      24HOURS      24HOURS   8.685433  \n",
       "1      US  05:00-18:00  05:00-18:00  12.394248  \n",
       "2      US  06:00-18:00  06:00-18:00  19.872148  \n",
       "3      US  05:00-18:00  05:00-18:00  20.082637  \n",
       "4      US  05:00-18:00  05:00-18:00  21.177412  "
      ]
     },
     "execution_count": 11,
     "metadata": {},
     "output_type": "execute_result"
    }
   ],
   "source": [
    "df.head()"
   ]
  },
  {
   "cell_type": "markdown",
   "metadata": {},
   "source": [
    "https://pandas.pydata.org/docs/reference/api/pandas.DataFrame.apply.html"
   ]
  },
  {
   "cell_type": "code",
   "execution_count": 12,
   "metadata": {},
   "outputs": [
    {
     "data": {
      "text/html": [
       "<div>\n",
       "<style scoped>\n",
       "    .dataframe tbody tr th:only-of-type {\n",
       "        vertical-align: middle;\n",
       "    }\n",
       "\n",
       "    .dataframe tbody tr th {\n",
       "        vertical-align: top;\n",
       "    }\n",
       "\n",
       "    .dataframe thead th {\n",
       "        text-align: right;\n",
       "    }\n",
       "</style>\n",
       "<table border=\"1\" class=\"dataframe\">\n",
       "  <thead>\n",
       "    <tr style=\"text-align: right;\">\n",
       "      <th></th>\n",
       "      <th>address</th>\n",
       "      <th>address2</th>\n",
       "      <th>city</th>\n",
       "      <th>phonenumber</th>\n",
       "      <th>county</th>\n",
       "      <th>country</th>\n",
       "      <th>sat_hours</th>\n",
       "      <th>sun_hours</th>\n",
       "      <th>distance</th>\n",
       "    </tr>\n",
       "  </thead>\n",
       "  <tbody>\n",
       "    <tr>\n",
       "      <th>0</th>\n",
       "      <td>180 S Airport Blvd</td>\n",
       "      <td></td>\n",
       "      <td>South San Francisco</td>\n",
       "      <td>650-742-9101</td>\n",
       "      <td>San Mateo</td>\n",
       "      <td>US</td>\n",
       "      <td>24HOURS</td>\n",
       "      <td>24HOURS</td>\n",
       "      <td>8.685433</td>\n",
       "    </tr>\n",
       "    <tr>\n",
       "      <th>1</th>\n",
       "      <td>451 Hegenberger Rd</td>\n",
       "      <td></td>\n",
       "      <td>Oakland</td>\n",
       "      <td>510-639-9188</td>\n",
       "      <td>Alameda</td>\n",
       "      <td>US</td>\n",
       "      <td>05:00-18:00</td>\n",
       "      <td>05:00-18:00</td>\n",
       "      <td>12.394248</td>\n",
       "    </tr>\n",
       "    <tr>\n",
       "      <th>2</th>\n",
       "      <td>268 Jackson St</td>\n",
       "      <td></td>\n",
       "      <td>Hayward</td>\n",
       "      <td>510-244-7191</td>\n",
       "      <td>Alameda</td>\n",
       "      <td>US</td>\n",
       "      <td>06:00-18:00</td>\n",
       "      <td>06:00-18:00</td>\n",
       "      <td>19.872148</td>\n",
       "    </tr>\n",
       "    <tr>\n",
       "      <th>3</th>\n",
       "      <td>240 El Camino Real</td>\n",
       "      <td></td>\n",
       "      <td>San Carlos</td>\n",
       "      <td>650-832-1462</td>\n",
       "      <td>San Mateo</td>\n",
       "      <td>US</td>\n",
       "      <td>05:00-18:00</td>\n",
       "      <td>05:00-18:00</td>\n",
       "      <td>20.082637</td>\n",
       "    </tr>\n",
       "    <tr>\n",
       "      <th>4</th>\n",
       "      <td>118 San Mateo Rd</td>\n",
       "      <td></td>\n",
       "      <td>Half Moon Bay</td>\n",
       "      <td>650-560-0106</td>\n",
       "      <td>San Mateo</td>\n",
       "      <td>US</td>\n",
       "      <td>05:00-18:00</td>\n",
       "      <td>05:00-18:00</td>\n",
       "      <td>21.177412</td>\n",
       "    </tr>\n",
       "    <tr>\n",
       "      <th>5</th>\n",
       "      <td>1250 Newell Ave</td>\n",
       "      <td>Suite K</td>\n",
       "      <td>Walnut Creek</td>\n",
       "      <td>925-946-1134</td>\n",
       "      <td>Contra Costa</td>\n",
       "      <td>US</td>\n",
       "      <td>06:00-18:00</td>\n",
       "      <td>06:00-18:00</td>\n",
       "      <td>21.543355</td>\n",
       "    </tr>\n",
       "    <tr>\n",
       "      <th>6</th>\n",
       "      <td>593 Woodside Road</td>\n",
       "      <td></td>\n",
       "      <td>Redwood City</td>\n",
       "      <td>--</td>\n",
       "      <td>San Mateo</td>\n",
       "      <td>US</td>\n",
       "      <td>24HOURS</td>\n",
       "      <td>24HOURS</td>\n",
       "      <td>23.671874</td>\n",
       "    </tr>\n",
       "    <tr>\n",
       "      <th>7</th>\n",
       "      <td>4383 Clayton Rd</td>\n",
       "      <td>Suite 10</td>\n",
       "      <td>Concord</td>\n",
       "      <td>925-363-3454</td>\n",
       "      <td>Contra Costa</td>\n",
       "      <td>US</td>\n",
       "      <td>06:00-18:00</td>\n",
       "      <td>06:00-18:00</td>\n",
       "      <td>26.841816</td>\n",
       "    </tr>\n",
       "    <tr>\n",
       "      <th>8</th>\n",
       "      <td>5255 Mowry Ave</td>\n",
       "      <td></td>\n",
       "      <td>Fremont</td>\n",
       "      <td>510-739-2383</td>\n",
       "      <td>Alameda</td>\n",
       "      <td>US</td>\n",
       "      <td>05:00-18:00</td>\n",
       "      <td>05:00-18:00</td>\n",
       "      <td>28.290179</td>\n",
       "    </tr>\n",
       "    <tr>\n",
       "      <th>9</th>\n",
       "      <td>410 Napa Junction Rd</td>\n",
       "      <td>Suite 100</td>\n",
       "      <td>American Canyon</td>\n",
       "      <td>707-320-0685</td>\n",
       "      <td>Napa</td>\n",
       "      <td>US</td>\n",
       "      <td>05:00-22:00</td>\n",
       "      <td>05:00-22:00</td>\n",
       "      <td>29.722487</td>\n",
       "    </tr>\n",
       "  </tbody>\n",
       "</table>\n",
       "</div>"
      ],
      "text/plain": [
       "                address   address2                 city   phonenumber  \\\n",
       "0    180 S Airport Blvd             South San Francisco  650-742-9101   \n",
       "1    451 Hegenberger Rd                         Oakland  510-639-9188   \n",
       "2        268 Jackson St                         Hayward  510-244-7191   \n",
       "3    240 El Camino Real                      San Carlos  650-832-1462   \n",
       "4      118 San Mateo Rd                   Half Moon Bay  650-560-0106   \n",
       "5       1250 Newell Ave    Suite K         Walnut Creek  925-946-1134   \n",
       "6     593 Woodside Road                    Redwood City            --   \n",
       "7       4383 Clayton Rd   Suite 10              Concord  925-363-3454   \n",
       "8        5255 Mowry Ave                         Fremont  510-739-2383   \n",
       "9  410 Napa Junction Rd  Suite 100      American Canyon  707-320-0685   \n",
       "\n",
       "         county country    sat_hours    sun_hours   distance  \n",
       "0     San Mateo      US      24HOURS      24HOURS   8.685433  \n",
       "1       Alameda      US  05:00-18:00  05:00-18:00  12.394248  \n",
       "2       Alameda      US  06:00-18:00  06:00-18:00  19.872148  \n",
       "3     San Mateo      US  05:00-18:00  05:00-18:00  20.082637  \n",
       "4     San Mateo      US  05:00-18:00  05:00-18:00  21.177412  \n",
       "5  Contra Costa      US  06:00-18:00  06:00-18:00  21.543355  \n",
       "6     San Mateo      US      24HOURS      24HOURS  23.671874  \n",
       "7  Contra Costa      US  06:00-18:00  06:00-18:00  26.841816  \n",
       "8       Alameda      US  05:00-18:00  05:00-18:00  28.290179  \n",
       "9          Napa      US  05:00-22:00  05:00-22:00  29.722487  "
      ]
     },
     "execution_count": 12,
     "metadata": {},
     "output_type": "execute_result"
    }
   ],
   "source": [
    "df.head(10)"
   ]
  },
  {
   "cell_type": "code",
   "execution_count": 13,
   "metadata": {},
   "outputs": [
    {
     "data": {
      "text/plain": [
       "<AxesSubplot:ylabel='county'>"
      ]
     },
     "execution_count": 13,
     "metadata": {},
     "output_type": "execute_result"
    },
    {
     "data": {
      "image/png": "[encoded data removed]",
      "text/plain": [
       "<Figure size 432x288 with 1 Axes>"
      ]
     },
     "metadata": {},
     "output_type": "display_data"
    }
   ],
   "source": [
    "df['county'].value_counts()[:10].plot(kind=\"pie\", autopct='%1.1f%%')"
   ]
  },
  {
   "cell_type": "code",
   "execution_count": 14,
   "metadata": {},
   "outputs": [
    {
     "data": {
      "text/plain": [
       "Cook            344\n",
       "Middlesex       284\n",
       "Suffolk         223\n",
       "New York        167\n",
       "Queens          159\n",
       "Essex           135\n",
       "Orange          126\n",
       "Hillsborough    111\n",
       "Montgomery      109\n",
       "Kings           108\n",
       "Name: county, dtype: int64"
      ]
     },
     "execution_count": 14,
     "metadata": {},
     "output_type": "execute_result"
    }
   ],
   "source": [
    "df['county'].value_counts().head(10)"
   ]
  },
  {
   "cell_type": "code",
   "execution_count": 15,
   "metadata": {},
   "outputs": [
    {
     "data": {
      "text/plain": [
       "<AxesSubplot:ylabel='county'>"
      ]
     },
     "execution_count": 15,
     "metadata": {},
     "output_type": "execute_result"
    },
    {
     "data": {
      "image/png": "[encoded data removed]",
      "text/plain": [
       "<Figure size 432x288 with 1 Axes>"
      ]
     },
     "metadata": {},
     "output_type": "display_data"
    }
   ],
   "source": [
    "df['county'].value_counts().tail(10).plot(kind=\"pie\", autopct='%1.1f%%')"
   ]
  },
  {
   "cell_type": "code",
   "execution_count": 16,
   "metadata": {},
   "outputs": [
    {
     "data": {
      "text/plain": [
       "King George    1\n",
       "Sumpter        1\n",
       "Schuyler       1\n",
       "Allegany       1\n",
       "Dillon         1\n",
       "St. Johns      1\n",
       "Tyrrell        1\n",
       "Gilmer         1\n",
       "Imperial       1\n",
       "NEWTON         1\n",
       "Name: county, dtype: int64"
      ]
     },
     "execution_count": 16,
     "metadata": {},
     "output_type": "execute_result"
    }
   ],
   "source": [
    "df['county'].value_counts().tail(10)"
   ]
  }
 ],
 "metadata": {
  "kernelspec": {
   "display_name": "Python 3",
   "language": "python",
   "name": "python3"
  },
  "language_info": {
   "codemirror_mode": {
    "name": "ipython",
    "version": 3
   },
   "file_extension": ".py",
   "mimetype": "text/x-python",
   "name": "python",
   "nbconvert_exporter": "python",
   "pygments_lexer": "ipython3",
   "version": "3.8.6"
  }
 },
 "nbformat": 4,
 "nbformat_minor": 4
}
